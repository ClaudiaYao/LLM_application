{
  "cells": [
    {
      "cell_type": "code",
      "source": [
        "'''\n",
        "A medium article about how to use Doc2Vec: https://medium.com/wisio/a-gentle-introduction-to-doc2vec-db3e8c0cce5e\n",
        "Gensim Documentation about Doc2Vec: https://radimrehurek.com/gensim/models/doc2vec.html\n",
        "Gensim Documentation about Doc2Vec: https://radimrehurek.com/gensim/auto_examples/tutorials/run_doc2vec_lee.html#sphx-glr-auto-examples-tutorials-run-doc2vec-lee-py\n",
        "\n",
        "'''"
      ],
      "metadata": {
        "id": "M5PBjK1U8T9o"
      },
      "execution_count": null,
      "outputs": []
    },
    {
      "cell_type": "markdown",
      "source": [],
      "metadata": {
        "id": "gFKHlRgm8Tbg"
      }
    },
    {
      "cell_type": "markdown",
      "metadata": {
        "id": "8CzNlGgGgkRW"
      },
      "source": [
        "# EDA, Wrangling, and Initial Preprocessing"
      ]
    },
    {
      "cell_type": "markdown",
      "metadata": {
        "id": "TWh-MDrfgkRX"
      },
      "source": [
        "To start, I was choosing between these datasets:\n",
        "* Customer Support on Twitter https://www.kaggle.com/thoughtvector/customer-support-on-twitter\n",
        "* Ubuntu Dialogue Corpus https://www.kaggle.com/rtatman/ubuntu-dialogue-corpus\n",
        "* Relational Services in Customer Service (RSICS) https://nextit-public.s3-us-west-2.amazonaws.com/rsics.html"
      ]
    },
    {
      "cell_type": "markdown",
      "metadata": {
        "id": "88l-hFafgkRY"
      },
      "source": [
        "Since I am making a chatbot for helping with application problems, the following block defines the format of intents I want to classify as the keys. The values are the predefined responses that I might want to put. This is just a toy example to illustrate this concept for context. The unsupervised learning happens in the following notebook, this notebook is just to apply my wrangling and entire preprocessing pipeline and familiarize myself with my data."
      ]
    },
    {
      "cell_type": "markdown",
      "source": [
        "## 1. Download data and unzip it"
      ],
      "metadata": {
        "id": "T0btxSrA8AYZ"
      }
    },
    {
      "cell_type": "code",
      "source": [
        "!kaggle datasets download -d thoughtvector/customer-support-on-twitter"
      ],
      "metadata": {
        "colab": {
          "base_uri": "https://localhost:8080/"
        },
        "id": "3jaj8bCKywSp",
        "outputId": "d9b70049-b4aa-4dce-da43-5d9f45ea1486"
      },
      "execution_count": 1,
      "outputs": [
        {
          "output_type": "stream",
          "name": "stdout",
          "text": [
            "Dataset URL: https://www.kaggle.com/datasets/thoughtvector/customer-support-on-twitter\n",
            "License(s): CC-BY-NC-SA-4.0\n",
            "Downloading customer-support-on-twitter.zip to /content\n",
            "100% 168M/169M [00:02<00:00, 73.4MB/s]\n",
            "100% 169M/169M [00:02<00:00, 77.3MB/s]\n"
          ]
        }
      ]
    },
    {
      "cell_type": "code",
      "source": [
        "!unzip customer-support-on-twitter.zip"
      ],
      "metadata": {
        "colab": {
          "base_uri": "https://localhost:8080/"
        },
        "id": "fK8KGEpHzGfD",
        "outputId": "6c330dba-8ca6-46ab-c4e4-cd76e6ce8f41"
      },
      "execution_count": 2,
      "outputs": [
        {
          "output_type": "stream",
          "name": "stdout",
          "text": [
            "Archive:  customer-support-on-twitter.zip\n",
            "  inflating: sample.csv              \n",
            "  inflating: twcs/twcs.csv           \n"
          ]
        }
      ]
    },
    {
      "cell_type": "code",
      "execution_count": 3,
      "metadata": {
        "colab": {
          "base_uri": "https://localhost:8080/",
          "height": 103,
          "referenced_widgets": [
            "5b83b93474094a27b4130b6be82c3483",
            "605e2bb94c3f4201bb6cfd039681ff24",
            "0bd4909b00d5430eaa317683319d22d6",
            "74a2350ab0e44de58abbd1785caeb90a",
            "c865389ddc6240e2b877186ea083d1c0",
            "0ad742ad715b4704a4f75507fb56a415",
            "69e7f931cd1e4045b1a92433540634dd",
            "4f1e1b960cca41298c9c6cabb071ae90",
            "6ab5a9738d4f4e9797df264b234d4850",
            "a71e87ed02fc43e59382f9b37480368e",
            "d0a9f2990309444f9b7970e52ee5bd76"
          ]
        },
        "id": "SKqBWRcFgkRY",
        "outputId": "6ea153fb-ba3c-4b78-d015-61e9d83deae9"
      },
      "outputs": [
        {
          "output_type": "stream",
          "name": "stderr",
          "text": [
            "<ipython-input-3-acfdc21ec6f9>:23: TqdmDeprecationWarning: This function will be removed in tqdm==5.0.0\n",
            "Please use `tqdm.notebook.tqdm` instead of `tqdm.tqdm_notebook`\n",
            "  tqdm().pandas()  # Enable tracking of execution progress\n"
          ]
        },
        {
          "output_type": "display_data",
          "data": {
            "text/plain": [
              "0it [00:00, ?it/s]"
            ],
            "application/vnd.jupyter.widget-view+json": {
              "version_major": 2,
              "version_minor": 0,
              "model_id": "5b83b93474094a27b4130b6be82c3483"
            }
          },
          "metadata": {}
        }
      ],
      "source": [
        "import pandas as pd\n",
        "import numpy as np\n",
        "import matplotlib.pyplot as plt\n",
        "import spacy\n",
        "\n",
        "import re\n",
        "import nltk\n",
        "# from spellchecker import SpellChecker\n",
        "from nltk.corpus import stopwords\n",
        "from nltk.tokenize import word_tokenize\n",
        "from sklearn.feature_extraction.text import CountVectorizer\n",
        "from nltk.tokenize import casual_tokenize\n",
        "from nltk.tokenize import TweetTokenizer\n",
        "from nltk.stem import WordNetLemmatizer\n",
        "from nltk.corpus import wordnet\n",
        "import pickle\n",
        "\n",
        "# For the counter\n",
        "from collections import Counter\n",
        "\n",
        "# Cool progress bars\n",
        "from tqdm import tqdm_notebook as tqdm\n",
        "tqdm().pandas()  # Enable tracking of execution progress"
      ]
    },
    {
      "cell_type": "code",
      "source": [
        "pd.set_option('max_colwidth', 400)\n",
        "pd.describe_option('max_colwidth')"
      ],
      "metadata": {
        "colab": {
          "base_uri": "https://localhost:8080/"
        },
        "id": "j19WMZMlv2Sk",
        "outputId": "c2acd286-062d-40c9-f036-00ed481d1ef1"
      },
      "execution_count": 4,
      "outputs": [
        {
          "output_type": "stream",
          "name": "stdout",
          "text": [
            "display.max_colwidth : int or None\n",
            "    The maximum width in characters of a column in the repr of\n",
            "    a pandas data structure. When the column overflows, a \"...\"\n",
            "    placeholder is embedded in the output. A 'None' value means unlimited.\n",
            "    [default: 50] [currently: 400]\n"
          ]
        }
      ]
    },
    {
      "cell_type": "code",
      "source": [
        "from google.colab import drive\n",
        "drive.mount('/content/drive')\n",
        "\n",
        "root_path = \"/content/drive/MyDrive/Colab Notebooks/Topic_identification\""
      ],
      "metadata": {
        "colab": {
          "base_uri": "https://localhost:8080/"
        },
        "id": "z8QIcEQM4XKR",
        "outputId": "20c504be-83ed-43d5-aae9-19a45b2ea06c"
      },
      "execution_count": 5,
      "outputs": [
        {
          "output_type": "stream",
          "name": "stdout",
          "text": [
            "Mounted at /content/drive\n"
          ]
        }
      ]
    },
    {
      "cell_type": "code",
      "source": [
        "!pip install emoji"
      ],
      "metadata": {
        "colab": {
          "base_uri": "https://localhost:8080/"
        },
        "id": "0H3qUkKadYmT",
        "outputId": "fce26953-943e-46ec-90b7-1c9597e05619"
      },
      "execution_count": 6,
      "outputs": [
        {
          "output_type": "stream",
          "name": "stdout",
          "text": [
            "Collecting emoji\n",
            "  Downloading emoji-2.12.1-py3-none-any.whl (431 kB)\n",
            "\u001b[2K     \u001b[90m━━━━━━━━━━━━━━━━━━━━━━━━━━━━━━━━━━━━━━━━\u001b[0m \u001b[32m431.4/431.4 kB\u001b[0m \u001b[31m6.6 MB/s\u001b[0m eta \u001b[36m0:00:00\u001b[0m\n",
            "\u001b[?25hRequirement already satisfied: typing-extensions>=4.7.0 in /usr/local/lib/python3.10/dist-packages (from emoji) (4.12.2)\n",
            "Installing collected packages: emoji\n",
            "Successfully installed emoji-2.12.1\n"
          ]
        }
      ]
    },
    {
      "cell_type": "code",
      "source": [
        "# save model or vectorizer or any processed data into pickle file\n",
        "def save_model_to_pickle(model_name, file_name):\n",
        "    pickle.dump(model_name, open(file_name, \"wb\"))\n",
        "    print(\"Save model to {file_name}\")\n",
        "\n",
        "\n",
        "# load any model or pre-trained info from pickle file\n",
        "def load_from_pickle(file_name):\n",
        "    file = open(file_name, \"rb\")\n",
        "    data = pickle.load(file)\n",
        "    file.close()\n",
        "    return data"
      ],
      "metadata": {
        "id": "6DOZ-cCG3kEj"
      },
      "execution_count": 7,
      "outputs": []
    },
    {
      "cell_type": "markdown",
      "metadata": {
        "id": "H14oArz0gkRa"
      },
      "source": [
        "# 2. Exploratory Data Analysis\n",
        "I ended up settling with the Twitter data (see comparison at the back of this notebook if you're interested in why) in order to get my labelled data.\n",
        "\n",
        "Notes about dataset:\n",
        "* It's from 2017 to 2018\n",
        "* From another Kernel I saw that AmazonSupport contained the most tweets, and amazingly, it turns out, not all of the tweets are in English!"
      ]
    },
    {
      "cell_type": "code",
      "execution_count": 8,
      "metadata": {
        "scrolled": false,
        "id": "ghkrVhJogkRa",
        "outputId": "8dac4657-bf42-4d54-9b9c-01391adaa405",
        "colab": {
          "base_uri": "https://localhost:8080/",
          "height": 1000
        }
      },
      "outputs": [
        {
          "output_type": "display_data",
          "data": {
            "text/plain": [
              "   tweet_id   author_id  inbound                      created_at  \\\n",
              "0         1  sprintcare    False  Tue Oct 31 22:10:47 +0000 2017   \n",
              "1         2      115712     True  Tue Oct 31 22:11:45 +0000 2017   \n",
              "2         3      115712     True  Tue Oct 31 22:08:27 +0000 2017   \n",
              "3         4  sprintcare    False  Tue Oct 31 21:54:49 +0000 2017   \n",
              "4         5      115712     True  Tue Oct 31 21:49:35 +0000 2017   \n",
              "5         6  sprintcare    False  Tue Oct 31 21:46:24 +0000 2017   \n",
              "6         8      115712     True  Tue Oct 31 21:45:10 +0000 2017   \n",
              "7        11  sprintcare    False  Tue Oct 31 22:10:35 +0000 2017   \n",
              "8        12      115713     True  Tue Oct 31 22:04:47 +0000 2017   \n",
              "9        15  sprintcare    False  Tue Oct 31 20:03:31 +0000 2017   \n",
              "\n",
              "                                                                                                                                   text  \\\n",
              "0             @115712 I understand. I would like to assist you. We would need to get you into a private secured link to further assist.   \n",
              "1                                                                                         @sprintcare and how do you propose we do that   \n",
              "2                                                    @sprintcare I have sent several private messages and no one is responding as usual   \n",
              "3          @115712 Please send us a Private Message so that we can further assist you. Just click ‘Message’ at the top of your profile.   \n",
              "4                                                                                                                    @sprintcare I did.   \n",
              "5                              @115712 Can you please send us a private message, so that I can gain further details about your account?   \n",
              "6                                                                                             @sprintcare is the worst customer service   \n",
              "7                                   @115713 This is saddening to hear. Please shoot us a DM, so that we can look into this for you. -KC   \n",
              "8                                             @sprintcare You gonna magically change your connectivity for me and my whole family ? 🤥 💯   \n",
              "9  @115713 We understand your concerns and we'd like for you to please send us a Direct Message, so that we can further assist you. -AA   \n",
              "\n",
              "  response_tweet_id  in_response_to_tweet_id  \n",
              "0                 2                      3.0  \n",
              "1               NaN                      1.0  \n",
              "2                 1                      4.0  \n",
              "3                 3                      5.0  \n",
              "4                 4                      6.0  \n",
              "5               5,7                      8.0  \n",
              "6            9,6,10                      NaN  \n",
              "7               NaN                     12.0  \n",
              "8          11,13,14                     15.0  \n",
              "9                12                     16.0  "
            ],
            "text/html": [
              "\n",
              "  <div id=\"df-19a121a1-1757-4d17-87c7-7c8002f90678\" class=\"colab-df-container\">\n",
              "    <div>\n",
              "<style scoped>\n",
              "    .dataframe tbody tr th:only-of-type {\n",
              "        vertical-align: middle;\n",
              "    }\n",
              "\n",
              "    .dataframe tbody tr th {\n",
              "        vertical-align: top;\n",
              "    }\n",
              "\n",
              "    .dataframe thead th {\n",
              "        text-align: right;\n",
              "    }\n",
              "</style>\n",
              "<table border=\"1\" class=\"dataframe\">\n",
              "  <thead>\n",
              "    <tr style=\"text-align: right;\">\n",
              "      <th></th>\n",
              "      <th>tweet_id</th>\n",
              "      <th>author_id</th>\n",
              "      <th>inbound</th>\n",
              "      <th>created_at</th>\n",
              "      <th>text</th>\n",
              "      <th>response_tweet_id</th>\n",
              "      <th>in_response_to_tweet_id</th>\n",
              "    </tr>\n",
              "  </thead>\n",
              "  <tbody>\n",
              "    <tr>\n",
              "      <th>0</th>\n",
              "      <td>1</td>\n",
              "      <td>sprintcare</td>\n",
              "      <td>False</td>\n",
              "      <td>Tue Oct 31 22:10:47 +0000 2017</td>\n",
              "      <td>@115712 I understand. I would like to assist you. We would need to get you into a private secured link to further assist.</td>\n",
              "      <td>2</td>\n",
              "      <td>3.0</td>\n",
              "    </tr>\n",
              "    <tr>\n",
              "      <th>1</th>\n",
              "      <td>2</td>\n",
              "      <td>115712</td>\n",
              "      <td>True</td>\n",
              "      <td>Tue Oct 31 22:11:45 +0000 2017</td>\n",
              "      <td>@sprintcare and how do you propose we do that</td>\n",
              "      <td>NaN</td>\n",
              "      <td>1.0</td>\n",
              "    </tr>\n",
              "    <tr>\n",
              "      <th>2</th>\n",
              "      <td>3</td>\n",
              "      <td>115712</td>\n",
              "      <td>True</td>\n",
              "      <td>Tue Oct 31 22:08:27 +0000 2017</td>\n",
              "      <td>@sprintcare I have sent several private messages and no one is responding as usual</td>\n",
              "      <td>1</td>\n",
              "      <td>4.0</td>\n",
              "    </tr>\n",
              "    <tr>\n",
              "      <th>3</th>\n",
              "      <td>4</td>\n",
              "      <td>sprintcare</td>\n",
              "      <td>False</td>\n",
              "      <td>Tue Oct 31 21:54:49 +0000 2017</td>\n",
              "      <td>@115712 Please send us a Private Message so that we can further assist you. Just click ‘Message’ at the top of your profile.</td>\n",
              "      <td>3</td>\n",
              "      <td>5.0</td>\n",
              "    </tr>\n",
              "    <tr>\n",
              "      <th>4</th>\n",
              "      <td>5</td>\n",
              "      <td>115712</td>\n",
              "      <td>True</td>\n",
              "      <td>Tue Oct 31 21:49:35 +0000 2017</td>\n",
              "      <td>@sprintcare I did.</td>\n",
              "      <td>4</td>\n",
              "      <td>6.0</td>\n",
              "    </tr>\n",
              "    <tr>\n",
              "      <th>5</th>\n",
              "      <td>6</td>\n",
              "      <td>sprintcare</td>\n",
              "      <td>False</td>\n",
              "      <td>Tue Oct 31 21:46:24 +0000 2017</td>\n",
              "      <td>@115712 Can you please send us a private message, so that I can gain further details about your account?</td>\n",
              "      <td>5,7</td>\n",
              "      <td>8.0</td>\n",
              "    </tr>\n",
              "    <tr>\n",
              "      <th>6</th>\n",
              "      <td>8</td>\n",
              "      <td>115712</td>\n",
              "      <td>True</td>\n",
              "      <td>Tue Oct 31 21:45:10 +0000 2017</td>\n",
              "      <td>@sprintcare is the worst customer service</td>\n",
              "      <td>9,6,10</td>\n",
              "      <td>NaN</td>\n",
              "    </tr>\n",
              "    <tr>\n",
              "      <th>7</th>\n",
              "      <td>11</td>\n",
              "      <td>sprintcare</td>\n",
              "      <td>False</td>\n",
              "      <td>Tue Oct 31 22:10:35 +0000 2017</td>\n",
              "      <td>@115713 This is saddening to hear. Please shoot us a DM, so that we can look into this for you. -KC</td>\n",
              "      <td>NaN</td>\n",
              "      <td>12.0</td>\n",
              "    </tr>\n",
              "    <tr>\n",
              "      <th>8</th>\n",
              "      <td>12</td>\n",
              "      <td>115713</td>\n",
              "      <td>True</td>\n",
              "      <td>Tue Oct 31 22:04:47 +0000 2017</td>\n",
              "      <td>@sprintcare You gonna magically change your connectivity for me and my whole family ? 🤥 💯</td>\n",
              "      <td>11,13,14</td>\n",
              "      <td>15.0</td>\n",
              "    </tr>\n",
              "    <tr>\n",
              "      <th>9</th>\n",
              "      <td>15</td>\n",
              "      <td>sprintcare</td>\n",
              "      <td>False</td>\n",
              "      <td>Tue Oct 31 20:03:31 +0000 2017</td>\n",
              "      <td>@115713 We understand your concerns and we'd like for you to please send us a Direct Message, so that we can further assist you. -AA</td>\n",
              "      <td>12</td>\n",
              "      <td>16.0</td>\n",
              "    </tr>\n",
              "  </tbody>\n",
              "</table>\n",
              "</div>\n",
              "    <div class=\"colab-df-buttons\">\n",
              "\n",
              "  <div class=\"colab-df-container\">\n",
              "    <button class=\"colab-df-convert\" onclick=\"convertToInteractive('df-19a121a1-1757-4d17-87c7-7c8002f90678')\"\n",
              "            title=\"Convert this dataframe to an interactive table.\"\n",
              "            style=\"display:none;\">\n",
              "\n",
              "  <svg xmlns=\"http://www.w3.org/2000/svg\" height=\"24px\" viewBox=\"0 -960 960 960\">\n",
              "    <path d=\"M120-120v-720h720v720H120Zm60-500h600v-160H180v160Zm220 220h160v-160H400v160Zm0 220h160v-160H400v160ZM180-400h160v-160H180v160Zm440 0h160v-160H620v160ZM180-180h160v-160H180v160Zm440 0h160v-160H620v160Z\"/>\n",
              "  </svg>\n",
              "    </button>\n",
              "\n",
              "  <style>\n",
              "    .colab-df-container {\n",
              "      display:flex;\n",
              "      gap: 12px;\n",
              "    }\n",
              "\n",
              "    .colab-df-convert {\n",
              "      background-color: #E8F0FE;\n",
              "      border: none;\n",
              "      border-radius: 50%;\n",
              "      cursor: pointer;\n",
              "      display: none;\n",
              "      fill: #1967D2;\n",
              "      height: 32px;\n",
              "      padding: 0 0 0 0;\n",
              "      width: 32px;\n",
              "    }\n",
              "\n",
              "    .colab-df-convert:hover {\n",
              "      background-color: #E2EBFA;\n",
              "      box-shadow: 0px 1px 2px rgba(60, 64, 67, 0.3), 0px 1px 3px 1px rgba(60, 64, 67, 0.15);\n",
              "      fill: #174EA6;\n",
              "    }\n",
              "\n",
              "    .colab-df-buttons div {\n",
              "      margin-bottom: 4px;\n",
              "    }\n",
              "\n",
              "    [theme=dark] .colab-df-convert {\n",
              "      background-color: #3B4455;\n",
              "      fill: #D2E3FC;\n",
              "    }\n",
              "\n",
              "    [theme=dark] .colab-df-convert:hover {\n",
              "      background-color: #434B5C;\n",
              "      box-shadow: 0px 1px 3px 1px rgba(0, 0, 0, 0.15);\n",
              "      filter: drop-shadow(0px 1px 2px rgba(0, 0, 0, 0.3));\n",
              "      fill: #FFFFFF;\n",
              "    }\n",
              "  </style>\n",
              "\n",
              "    <script>\n",
              "      const buttonEl =\n",
              "        document.querySelector('#df-19a121a1-1757-4d17-87c7-7c8002f90678 button.colab-df-convert');\n",
              "      buttonEl.style.display =\n",
              "        google.colab.kernel.accessAllowed ? 'block' : 'none';\n",
              "\n",
              "      async function convertToInteractive(key) {\n",
              "        const element = document.querySelector('#df-19a121a1-1757-4d17-87c7-7c8002f90678');\n",
              "        const dataTable =\n",
              "          await google.colab.kernel.invokeFunction('convertToInteractive',\n",
              "                                                    [key], {});\n",
              "        if (!dataTable) return;\n",
              "\n",
              "        const docLinkHtml = 'Like what you see? Visit the ' +\n",
              "          '<a target=\"_blank\" href=https://colab.research.google.com/notebooks/data_table.ipynb>data table notebook</a>'\n",
              "          + ' to learn more about interactive tables.';\n",
              "        element.innerHTML = '';\n",
              "        dataTable['output_type'] = 'display_data';\n",
              "        await google.colab.output.renderOutput(dataTable, element);\n",
              "        const docLink = document.createElement('div');\n",
              "        docLink.innerHTML = docLinkHtml;\n",
              "        element.appendChild(docLink);\n",
              "      }\n",
              "    </script>\n",
              "  </div>\n",
              "\n",
              "\n",
              "<div id=\"df-d8df1993-02fc-4ee7-8dc9-9844978eb6cb\">\n",
              "  <button class=\"colab-df-quickchart\" onclick=\"quickchart('df-d8df1993-02fc-4ee7-8dc9-9844978eb6cb')\"\n",
              "            title=\"Suggest charts\"\n",
              "            style=\"display:none;\">\n",
              "\n",
              "<svg xmlns=\"http://www.w3.org/2000/svg\" height=\"24px\"viewBox=\"0 0 24 24\"\n",
              "     width=\"24px\">\n",
              "    <g>\n",
              "        <path d=\"M19 3H5c-1.1 0-2 .9-2 2v14c0 1.1.9 2 2 2h14c1.1 0 2-.9 2-2V5c0-1.1-.9-2-2-2zM9 17H7v-7h2v7zm4 0h-2V7h2v10zm4 0h-2v-4h2v4z\"/>\n",
              "    </g>\n",
              "</svg>\n",
              "  </button>\n",
              "\n",
              "<style>\n",
              "  .colab-df-quickchart {\n",
              "      --bg-color: #E8F0FE;\n",
              "      --fill-color: #1967D2;\n",
              "      --hover-bg-color: #E2EBFA;\n",
              "      --hover-fill-color: #174EA6;\n",
              "      --disabled-fill-color: #AAA;\n",
              "      --disabled-bg-color: #DDD;\n",
              "  }\n",
              "\n",
              "  [theme=dark] .colab-df-quickchart {\n",
              "      --bg-color: #3B4455;\n",
              "      --fill-color: #D2E3FC;\n",
              "      --hover-bg-color: #434B5C;\n",
              "      --hover-fill-color: #FFFFFF;\n",
              "      --disabled-bg-color: #3B4455;\n",
              "      --disabled-fill-color: #666;\n",
              "  }\n",
              "\n",
              "  .colab-df-quickchart {\n",
              "    background-color: var(--bg-color);\n",
              "    border: none;\n",
              "    border-radius: 50%;\n",
              "    cursor: pointer;\n",
              "    display: none;\n",
              "    fill: var(--fill-color);\n",
              "    height: 32px;\n",
              "    padding: 0;\n",
              "    width: 32px;\n",
              "  }\n",
              "\n",
              "  .colab-df-quickchart:hover {\n",
              "    background-color: var(--hover-bg-color);\n",
              "    box-shadow: 0 1px 2px rgba(60, 64, 67, 0.3), 0 1px 3px 1px rgba(60, 64, 67, 0.15);\n",
              "    fill: var(--button-hover-fill-color);\n",
              "  }\n",
              "\n",
              "  .colab-df-quickchart-complete:disabled,\n",
              "  .colab-df-quickchart-complete:disabled:hover {\n",
              "    background-color: var(--disabled-bg-color);\n",
              "    fill: var(--disabled-fill-color);\n",
              "    box-shadow: none;\n",
              "  }\n",
              "\n",
              "  .colab-df-spinner {\n",
              "    border: 2px solid var(--fill-color);\n",
              "    border-color: transparent;\n",
              "    border-bottom-color: var(--fill-color);\n",
              "    animation:\n",
              "      spin 1s steps(1) infinite;\n",
              "  }\n",
              "\n",
              "  @keyframes spin {\n",
              "    0% {\n",
              "      border-color: transparent;\n",
              "      border-bottom-color: var(--fill-color);\n",
              "      border-left-color: var(--fill-color);\n",
              "    }\n",
              "    20% {\n",
              "      border-color: transparent;\n",
              "      border-left-color: var(--fill-color);\n",
              "      border-top-color: var(--fill-color);\n",
              "    }\n",
              "    30% {\n",
              "      border-color: transparent;\n",
              "      border-left-color: var(--fill-color);\n",
              "      border-top-color: var(--fill-color);\n",
              "      border-right-color: var(--fill-color);\n",
              "    }\n",
              "    40% {\n",
              "      border-color: transparent;\n",
              "      border-right-color: var(--fill-color);\n",
              "      border-top-color: var(--fill-color);\n",
              "    }\n",
              "    60% {\n",
              "      border-color: transparent;\n",
              "      border-right-color: var(--fill-color);\n",
              "    }\n",
              "    80% {\n",
              "      border-color: transparent;\n",
              "      border-right-color: var(--fill-color);\n",
              "      border-bottom-color: var(--fill-color);\n",
              "    }\n",
              "    90% {\n",
              "      border-color: transparent;\n",
              "      border-bottom-color: var(--fill-color);\n",
              "    }\n",
              "  }\n",
              "</style>\n",
              "\n",
              "  <script>\n",
              "    async function quickchart(key) {\n",
              "      const quickchartButtonEl =\n",
              "        document.querySelector('#' + key + ' button');\n",
              "      quickchartButtonEl.disabled = true;  // To prevent multiple clicks.\n",
              "      quickchartButtonEl.classList.add('colab-df-spinner');\n",
              "      try {\n",
              "        const charts = await google.colab.kernel.invokeFunction(\n",
              "            'suggestCharts', [key], {});\n",
              "      } catch (error) {\n",
              "        console.error('Error during call to suggestCharts:', error);\n",
              "      }\n",
              "      quickchartButtonEl.classList.remove('colab-df-spinner');\n",
              "      quickchartButtonEl.classList.add('colab-df-quickchart-complete');\n",
              "    }\n",
              "    (() => {\n",
              "      let quickchartButtonEl =\n",
              "        document.querySelector('#df-d8df1993-02fc-4ee7-8dc9-9844978eb6cb button');\n",
              "      quickchartButtonEl.style.display =\n",
              "        google.colab.kernel.accessAllowed ? 'block' : 'none';\n",
              "    })();\n",
              "  </script>\n",
              "</div>\n",
              "\n",
              "    </div>\n",
              "  </div>\n"
            ],
            "application/vnd.google.colaboratory.intrinsic+json": {
              "type": "dataframe",
              "summary": "{\n  \"name\": \"get_ipython()\",\n  \"rows\": 10,\n  \"fields\": [\n    {\n      \"column\": \"tweet_id\",\n      \"properties\": {\n        \"dtype\": \"number\",\n        \"std\": 4,\n        \"min\": 1,\n        \"max\": 15,\n        \"num_unique_values\": 10,\n        \"samples\": [\n          12,\n          2,\n          6\n        ],\n        \"semantic_type\": \"\",\n        \"description\": \"\"\n      }\n    },\n    {\n      \"column\": \"author_id\",\n      \"properties\": {\n        \"dtype\": \"category\",\n        \"num_unique_values\": 3,\n        \"samples\": [\n          \"sprintcare\",\n          \"115712\",\n          \"115713\"\n        ],\n        \"semantic_type\": \"\",\n        \"description\": \"\"\n      }\n    },\n    {\n      \"column\": \"inbound\",\n      \"properties\": {\n        \"dtype\": \"boolean\",\n        \"num_unique_values\": 2,\n        \"samples\": [\n          true,\n          false\n        ],\n        \"semantic_type\": \"\",\n        \"description\": \"\"\n      }\n    },\n    {\n      \"column\": \"created_at\",\n      \"properties\": {\n        \"dtype\": \"object\",\n        \"num_unique_values\": 10,\n        \"samples\": [\n          \"Tue Oct 31 22:04:47 +0000 2017\",\n          \"Tue Oct 31 22:11:45 +0000 2017\"\n        ],\n        \"semantic_type\": \"\",\n        \"description\": \"\"\n      }\n    },\n    {\n      \"column\": \"text\",\n      \"properties\": {\n        \"dtype\": \"string\",\n        \"num_unique_values\": 10,\n        \"samples\": [\n          \"@sprintcare You gonna magically change your connectivity for me and my whole family ? \\ud83e\\udd25 \\ud83d\\udcaf\",\n          \"@sprintcare and how do you propose we do that\"\n        ],\n        \"semantic_type\": \"\",\n        \"description\": \"\"\n      }\n    },\n    {\n      \"column\": \"response_tweet_id\",\n      \"properties\": {\n        \"dtype\": \"string\",\n        \"num_unique_values\": 8,\n        \"samples\": [\n          \"1\",\n          \"9,6,10\"\n        ],\n        \"semantic_type\": \"\",\n        \"description\": \"\"\n      }\n    },\n    {\n      \"column\": \"in_response_to_tweet_id\",\n      \"properties\": {\n        \"dtype\": \"number\",\n        \"std\": 5.380004130522991,\n        \"min\": 1.0,\n        \"max\": 16.0,\n        \"num_unique_values\": 9,\n        \"samples\": [\n          15.0,\n          1.0\n        ],\n        \"semantic_type\": \"\",\n        \"description\": \"\"\n      }\n    }\n  ]\n}"
            }
          },
          "metadata": {}
        },
        {
          "output_type": "display_data",
          "data": {
            "text/plain": [
              "<Figure size 1500x500 with 1 Axes>"
            ],
            "image/png": "[encoded data removed]"
          },
          "metadata": {}
        },
        {
          "output_type": "display_data",
          "data": {
            "text/plain": [
              "<Figure size 2500x500 with 1 Axes>"
            ],
            "image/png": "[encoded data removed]"
          },
          "metadata": {}
        },
        {
          "output_type": "stream",
          "name": "stdout",
          "text": [
            "CPU times: user 26.1 s, sys: 3.24 s, total: 29.4 s\n",
            "Wall time: 1min\n"
          ]
        }
      ],
      "source": [
        "%%time\n",
        "# Reading in all the Twitter data\n",
        "all_data = pd.read_csv('twcs/twcs.csv')\n",
        "display(all_data.head(10))\n",
        "\n",
        "# Finding the distribution of all authors\n",
        "count = all_data.groupby(\"author_id\")[\"text\"].count()\n",
        "\n",
        "# Showing only the authors that appear more than 15000 times\n",
        "c = count[count>15000].plot(kind='bar',figsize=(15, 5), color='#00acee')\n",
        "c.set_xlabel('')\n",
        "c.set_ylabel('Frequency')\n",
        "plt.title('Top Customer Support Records')\n",
        "plt.xticks(rotation=45, ha='right')\n",
        "\n",
        "# Saving my plot\n",
        "plt.savefig('authors.png')\n",
        "\n",
        "plt.show()\n",
        "\n",
        "# There are 108 unique authors that are companies and 702669 customers\n",
        "authors_count = (len(all_data[all_data.inbound == False].author_id.unique()), len(all_data[all_data.inbound == True].author_id.unique()))\n",
        "\n",
        "# Visualizing it\n",
        "plt.figure(figsize =(25,5))\n",
        "x = ['Customer Support Num.','Customer Num.']\n",
        "ax = plt.barh(x, authors_count, color = '#00acee')\n",
        "plt.title('There are way more unique customers than unique companies')\n",
        "plt.show()"
      ]
    },
    {
      "cell_type": "markdown",
      "metadata": {
        "id": "S2JTH-37gkRa"
      },
      "source": [
        "## Data Dictionary:\n",
        "* Tweet_id: The unique ID for this tweet\n",
        "* Author_id: The unique ID for this tweet author (anonymized for non-company users)\n",
        "* Inbound: Whether or not the tweet was sent (inbound) to a company\n",
        "* Created_at: When the tweet was created\n",
        "* Text: The text content of the tweet\n",
        "* Response_tweet_id: The tweet that responded to this one, if any\n",
        "* In_response_to_tweet_id: The tweet this tweet was in response to, if any"
      ]
    },
    {
      "cell_type": "code",
      "execution_count": 9,
      "metadata": {
        "id": "QjLjCfy_gkRb",
        "outputId": "21b8f881-de17-4a70-a3a9-ee060d1e42f8",
        "colab": {
          "base_uri": "https://localhost:8080/",
          "height": 311
        }
      },
      "outputs": [
        {
          "output_type": "stream",
          "name": "stdout",
          "text": [
            "All data has shape (2811774, 7)\n"
          ]
        },
        {
          "output_type": "execute_result",
          "data": {
            "text/plain": [
              "<pandas.io.formats.style.Styler at 0x79e284a649a0>"
            ],
            "text/html": [
              "<style type=\"text/css\">\n",
              "#T_307ba_row0_col0, #T_307ba_row0_col6, #T_307ba_row1_col0, #T_307ba_row3_col0, #T_307ba_row3_col6, #T_307ba_row4_col0 {\n",
              "  background-color: black;\n",
              "  color: lawngreen;\n",
              "  border-color: white;\n",
              "  color: cyan;\n",
              "  background-color: #08306b;\n",
              "  color: #f1f1f1;\n",
              "}\n",
              "#T_307ba_row0_col1, #T_307ba_row0_col3, #T_307ba_row0_col4, #T_307ba_row1_col1, #T_307ba_row1_col3, #T_307ba_row1_col4, #T_307ba_row1_col5, #T_307ba_row2_col1, #T_307ba_row2_col3, #T_307ba_row2_col4, #T_307ba_row3_col1, #T_307ba_row3_col3, #T_307ba_row3_col4, #T_307ba_row4_col1, #T_307ba_row4_col3, #T_307ba_row4_col4, #T_307ba_row4_col5 {\n",
              "  background-color: black;\n",
              "  color: lawngreen;\n",
              "  border-color: white;\n",
              "  color: lawngreen;\n",
              "}\n",
              "#T_307ba_row0_col2, #T_307ba_row0_col5, #T_307ba_row1_col2, #T_307ba_row2_col2, #T_307ba_row2_col5, #T_307ba_row3_col2, #T_307ba_row3_col5, #T_307ba_row4_col2 {\n",
              "  background-color: black;\n",
              "  color: lawngreen;\n",
              "  border-color: white;\n",
              "  color: cyan;\n",
              "}\n",
              "#T_307ba_row1_col6, #T_307ba_row4_col6 {\n",
              "  background-color: black;\n",
              "  color: lawngreen;\n",
              "  border-color: white;\n",
              "  color: cyan;\n",
              "  background-color: #000000;\n",
              "  color: #f1f1f1;\n",
              "}\n",
              "#T_307ba_row2_col0, #T_307ba_row2_col6 {\n",
              "  background-color: black;\n",
              "  color: lawngreen;\n",
              "  border-color: white;\n",
              "  color: cyan;\n",
              "  background-color: #f7fbff;\n",
              "  color: #000000;\n",
              "}\n",
              "</style>\n",
              "<table id=\"T_307ba\" class=\"dataframe\">\n",
              "  <thead>\n",
              "    <tr>\n",
              "      <th class=\"blank level0\" >&nbsp;</th>\n",
              "      <th id=\"T_307ba_level0_col0\" class=\"col_heading level0 col0\" >tweet_id</th>\n",
              "      <th id=\"T_307ba_level0_col1\" class=\"col_heading level0 col1\" >author_id</th>\n",
              "      <th id=\"T_307ba_level0_col2\" class=\"col_heading level0 col2\" >inbound</th>\n",
              "      <th id=\"T_307ba_level0_col3\" class=\"col_heading level0 col3\" >created_at</th>\n",
              "      <th id=\"T_307ba_level0_col4\" class=\"col_heading level0 col4\" >text</th>\n",
              "      <th id=\"T_307ba_level0_col5\" class=\"col_heading level0 col5\" >response_tweet_id</th>\n",
              "      <th id=\"T_307ba_level0_col6\" class=\"col_heading level0 col6\" >in_response_to_tweet_id</th>\n",
              "    </tr>\n",
              "  </thead>\n",
              "  <tbody>\n",
              "    <tr>\n",
              "      <th id=\"T_307ba_level0_row0\" class=\"row_heading level0 row0\" >2811769</th>\n",
              "      <td id=\"T_307ba_row0_col0\" class=\"data row0 col0\" >2987947</td>\n",
              "      <td id=\"T_307ba_row0_col1\" class=\"data row0 col1\" >sprintcare</td>\n",
              "      <td id=\"T_307ba_row0_col2\" class=\"data row0 col2\" >False</td>\n",
              "      <td id=\"T_307ba_row0_col3\" class=\"data row0 col3\" >Wed Nov 22 08:43:51 +0000 2017</td>\n",
              "      <td id=\"T_307ba_row0_col4\" class=\"data row0 col4\" >@823869 Hey, we'd be happy to look into this for you. Please send us a Direct Message, so that we can further assist you. -TN</td>\n",
              "      <td id=\"T_307ba_row0_col5\" class=\"data row0 col5\" >nan</td>\n",
              "      <td id=\"T_307ba_row0_col6\" class=\"data row0 col6\" >2987948.000000</td>\n",
              "    </tr>\n",
              "    <tr>\n",
              "      <th id=\"T_307ba_level0_row1\" class=\"row_heading level0 row1\" >2811770</th>\n",
              "      <td id=\"T_307ba_row1_col0\" class=\"data row1 col0\" >2987948</td>\n",
              "      <td id=\"T_307ba_row1_col1\" class=\"data row1 col1\" >823869</td>\n",
              "      <td id=\"T_307ba_row1_col2\" class=\"data row1 col2\" >True</td>\n",
              "      <td id=\"T_307ba_row1_col3\" class=\"data row1 col3\" >Wed Nov 22 08:35:16 +0000 2017</td>\n",
              "      <td id=\"T_307ba_row1_col4\" class=\"data row1 col4\" >@115714 wtf!? I’ve been having really shitty service all day !! Get your shit together!</td>\n",
              "      <td id=\"T_307ba_row1_col5\" class=\"data row1 col5\" >2987947</td>\n",
              "      <td id=\"T_307ba_row1_col6\" class=\"data row1 col6\" >nan</td>\n",
              "    </tr>\n",
              "    <tr>\n",
              "      <th id=\"T_307ba_level0_row2\" class=\"row_heading level0 row2\" >2811771</th>\n",
              "      <td id=\"T_307ba_row2_col0\" class=\"data row2 col0\" >2812240</td>\n",
              "      <td id=\"T_307ba_row2_col1\" class=\"data row2 col1\" >121673</td>\n",
              "      <td id=\"T_307ba_row2_col2\" class=\"data row2 col2\" >True</td>\n",
              "      <td id=\"T_307ba_row2_col3\" class=\"data row2 col3\" >Thu Nov 23 04:13:07 +0000 2017</td>\n",
              "      <td id=\"T_307ba_row2_col4\" class=\"data row2 col4\" >@143549 @sprintcare You have to go to https://t.co/v2tMHeTL7Q and ask them to add the Hulu service to your account. After you get the text, you’re good to go to https://t.co/gFyUq1kJTK</td>\n",
              "      <td id=\"T_307ba_row2_col5\" class=\"data row2 col5\" >nan</td>\n",
              "      <td id=\"T_307ba_row2_col6\" class=\"data row2 col6\" >2812239.000000</td>\n",
              "    </tr>\n",
              "    <tr>\n",
              "      <th id=\"T_307ba_level0_row3\" class=\"row_heading level0 row3\" >2811772</th>\n",
              "      <td id=\"T_307ba_row3_col0\" class=\"data row3 col0\" >2987949</td>\n",
              "      <td id=\"T_307ba_row3_col1\" class=\"data row3 col1\" >AldiUK</td>\n",
              "      <td id=\"T_307ba_row3_col2\" class=\"data row3 col2\" >False</td>\n",
              "      <td id=\"T_307ba_row3_col3\" class=\"data row3 col3\" >Wed Nov 22 08:31:24 +0000 2017</td>\n",
              "      <td id=\"T_307ba_row3_col4\" class=\"data row3 col4\" >@823870 Sounds delicious, Sarah! 😋 https://t.co/7uQPwyH1B6</td>\n",
              "      <td id=\"T_307ba_row3_col5\" class=\"data row3 col5\" >nan</td>\n",
              "      <td id=\"T_307ba_row3_col6\" class=\"data row3 col6\" >2987950.000000</td>\n",
              "    </tr>\n",
              "    <tr>\n",
              "      <th id=\"T_307ba_level0_row4\" class=\"row_heading level0 row4\" >2811773</th>\n",
              "      <td id=\"T_307ba_row4_col0\" class=\"data row4 col0\" >2987950</td>\n",
              "      <td id=\"T_307ba_row4_col1\" class=\"data row4 col1\" >823870</td>\n",
              "      <td id=\"T_307ba_row4_col2\" class=\"data row4 col2\" >True</td>\n",
              "      <td id=\"T_307ba_row4_col3\" class=\"data row4 col3\" >Tue Nov 21 22:01:04 +0000 2017</td>\n",
              "      <td id=\"T_307ba_row4_col4\" class=\"data row4 col4\" >@AldiUK  warm sloe gin mince pies with ice cream - the best thing ever! #notjustxmas#allyearround</td>\n",
              "      <td id=\"T_307ba_row4_col5\" class=\"data row4 col5\" >2987951,2987949</td>\n",
              "      <td id=\"T_307ba_row4_col6\" class=\"data row4 col6\" >nan</td>\n",
              "    </tr>\n",
              "  </tbody>\n",
              "</table>\n"
            ]
          },
          "metadata": {},
          "execution_count": 9
        }
      ],
      "source": [
        "# All data shape\n",
        "print('All data has shape {}'.format(all_data.shape))\n",
        "\n",
        "# Converting columns to the right datatypes\n",
        "all_data['text'] = all_data['text'].astype('string')\n",
        "all_data['author_id'] = all_data['author_id'].astype('string')\n",
        "\n",
        "# This function utilizes Panda's Style to helps me encode data type and\n",
        "# magnitude information to my dataframe view\n",
        "show = lambda x: x.tail(5).style.set_properties(**{'background-color': 'black',\n",
        "                                    'color': 'lawngreen',\n",
        "                                    'border-color': 'white'})\\\n",
        ".applymap(lambda x: f\"color: {'lawngreen' if isinstance(x,str) else 'cyan'}\")\\\n",
        ".background_gradient(cmap='Blues')\n",
        "\n",
        "show(all_data)"
      ]
    },
    {
      "cell_type": "markdown",
      "metadata": {
        "id": "-G3yZHl4gkRb"
      },
      "source": [
        "You can see some data types are off, like the float."
      ]
    },
    {
      "cell_type": "code",
      "source": [
        "all_data.info()"
      ],
      "metadata": {
        "colab": {
          "base_uri": "https://localhost:8080/"
        },
        "id": "JRuYsYRg4tsU",
        "outputId": "87b1f1e8-65d9-4b0e-f9c4-8c987b3b3bd5"
      },
      "execution_count": 10,
      "outputs": [
        {
          "output_type": "stream",
          "name": "stdout",
          "text": [
            "<class 'pandas.core.frame.DataFrame'>\n",
            "RangeIndex: 2811774 entries, 0 to 2811773\n",
            "Data columns (total 7 columns):\n",
            " #   Column                   Dtype  \n",
            "---  ------                   -----  \n",
            " 0   tweet_id                 int64  \n",
            " 1   author_id                string \n",
            " 2   inbound                  bool   \n",
            " 3   created_at               object \n",
            " 4   text                     string \n",
            " 5   response_tweet_id        object \n",
            " 6   in_response_to_tweet_id  float64\n",
            "dtypes: bool(1), float64(1), int64(1), object(2), string(2)\n",
            "memory usage: 131.4+ MB\n"
          ]
        }
      ]
    },
    {
      "cell_type": "markdown",
      "metadata": {
        "id": "Ci4XwAhGgkRc"
      },
      "source": [
        "# 3. Data Wrangling\n",
        "\n",
        "**Requirements**:\n",
        "* **Inbound**: Since the first step I want to achieve is intent classification and to figure out what the customer is saying to the company, I only want data that goes from the customer to the company (inbound data).\n",
        "* **Just Apple data:** My first modeling step is to do some form of clustering to classify the intents for each of these tweets, doing so might be easier and more fruitful if I narrow the data to just the apple data because they will be in a somewhat similar domain. I can expand this over to other datasets.\n",
        "* **First Tweet**\n",
        "\n",
        "Later, I would like my chatbot to be able to respond to make *follow up* responses to my customers."
      ]
    },
    {
      "cell_type": "code",
      "execution_count": 11,
      "metadata": {
        "id": "P6IMkDnfgkRc",
        "outputId": "3482b3eb-e782-4d23-d592-0e60cc593427",
        "colab": {
          "base_uri": "https://localhost:8080/"
        }
      },
      "outputs": [
        {
          "output_type": "execute_result",
          "data": {
            "text/plain": [
              "(106860, 7)"
            ]
          },
          "metadata": {},
          "execution_count": 11
        }
      ],
      "source": [
        "apple_data = all_data[all_data['author_id'] == 'AppleSupport']\n",
        "apple_data.shape"
      ]
    },
    {
      "cell_type": "markdown",
      "metadata": {
        "id": "yQF8uHs3gkRc"
      },
      "source": [
        "There are 106860 rows of Apple data, which is 3.8 percent of the entire data. These are all data from Apple to a customer, I want the data from the customer to Apple for each of these Apple customer service responses, and this can be found in the reponse_tweet_id.\n",
        "\n",
        "Now I drop the rows with a NaN value for the in response to tweet id column, meaning that the original customer inquiry was not available for that interaction"
      ]
    },
    {
      "cell_type": "code",
      "execution_count": 12,
      "metadata": {
        "id": "CMs3mFTCgkRc",
        "outputId": "0b8c162b-fdfc-4ad1-dd97-427cfc95392f",
        "colab": {
          "base_uri": "https://localhost:8080/"
        }
      },
      "outputs": [
        {
          "output_type": "stream",
          "name": "stderr",
          "text": [
            "<ipython-input-12-3eca6e858f57>:1: SettingWithCopyWarning: \n",
            "A value is trying to be set on a copy of a slice from a DataFrame\n",
            "\n",
            "See the caveats in the documentation: https://pandas.pydata.org/pandas-docs/stable/user_guide/indexing.html#returning-a-view-versus-a-copy\n",
            "  apple_data.dropna(subset = ['in_response_to_tweet_id'],inplace = True)\n"
          ]
        },
        {
          "output_type": "execute_result",
          "data": {
            "text/plain": [
              "(inbound\n",
              " False    106719\n",
              " Name: count, dtype: int64,\n",
              " (106719, 7))"
            ]
          },
          "metadata": {},
          "execution_count": 12
        }
      ],
      "source": [
        "apple_data.dropna(subset = ['in_response_to_tweet_id'],inplace = True)\n",
        "apple_data['inbound'].value_counts(), apple_data.shape"
      ]
    },
    {
      "cell_type": "markdown",
      "metadata": {
        "id": "EHVRyiAbgkRd"
      },
      "source": [
        "Nice, it seems like we still have plenty of data to work with (106719 rows).\n",
        "\n",
        "All of this is inbound data, because it's authored by Apple. Now I want to find all the original tweets from the customer to Apple Support and return them as a text in the Dataframe as opposed to an ID.\n",
        "\n",
        "In other words, I change ```in_response_to_tweet_id``` from it's ID to it's text so we can see the what customer question this Apple Support Tweet was responding to."
      ]
    },
    {
      "cell_type": "code",
      "source": [
        "# Converting the IDs to integers to match the tweet_id column for joining\n",
        "apple_data.in_response_to_tweet_id = apple_data.in_response_to_tweet_id.astype('int64')\n"
      ],
      "metadata": {
        "colab": {
          "base_uri": "https://localhost:8080/"
        },
        "id": "KUFZ5kIkl7xi",
        "outputId": "0f98e049-c590-4b78-be60-9012b8f87aab"
      },
      "execution_count": 13,
      "outputs": [
        {
          "output_type": "stream",
          "name": "stderr",
          "text": [
            "<ipython-input-13-f6c82cdbe77e>:2: SettingWithCopyWarning: \n",
            "A value is trying to be set on a copy of a slice from a DataFrame.\n",
            "Try using .loc[row_indexer,col_indexer] = value instead\n",
            "\n",
            "See the caveats in the documentation: https://pandas.pydata.org/pandas-docs/stable/user_guide/indexing.html#returning-a-view-versus-a-copy\n",
            "  apple_data.in_response_to_tweet_id = apple_data.in_response_to_tweet_id.astype('int64')\n"
          ]
        }
      ]
    },
    {
      "cell_type": "code",
      "source": [
        "apple_data.info()"
      ],
      "metadata": {
        "colab": {
          "base_uri": "https://localhost:8080/"
        },
        "id": "XrVdTsOjl-ZC",
        "outputId": "1111cc05-966b-4358-c37a-0d88a1cf0ad7"
      },
      "execution_count": 14,
      "outputs": [
        {
          "output_type": "stream",
          "name": "stdout",
          "text": [
            "<class 'pandas.core.frame.DataFrame'>\n",
            "Index: 106719 entries, 396 to 2811541\n",
            "Data columns (total 7 columns):\n",
            " #   Column                   Non-Null Count   Dtype \n",
            "---  ------                   --------------   ----- \n",
            " 0   tweet_id                 106719 non-null  int64 \n",
            " 1   author_id                106719 non-null  string\n",
            " 2   inbound                  106719 non-null  bool  \n",
            " 3   created_at               106719 non-null  object\n",
            " 4   text                     106719 non-null  string\n",
            " 5   response_tweet_id        31423 non-null   object\n",
            " 6   in_response_to_tweet_id  106719 non-null  int64 \n",
            "dtypes: bool(1), int64(2), object(2), string(2)\n",
            "memory usage: 5.8+ MB\n"
          ]
        }
      ]
    },
    {
      "cell_type": "code",
      "execution_count": 15,
      "metadata": {
        "id": "DYHahvEAgkRd",
        "outputId": "8ad91c80-920b-4bc7-945a-d8298bdfab9a",
        "colab": {
          "base_uri": "https://localhost:8080/"
        }
      },
      "outputs": [
        {
          "output_type": "stream",
          "name": "stderr",
          "text": [
            "<ipython-input-15-bbdb34db77e8>:2: SettingWithCopyWarning: \n",
            "A value is trying to be set on a copy of a slice from a DataFrame.\n",
            "Try using .loc[row_indexer,col_indexer] = value instead\n",
            "\n",
            "See the caveats in the documentation: https://pandas.pydata.org/pandas-docs/stable/user_guide/indexing.html#returning-a-view-versus-a-copy\n",
            "  apple_data.in_response_to_tweet_id = apple_data.in_response_to_tweet_id.astype('int64')\n"
          ]
        }
      ],
      "source": [
        "# Converting the IDs to integers to match the tweet_id column for joining\n",
        "apple_data.in_response_to_tweet_id = apple_data.in_response_to_tweet_id.astype('int64')\n",
        "\n",
        "# Doing an inner join to get the respective tweets back from the all_data from and get the response texts. So one question-answer pair is put on one record\n",
        "apple_data = pd.merge(all_data[['tweet_id','text']],apple_data,left_on='tweet_id', right_on='in_response_to_tweet_id')\n",
        "\n",
        "# Dropping the columns that doesn't encode useful information and renaming the columns nicely for intepretability\n",
        "apple_data.drop(['tweet_id_x','tweet_id_y','in_response_to_tweet_id','inbound'], axis = 1, inplace = True)\n",
        "\n",
        "# Renaming the columns for intepretability\n",
        "apple_data.rename(columns = {'text_x':'inbound_text','text_y':'outbound_text'},inplace = True)\n"
      ]
    },
    {
      "cell_type": "code",
      "execution_count": 16,
      "metadata": {
        "scrolled": true,
        "id": "IBwyRKGwgkRd",
        "outputId": "b76caabc-622d-45ad-919c-cfe2d793feb1",
        "colab": {
          "base_uri": "https://localhost:8080/",
          "height": 449
        }
      },
      "outputs": [
        {
          "output_type": "execute_result",
          "data": {
            "text/plain": [
              "<pandas.io.formats.style.Styler at 0x79e2848e3e20>"
            ],
            "text/html": [
              "<style type=\"text/css\">\n",
              "#T_7b251_row0_col0, #T_7b251_row0_col1, #T_7b251_row0_col2, #T_7b251_row0_col3, #T_7b251_row0_col4, #T_7b251_row1_col0, #T_7b251_row1_col1, #T_7b251_row1_col2, #T_7b251_row1_col3, #T_7b251_row2_col0, #T_7b251_row2_col1, #T_7b251_row2_col2, #T_7b251_row2_col3, #T_7b251_row3_col0, #T_7b251_row3_col1, #T_7b251_row3_col2, #T_7b251_row3_col3, #T_7b251_row4_col0, #T_7b251_row4_col1, #T_7b251_row4_col2, #T_7b251_row4_col3 {\n",
              "  background-color: black;\n",
              "  color: lawngreen;\n",
              "  border-color: white;\n",
              "  color: lawngreen;\n",
              "}\n",
              "#T_7b251_row1_col4, #T_7b251_row2_col4, #T_7b251_row3_col4, #T_7b251_row4_col4 {\n",
              "  background-color: black;\n",
              "  color: lawngreen;\n",
              "  border-color: white;\n",
              "  color: cyan;\n",
              "}\n",
              "</style>\n",
              "<table id=\"T_7b251\" class=\"dataframe\">\n",
              "  <thead>\n",
              "    <tr>\n",
              "      <th class=\"blank level0\" >&nbsp;</th>\n",
              "      <th id=\"T_7b251_level0_col0\" class=\"col_heading level0 col0\" >inbound_text</th>\n",
              "      <th id=\"T_7b251_level0_col1\" class=\"col_heading level0 col1\" >author_id</th>\n",
              "      <th id=\"T_7b251_level0_col2\" class=\"col_heading level0 col2\" >created_at</th>\n",
              "      <th id=\"T_7b251_level0_col3\" class=\"col_heading level0 col3\" >outbound_text</th>\n",
              "      <th id=\"T_7b251_level0_col4\" class=\"col_heading level0 col4\" >response_tweet_id</th>\n",
              "    </tr>\n",
              "  </thead>\n",
              "  <tbody>\n",
              "    <tr>\n",
              "      <th id=\"T_7b251_level0_row0\" class=\"row_heading level0 row0\" >106643</th>\n",
              "      <td id=\"T_7b251_row0_col0\" class=\"data row0 col0\" >anyone having issues with #osx #HighSierra and #Slack, #zoom or Multiple monitors? Getting major lag. @115858  @118190  @172377 #DevLife</td>\n",
              "      <td id=\"T_7b251_row0_col1\" class=\"data row0 col1\" >AppleSupport</td>\n",
              "      <td id=\"T_7b251_row0_col2\" class=\"data row0 col2\" >Wed Nov 22 01:02:29 +0000 2017</td>\n",
              "      <td id=\"T_7b251_row0_col3\" class=\"data row0 col3\" >@823737 We're happy to help out with your concerns. To begin, have you made sure that all apps are up-to-date via the App Store &gt; Updates tab? \n",
              "Does the slower performance happen with a specific pattern?\n",
              "Send us a DM and we'll work on this together. https://t.co/GDrqU22YpT</td>\n",
              "      <td id=\"T_7b251_row0_col4\" class=\"data row0 col4\" >2987500</td>\n",
              "    </tr>\n",
              "    <tr>\n",
              "      <th id=\"T_7b251_level0_row1\" class=\"row_heading level0 row1\" >106644</th>\n",
              "      <td id=\"T_7b251_row1_col0\" class=\"data row1 col0\" >Hey @AppleSupport - not being able to duplicate a file in #pages when you searched for it is really annoying. What’s the fix?? https://t.co/CqnGyqNsLZ</td>\n",
              "      <td id=\"T_7b251_row1_col1\" class=\"data row1 col1\" >AppleSupport</td>\n",
              "      <td id=\"T_7b251_row1_col2\" class=\"data row1 col2\" >Wed Nov 22 02:33:58 +0000 2017</td>\n",
              "      <td id=\"T_7b251_row1_col3\" class=\"data row1 col3\" >@689907 We're certainly glad to get you pointed in the right direction! Please reach out in DM and let us know which iPad model you're using and the version of iOS installed, as well as which country you're tweeting from. https://t.co/GDrqU22YpT</td>\n",
              "      <td id=\"T_7b251_row1_col4\" class=\"data row1 col4\" >nan</td>\n",
              "    </tr>\n",
              "    <tr>\n",
              "      <th id=\"T_7b251_level0_row2\" class=\"row_heading level0 row2\" >106645</th>\n",
              "      <td id=\"T_7b251_row2_col0\" class=\"data row2 col0\" >Yo @AppleSupport is that weird glitch w/ the capital “I️” your attempt to make my tweets less about me?  I️</td>\n",
              "      <td id=\"T_7b251_row2_col1\" class=\"data row2 col1\" >AppleSupport</td>\n",
              "      <td id=\"T_7b251_row2_col2\" class=\"data row2 col2\" >Wed Nov 22 02:29:26 +0000 2017</td>\n",
              "      <td id=\"T_7b251_row2_col3\" class=\"data row2 col3\" >@823765 We'd love to help! Which device are you using? The latest versions of iOS include a fix for unexpected results with Auto-Correction while typing. If you haven't had a chance, we advise backing up and updating. Here's a guide to help: https://t.co/ahjigcvFRG</td>\n",
              "      <td id=\"T_7b251_row2_col4\" class=\"data row2 col4\" >nan</td>\n",
              "    </tr>\n",
              "    <tr>\n",
              "      <th id=\"T_7b251_level0_row3\" class=\"row_heading level0 row3\" >106646</th>\n",
              "      <td id=\"T_7b251_row3_col0\" class=\"data row3 col0\" >What the fuck @AppleSupport  my phone keeps hanging up calls and showing “call failure” 🤬😡</td>\n",
              "      <td id=\"T_7b251_row3_col1\" class=\"data row3 col1\" >AppleSupport</td>\n",
              "      <td id=\"T_7b251_row3_col2\" class=\"data row3 col2\" >Wed Nov 22 03:27:30 +0000 2017</td>\n",
              "      <td id=\"T_7b251_row3_col3\" class=\"data row3 col3\" >@823779 We'd like to help. Send us a DM and we can start there. https://t.co/GDrqU22YpT</td>\n",
              "      <td id=\"T_7b251_row3_col4\" class=\"data row3 col4\" >nan</td>\n",
              "    </tr>\n",
              "    <tr>\n",
              "      <th id=\"T_7b251_level0_row4\" class=\"row_heading level0 row4\" >106647</th>\n",
              "      <td id=\"T_7b251_row4_col0\" class=\"data row4 col0\" >Is anyone having #iphone issues with there phone freezing randomly I have the 7 pulse updated to iOS 11.2 the newest version. Wtf is going on???? 🤬😡🤬😡🤬 @115858 @AppleSupport #whycan’tyouguysgetitright #stopmakingnewphonesuntillyoulearntomaketheoldonerunrite</td>\n",
              "      <td id=\"T_7b251_row4_col1\" class=\"data row4 col1\" >AppleSupport</td>\n",
              "      <td id=\"T_7b251_row4_col2\" class=\"data row4 col2\" >Wed Nov 22 04:15:29 +0000 2017</td>\n",
              "      <td id=\"T_7b251_row4_col3\" class=\"data row4 col3\" >@823796 We'd love to offer our help in making sure your iPhone is working at peak performance. Send us a DM and let us know if you are using iOS 11.1.2 or iOS 11.2. You can confirm in Settings &gt; General &gt; About. https://t.co/GDrqU2kzhr</td>\n",
              "      <td id=\"T_7b251_row4_col4\" class=\"data row4 col4\" >nan</td>\n",
              "    </tr>\n",
              "  </tbody>\n",
              "</table>\n"
            ]
          },
          "metadata": {},
          "execution_count": 16
        }
      ],
      "source": [
        "# Showing the results of data wrangling\n",
        "show(apple_data)"
      ]
    },
    {
      "cell_type": "markdown",
      "metadata": {
        "id": "FW2lvWDCgkRd"
      },
      "source": [
        "Sweet. So now we are going to build off this `apple_data` from this point on.\n",
        "\n",
        "Since we are working with unsupervised learning for the first part of my chatbot, I do not need to do a train test split. My test set would also just end up needing labels as well. For this reason, I will just subset my data to the inbound/outbound data without employing the concept of unseen data."
      ]
    },
    {
      "cell_type": "code",
      "source": [
        "apple_data['combined_text'] = apple_data['inbound_text'] + \" \" + apple_data['outbound_text']\n",
        "display(apple_data.head(10))\n",
        "display(apple_data.info())\n"
      ],
      "metadata": {
        "id": "NT1bqK0cj9Cu",
        "colab": {
          "base_uri": "https://localhost:8080/",
          "height": 978
        },
        "outputId": "21ae2a72-f538-47f6-e781-8dd7c30b26fd"
      },
      "execution_count": 18,
      "outputs": [
        {
          "output_type": "display_data",
          "data": {
            "text/plain": [
              "                                                                                                                               inbound_text  \\\n",
              "0                                                                   @AppleSupport The newest update. I️ made sure to download it yesterday.   \n",
              "1                                                                                                    @AppleSupport  https://t.co/NV0yucs0lB   \n",
              "2                                                              @AppleSupport Tried resetting my settings .. restarting my phone .. all that   \n",
              "3                                                                          @AppleSupport This is what it looks like https://t.co/XCQU2l4xUB   \n",
              "4                                                                                      @AppleSupport I️ have an iPhone 7 Plus and yes I️ do   \n",
              "5                                                                                     @AppleSupport I️ need answers because it’s annoying 🙃   \n",
              "6  Hey @AppleSupport and anyone else who upgraded to ios11.1, are y’all having issues with capital “I️” in the Mail app? As it puts in “A”?   \n",
              "7                                                                        @AppleSupport This is what is happening... https://t.co/X3SZSJXfAT   \n",
              "8                                                                                                      Tf is wrong with my keyboard @115858   \n",
              "9                                                                                  @AppleSupport are the call centres closed for the night?   \n",
              "\n",
              "      author_id                      created_at  \\\n",
              "0  AppleSupport  Tue Oct 31 22:36:27 +0000 2017   \n",
              "1  AppleSupport  Tue Oct 31 22:27:49 +0000 2017   \n",
              "2  AppleSupport  Tue Oct 31 22:26:49 +0000 2017   \n",
              "3  AppleSupport  Tue Oct 31 22:09:52 +0000 2017   \n",
              "4  AppleSupport  Tue Oct 31 21:57:00 +0000 2017   \n",
              "5  AppleSupport  Tue Oct 31 21:43:15 +0000 2017   \n",
              "6  AppleSupport  Tue Oct 31 22:26:29 +0000 2017   \n",
              "7  AppleSupport  Tue Oct 31 22:24:54 +0000 2017   \n",
              "8  AppleSupport  Tue Oct 31 22:05:00 +0000 2017   \n",
              "9  AppleSupport  Tue Oct 31 22:24:27 +0000 2017   \n",
              "\n",
              "                                                                                                                                    outbound_text  \\\n",
              "0  @115854 Lets take a closer look into this issue. Select the following link to join us in a DM and we'll go from there. https://t.co/GDrqU22YpT   \n",
              "1                              @115854 We're here for you. Which version of the iOS are you running? Check from Settings &gt; General &gt; About.   \n",
              "2                                                                  @115855 Let's go to DM for the next steps. DM us here: https://t.co/GDrqU22YpT   \n",
              "3                                                                                            @115855 Any steps tried since it started last night?   \n",
              "4      @115855 That's great it has iOS 11.1 as we can rule out being outdated. Any steps tried since this started? Do you recall when it started?   \n",
              "5                        @115855 We'd like to look into this with you. Which model do you have and is iOS 11.1 installed? Any steps tried so far?   \n",
              "6            @115856 Hey, let's work together to figure out what's going on. Meet us in DM and we'll continue from there. https://t.co/GDrqU22YpT   \n",
              "7                @115857 We'd like to investigate further with you. Send us a DM and we can troubleshoot more from there. https://t.co/GDrqU22YpT   \n",
              "8                                                                       @115857 Fill us in on what is happening, then we can help out from there.   \n",
              "9                                                                                         @115859 We've received your DM and will continue there.   \n",
              "\n",
              "  response_tweet_id  \\\n",
              "0               NaN   \n",
              "1               697   \n",
              "2               NaN   \n",
              "3               702   \n",
              "4           706,704   \n",
              "5               707   \n",
              "6               713   \n",
              "7               NaN   \n",
              "8               717   \n",
              "9               NaN   \n",
              "\n",
              "                                                                                                                                                                                                                                                                   combined_text  \n",
              "0                                                         @AppleSupport The newest update. I️ made sure to download it yesterday. @115854 Lets take a closer look into this issue. Select the following link to join us in a DM and we'll go from there. https://t.co/GDrqU22YpT  \n",
              "1                                                                                                                      @AppleSupport  https://t.co/NV0yucs0lB @115854 We're here for you. Which version of the iOS are you running? Check from Settings &gt; General &gt; About.  \n",
              "2                                                                                                                    @AppleSupport Tried resetting my settings .. restarting my phone .. all that @115855 Let's go to DM for the next steps. DM us here: https://t.co/GDrqU22YpT  \n",
              "3                                                                                                                                                          @AppleSupport This is what it looks like https://t.co/XCQU2l4xUB @115855 Any steps tried since it started last night?  \n",
              "4                                                                                @AppleSupport I️ have an iPhone 7 Plus and yes I️ do @115855 That's great it has iOS 11.1 as we can rule out being outdated. Any steps tried since this started? Do you recall when it started?  \n",
              "5                                                                                                 @AppleSupport I️ need answers because it’s annoying 🙃 @115855 We'd like to look into this with you. Which model do you have and is iOS 11.1 installed? Any steps tried so far?  \n",
              "6  Hey @AppleSupport and anyone else who upgraded to ios11.1, are y’all having issues with capital “I️” in the Mail app? As it puts in “A”? @115856 Hey, let's work together to figure out what's going on. Meet us in DM and we'll continue from there. https://t.co/GDrqU22YpT  \n",
              "7                                                                            @AppleSupport This is what is happening... https://t.co/X3SZSJXfAT @115857 We'd like to investigate further with you. Send us a DM and we can troubleshoot more from there. https://t.co/GDrqU22YpT  \n",
              "8                                                                                                                                                                 Tf is wrong with my keyboard @115858 @115857 Fill us in on what is happening, then we can help out from there.  \n",
              "9                                                                                                                                                               @AppleSupport are the call centres closed for the night? @115859 We've received your DM and will continue there.  "
            ],
            "text/html": [
              "\n",
              "  <div id=\"df-e21bcbcc-cfc9-44e2-aa94-ec2b9854626e\" class=\"colab-df-container\">\n",
              "    <div>\n",
              "<style scoped>\n",
              "    .dataframe tbody tr th:only-of-type {\n",
              "        vertical-align: middle;\n",
              "    }\n",
              "\n",
              "    .dataframe tbody tr th {\n",
              "        vertical-align: top;\n",
              "    }\n",
              "\n",
              "    .dataframe thead th {\n",
              "        text-align: right;\n",
              "    }\n",
              "</style>\n",
              "<table border=\"1\" class=\"dataframe\">\n",
              "  <thead>\n",
              "    <tr style=\"text-align: right;\">\n",
              "      <th></th>\n",
              "      <th>inbound_text</th>\n",
              "      <th>author_id</th>\n",
              "      <th>created_at</th>\n",
              "      <th>outbound_text</th>\n",
              "      <th>response_tweet_id</th>\n",
              "      <th>combined_text</th>\n",
              "    </tr>\n",
              "  </thead>\n",
              "  <tbody>\n",
              "    <tr>\n",
              "      <th>0</th>\n",
              "      <td>@AppleSupport The newest update. I️ made sure to download it yesterday.</td>\n",
              "      <td>AppleSupport</td>\n",
              "      <td>Tue Oct 31 22:36:27 +0000 2017</td>\n",
              "      <td>@115854 Lets take a closer look into this issue. Select the following link to join us in a DM and we'll go from there. https://t.co/GDrqU22YpT</td>\n",
              "      <td>NaN</td>\n",
              "      <td>@AppleSupport The newest update. I️ made sure to download it yesterday. @115854 Lets take a closer look into this issue. Select the following link to join us in a DM and we'll go from there. https://t.co/GDrqU22YpT</td>\n",
              "    </tr>\n",
              "    <tr>\n",
              "      <th>1</th>\n",
              "      <td>@AppleSupport  https://t.co/NV0yucs0lB</td>\n",
              "      <td>AppleSupport</td>\n",
              "      <td>Tue Oct 31 22:27:49 +0000 2017</td>\n",
              "      <td>@115854 We're here for you. Which version of the iOS are you running? Check from Settings &amp;gt; General &amp;gt; About.</td>\n",
              "      <td>697</td>\n",
              "      <td>@AppleSupport  https://t.co/NV0yucs0lB @115854 We're here for you. Which version of the iOS are you running? Check from Settings &amp;gt; General &amp;gt; About.</td>\n",
              "    </tr>\n",
              "    <tr>\n",
              "      <th>2</th>\n",
              "      <td>@AppleSupport Tried resetting my settings .. restarting my phone .. all that</td>\n",
              "      <td>AppleSupport</td>\n",
              "      <td>Tue Oct 31 22:26:49 +0000 2017</td>\n",
              "      <td>@115855 Let's go to DM for the next steps. DM us here: https://t.co/GDrqU22YpT</td>\n",
              "      <td>NaN</td>\n",
              "      <td>@AppleSupport Tried resetting my settings .. restarting my phone .. all that @115855 Let's go to DM for the next steps. DM us here: https://t.co/GDrqU22YpT</td>\n",
              "    </tr>\n",
              "    <tr>\n",
              "      <th>3</th>\n",
              "      <td>@AppleSupport This is what it looks like https://t.co/XCQU2l4xUB</td>\n",
              "      <td>AppleSupport</td>\n",
              "      <td>Tue Oct 31 22:09:52 +0000 2017</td>\n",
              "      <td>@115855 Any steps tried since it started last night?</td>\n",
              "      <td>702</td>\n",
              "      <td>@AppleSupport This is what it looks like https://t.co/XCQU2l4xUB @115855 Any steps tried since it started last night?</td>\n",
              "    </tr>\n",
              "    <tr>\n",
              "      <th>4</th>\n",
              "      <td>@AppleSupport I️ have an iPhone 7 Plus and yes I️ do</td>\n",
              "      <td>AppleSupport</td>\n",
              "      <td>Tue Oct 31 21:57:00 +0000 2017</td>\n",
              "      <td>@115855 That's great it has iOS 11.1 as we can rule out being outdated. Any steps tried since this started? Do you recall when it started?</td>\n",
              "      <td>706,704</td>\n",
              "      <td>@AppleSupport I️ have an iPhone 7 Plus and yes I️ do @115855 That's great it has iOS 11.1 as we can rule out being outdated. Any steps tried since this started? Do you recall when it started?</td>\n",
              "    </tr>\n",
              "    <tr>\n",
              "      <th>5</th>\n",
              "      <td>@AppleSupport I️ need answers because it’s annoying 🙃</td>\n",
              "      <td>AppleSupport</td>\n",
              "      <td>Tue Oct 31 21:43:15 +0000 2017</td>\n",
              "      <td>@115855 We'd like to look into this with you. Which model do you have and is iOS 11.1 installed? Any steps tried so far?</td>\n",
              "      <td>707</td>\n",
              "      <td>@AppleSupport I️ need answers because it’s annoying 🙃 @115855 We'd like to look into this with you. Which model do you have and is iOS 11.1 installed? Any steps tried so far?</td>\n",
              "    </tr>\n",
              "    <tr>\n",
              "      <th>6</th>\n",
              "      <td>Hey @AppleSupport and anyone else who upgraded to ios11.1, are y’all having issues with capital “I️” in the Mail app? As it puts in “A”?</td>\n",
              "      <td>AppleSupport</td>\n",
              "      <td>Tue Oct 31 22:26:29 +0000 2017</td>\n",
              "      <td>@115856 Hey, let's work together to figure out what's going on. Meet us in DM and we'll continue from there. https://t.co/GDrqU22YpT</td>\n",
              "      <td>713</td>\n",
              "      <td>Hey @AppleSupport and anyone else who upgraded to ios11.1, are y’all having issues with capital “I️” in the Mail app? As it puts in “A”? @115856 Hey, let's work together to figure out what's going on. Meet us in DM and we'll continue from there. https://t.co/GDrqU22YpT</td>\n",
              "    </tr>\n",
              "    <tr>\n",
              "      <th>7</th>\n",
              "      <td>@AppleSupport This is what is happening... https://t.co/X3SZSJXfAT</td>\n",
              "      <td>AppleSupport</td>\n",
              "      <td>Tue Oct 31 22:24:54 +0000 2017</td>\n",
              "      <td>@115857 We'd like to investigate further with you. Send us a DM and we can troubleshoot more from there. https://t.co/GDrqU22YpT</td>\n",
              "      <td>NaN</td>\n",
              "      <td>@AppleSupport This is what is happening... https://t.co/X3SZSJXfAT @115857 We'd like to investigate further with you. Send us a DM and we can troubleshoot more from there. https://t.co/GDrqU22YpT</td>\n",
              "    </tr>\n",
              "    <tr>\n",
              "      <th>8</th>\n",
              "      <td>Tf is wrong with my keyboard @115858</td>\n",
              "      <td>AppleSupport</td>\n",
              "      <td>Tue Oct 31 22:05:00 +0000 2017</td>\n",
              "      <td>@115857 Fill us in on what is happening, then we can help out from there.</td>\n",
              "      <td>717</td>\n",
              "      <td>Tf is wrong with my keyboard @115858 @115857 Fill us in on what is happening, then we can help out from there.</td>\n",
              "    </tr>\n",
              "    <tr>\n",
              "      <th>9</th>\n",
              "      <td>@AppleSupport are the call centres closed for the night?</td>\n",
              "      <td>AppleSupport</td>\n",
              "      <td>Tue Oct 31 22:24:27 +0000 2017</td>\n",
              "      <td>@115859 We've received your DM and will continue there.</td>\n",
              "      <td>NaN</td>\n",
              "      <td>@AppleSupport are the call centres closed for the night? @115859 We've received your DM and will continue there.</td>\n",
              "    </tr>\n",
              "  </tbody>\n",
              "</table>\n",
              "</div>\n",
              "    <div class=\"colab-df-buttons\">\n",
              "\n",
              "  <div class=\"colab-df-container\">\n",
              "    <button class=\"colab-df-convert\" onclick=\"convertToInteractive('df-e21bcbcc-cfc9-44e2-aa94-ec2b9854626e')\"\n",
              "            title=\"Convert this dataframe to an interactive table.\"\n",
              "            style=\"display:none;\">\n",
              "\n",
              "  <svg xmlns=\"http://www.w3.org/2000/svg\" height=\"24px\" viewBox=\"0 -960 960 960\">\n",
              "    <path d=\"M120-120v-720h720v720H120Zm60-500h600v-160H180v160Zm220 220h160v-160H400v160Zm0 220h160v-160H400v160ZM180-400h160v-160H180v160Zm440 0h160v-160H620v160ZM180-180h160v-160H180v160Zm440 0h160v-160H620v160Z\"/>\n",
              "  </svg>\n",
              "    </button>\n",
              "\n",
              "  <style>\n",
              "    .colab-df-container {\n",
              "      display:flex;\n",
              "      gap: 12px;\n",
              "    }\n",
              "\n",
              "    .colab-df-convert {\n",
              "      background-color: #E8F0FE;\n",
              "      border: none;\n",
              "      border-radius: 50%;\n",
              "      cursor: pointer;\n",
              "      display: none;\n",
              "      fill: #1967D2;\n",
              "      height: 32px;\n",
              "      padding: 0 0 0 0;\n",
              "      width: 32px;\n",
              "    }\n",
              "\n",
              "    .colab-df-convert:hover {\n",
              "      background-color: #E2EBFA;\n",
              "      box-shadow: 0px 1px 2px rgba(60, 64, 67, 0.3), 0px 1px 3px 1px rgba(60, 64, 67, 0.15);\n",
              "      fill: #174EA6;\n",
              "    }\n",
              "\n",
              "    .colab-df-buttons div {\n",
              "      margin-bottom: 4px;\n",
              "    }\n",
              "\n",
              "    [theme=dark] .colab-df-convert {\n",
              "      background-color: #3B4455;\n",
              "      fill: #D2E3FC;\n",
              "    }\n",
              "\n",
              "    [theme=dark] .colab-df-convert:hover {\n",
              "      background-color: #434B5C;\n",
              "      box-shadow: 0px 1px 3px 1px rgba(0, 0, 0, 0.15);\n",
              "      filter: drop-shadow(0px 1px 2px rgba(0, 0, 0, 0.3));\n",
              "      fill: #FFFFFF;\n",
              "    }\n",
              "  </style>\n",
              "\n",
              "    <script>\n",
              "      const buttonEl =\n",
              "        document.querySelector('#df-e21bcbcc-cfc9-44e2-aa94-ec2b9854626e button.colab-df-convert');\n",
              "      buttonEl.style.display =\n",
              "        google.colab.kernel.accessAllowed ? 'block' : 'none';\n",
              "\n",
              "      async function convertToInteractive(key) {\n",
              "        const element = document.querySelector('#df-e21bcbcc-cfc9-44e2-aa94-ec2b9854626e');\n",
              "        const dataTable =\n",
              "          await google.colab.kernel.invokeFunction('convertToInteractive',\n",
              "                                                    [key], {});\n",
              "        if (!dataTable) return;\n",
              "\n",
              "        const docLinkHtml = 'Like what you see? Visit the ' +\n",
              "          '<a target=\"_blank\" href=https://colab.research.google.com/notebooks/data_table.ipynb>data table notebook</a>'\n",
              "          + ' to learn more about interactive tables.';\n",
              "        element.innerHTML = '';\n",
              "        dataTable['output_type'] = 'display_data';\n",
              "        await google.colab.output.renderOutput(dataTable, element);\n",
              "        const docLink = document.createElement('div');\n",
              "        docLink.innerHTML = docLinkHtml;\n",
              "        element.appendChild(docLink);\n",
              "      }\n",
              "    </script>\n",
              "  </div>\n",
              "\n",
              "\n",
              "<div id=\"df-95092fbc-753b-4cad-a731-f9b74e75a5f6\">\n",
              "  <button class=\"colab-df-quickchart\" onclick=\"quickchart('df-95092fbc-753b-4cad-a731-f9b74e75a5f6')\"\n",
              "            title=\"Suggest charts\"\n",
              "            style=\"display:none;\">\n",
              "\n",
              "<svg xmlns=\"http://www.w3.org/2000/svg\" height=\"24px\"viewBox=\"0 0 24 24\"\n",
              "     width=\"24px\">\n",
              "    <g>\n",
              "        <path d=\"M19 3H5c-1.1 0-2 .9-2 2v14c0 1.1.9 2 2 2h14c1.1 0 2-.9 2-2V5c0-1.1-.9-2-2-2zM9 17H7v-7h2v7zm4 0h-2V7h2v10zm4 0h-2v-4h2v4z\"/>\n",
              "    </g>\n",
              "</svg>\n",
              "  </button>\n",
              "\n",
              "<style>\n",
              "  .colab-df-quickchart {\n",
              "      --bg-color: #E8F0FE;\n",
              "      --fill-color: #1967D2;\n",
              "      --hover-bg-color: #E2EBFA;\n",
              "      --hover-fill-color: #174EA6;\n",
              "      --disabled-fill-color: #AAA;\n",
              "      --disabled-bg-color: #DDD;\n",
              "  }\n",
              "\n",
              "  [theme=dark] .colab-df-quickchart {\n",
              "      --bg-color: #3B4455;\n",
              "      --fill-color: #D2E3FC;\n",
              "      --hover-bg-color: #434B5C;\n",
              "      --hover-fill-color: #FFFFFF;\n",
              "      --disabled-bg-color: #3B4455;\n",
              "      --disabled-fill-color: #666;\n",
              "  }\n",
              "\n",
              "  .colab-df-quickchart {\n",
              "    background-color: var(--bg-color);\n",
              "    border: none;\n",
              "    border-radius: 50%;\n",
              "    cursor: pointer;\n",
              "    display: none;\n",
              "    fill: var(--fill-color);\n",
              "    height: 32px;\n",
              "    padding: 0;\n",
              "    width: 32px;\n",
              "  }\n",
              "\n",
              "  .colab-df-quickchart:hover {\n",
              "    background-color: var(--hover-bg-color);\n",
              "    box-shadow: 0 1px 2px rgba(60, 64, 67, 0.3), 0 1px 3px 1px rgba(60, 64, 67, 0.15);\n",
              "    fill: var(--button-hover-fill-color);\n",
              "  }\n",
              "\n",
              "  .colab-df-quickchart-complete:disabled,\n",
              "  .colab-df-quickchart-complete:disabled:hover {\n",
              "    background-color: var(--disabled-bg-color);\n",
              "    fill: var(--disabled-fill-color);\n",
              "    box-shadow: none;\n",
              "  }\n",
              "\n",
              "  .colab-df-spinner {\n",
              "    border: 2px solid var(--fill-color);\n",
              "    border-color: transparent;\n",
              "    border-bottom-color: var(--fill-color);\n",
              "    animation:\n",
              "      spin 1s steps(1) infinite;\n",
              "  }\n",
              "\n",
              "  @keyframes spin {\n",
              "    0% {\n",
              "      border-color: transparent;\n",
              "      border-bottom-color: var(--fill-color);\n",
              "      border-left-color: var(--fill-color);\n",
              "    }\n",
              "    20% {\n",
              "      border-color: transparent;\n",
              "      border-left-color: var(--fill-color);\n",
              "      border-top-color: var(--fill-color);\n",
              "    }\n",
              "    30% {\n",
              "      border-color: transparent;\n",
              "      border-left-color: var(--fill-color);\n",
              "      border-top-color: var(--fill-color);\n",
              "      border-right-color: var(--fill-color);\n",
              "    }\n",
              "    40% {\n",
              "      border-color: transparent;\n",
              "      border-right-color: var(--fill-color);\n",
              "      border-top-color: var(--fill-color);\n",
              "    }\n",
              "    60% {\n",
              "      border-color: transparent;\n",
              "      border-right-color: var(--fill-color);\n",
              "    }\n",
              "    80% {\n",
              "      border-color: transparent;\n",
              "      border-right-color: var(--fill-color);\n",
              "      border-bottom-color: var(--fill-color);\n",
              "    }\n",
              "    90% {\n",
              "      border-color: transparent;\n",
              "      border-bottom-color: var(--fill-color);\n",
              "    }\n",
              "  }\n",
              "</style>\n",
              "\n",
              "  <script>\n",
              "    async function quickchart(key) {\n",
              "      const quickchartButtonEl =\n",
              "        document.querySelector('#' + key + ' button');\n",
              "      quickchartButtonEl.disabled = true;  // To prevent multiple clicks.\n",
              "      quickchartButtonEl.classList.add('colab-df-spinner');\n",
              "      try {\n",
              "        const charts = await google.colab.kernel.invokeFunction(\n",
              "            'suggestCharts', [key], {});\n",
              "      } catch (error) {\n",
              "        console.error('Error during call to suggestCharts:', error);\n",
              "      }\n",
              "      quickchartButtonEl.classList.remove('colab-df-spinner');\n",
              "      quickchartButtonEl.classList.add('colab-df-quickchart-complete');\n",
              "    }\n",
              "    (() => {\n",
              "      let quickchartButtonEl =\n",
              "        document.querySelector('#df-95092fbc-753b-4cad-a731-f9b74e75a5f6 button');\n",
              "      quickchartButtonEl.style.display =\n",
              "        google.colab.kernel.accessAllowed ? 'block' : 'none';\n",
              "    })();\n",
              "  </script>\n",
              "</div>\n",
              "\n",
              "    </div>\n",
              "  </div>\n"
            ],
            "application/vnd.google.colaboratory.intrinsic+json": {
              "type": "dataframe",
              "summary": "{\n  \"name\": \"display(apple_data\",\n  \"rows\": 10,\n  \"fields\": [\n    {\n      \"column\": \"inbound_text\",\n      \"properties\": {\n        \"dtype\": \"string\",\n        \"num_unique_values\": 10,\n        \"samples\": [\n          \"Tf is wrong with my keyboard @115858\",\n          \"@AppleSupport  https://t.co/NV0yucs0lB\",\n          \"@AppleSupport I\\ufe0f need answers because it\\u2019s annoying \\ud83d\\ude43\"\n        ],\n        \"semantic_type\": \"\",\n        \"description\": \"\"\n      }\n    },\n    {\n      \"column\": \"author_id\",\n      \"properties\": {\n        \"dtype\": \"string\",\n        \"num_unique_values\": 1,\n        \"samples\": [\n          \"AppleSupport\"\n        ],\n        \"semantic_type\": \"\",\n        \"description\": \"\"\n      }\n    },\n    {\n      \"column\": \"created_at\",\n      \"properties\": {\n        \"dtype\": \"object\",\n        \"num_unique_values\": 10,\n        \"samples\": [\n          \"Tue Oct 31 22:05:00 +0000 2017\"\n        ],\n        \"semantic_type\": \"\",\n        \"description\": \"\"\n      }\n    },\n    {\n      \"column\": \"outbound_text\",\n      \"properties\": {\n        \"dtype\": \"string\",\n        \"num_unique_values\": 10,\n        \"samples\": [\n          \"@115857 Fill us in on what is happening, then we can help out from there.\"\n        ],\n        \"semantic_type\": \"\",\n        \"description\": \"\"\n      }\n    },\n    {\n      \"column\": \"response_tweet_id\",\n      \"properties\": {\n        \"dtype\": \"string\",\n        \"num_unique_values\": 6,\n        \"samples\": [\n          \"697\"\n        ],\n        \"semantic_type\": \"\",\n        \"description\": \"\"\n      }\n    },\n    {\n      \"column\": \"combined_text\",\n      \"properties\": {\n        \"dtype\": \"string\",\n        \"num_unique_values\": 10,\n        \"samples\": [\n          \"Tf is wrong with my keyboard @115858 @115857 Fill us in on what is happening, then we can help out from there.\"\n        ],\n        \"semantic_type\": \"\",\n        \"description\": \"\"\n      }\n    }\n  ]\n}"
            }
          },
          "metadata": {}
        },
        {
          "output_type": "stream",
          "name": "stdout",
          "text": [
            "<class 'pandas.core.frame.DataFrame'>\n",
            "RangeIndex: 106648 entries, 0 to 106647\n",
            "Data columns (total 6 columns):\n",
            " #   Column             Non-Null Count   Dtype \n",
            "---  ------             --------------   ----- \n",
            " 0   inbound_text       106648 non-null  string\n",
            " 1   author_id          106648 non-null  string\n",
            " 2   created_at         106648 non-null  object\n",
            " 3   outbound_text      106648 non-null  string\n",
            " 4   response_tweet_id  31352 non-null   object\n",
            " 5   combined_text      106648 non-null  string\n",
            "dtypes: object(2), string(4)\n",
            "memory usage: 4.9+ MB\n"
          ]
        },
        {
          "output_type": "display_data",
          "data": {
            "text/plain": [
              "None"
            ]
          },
          "metadata": {}
        }
      ]
    },
    {
      "cell_type": "markdown",
      "metadata": {
        "id": "SdjrPPr0gkRe"
      },
      "source": [
        "This outbound data will be useful for natural langauge generation, and I might want to store the id where it points to as well.\n",
        "\n",
        "When we process this outbound data for natural langauge generation, would this have a different preprocessing steps? Would we want it to have more complete sentences so maybe we would not try to remove the actual stop words and punctuation."
      ]
    },
    {
      "cell_type": "code",
      "source": [
        "apple_data.info()\n",
        "apple_data.to_csv(root_path + \"/apple_data.csv\")"
      ],
      "metadata": {
        "colab": {
          "base_uri": "https://localhost:8080/"
        },
        "id": "rgalEErtmxHm",
        "outputId": "21123129-5f70-4737-a444-fcdc27606ef9"
      },
      "execution_count": 19,
      "outputs": [
        {
          "output_type": "stream",
          "name": "stdout",
          "text": [
            "<class 'pandas.core.frame.DataFrame'>\n",
            "RangeIndex: 106648 entries, 0 to 106647\n",
            "Data columns (total 6 columns):\n",
            " #   Column             Non-Null Count   Dtype \n",
            "---  ------             --------------   ----- \n",
            " 0   inbound_text       106648 non-null  string\n",
            " 1   author_id          106648 non-null  string\n",
            " 2   created_at         106648 non-null  object\n",
            " 3   outbound_text      106648 non-null  string\n",
            " 4   response_tweet_id  31352 non-null   object\n",
            " 5   combined_text      106648 non-null  string\n",
            "dtypes: object(2), string(4)\n",
            "memory usage: 4.9+ MB\n"
          ]
        }
      ]
    },
    {
      "cell_type": "markdown",
      "metadata": {
        "id": "wWBuSKejgkRe"
      },
      "source": [
        "# 4. Text Preprocessing Pipeline\n",
        "In this process, it's expected that I will find much edge cases, and I don't have to address them all. However, in the end, I felt like my preprocessing pipeline is relatively complete given this dataset.\n",
        "\n",
        "Also, this was an iterative process because I fit my models in the next notebook just to notice that my Tweets still had '\\u200d', '#', '', and '@' even though I still did a lot of fitting already. These are just emojis and extra punctuation I decided at a later stage to remove, but in the end I just modified my pipeline function."
      ]
    },
    {
      "cell_type": "markdown",
      "metadata": {
        "id": "c18w2YqYgkRe"
      },
      "source": [
        "Before that, I did a bit of EDA with bag of words to see what words are being used the most by the dataset to better preprocess the data and prevent working in too much granularity."
      ]
    },
    {
      "cell_type": "code",
      "source": [
        "from nltk.tokenize import TreebankWordTokenizer\n",
        "from nltk.stem import WordNetLemmatizer #Used to lemmatize words\n",
        "from nltk.tokenize import TweetTokenizer\n",
        "from nltk.corpus import stopwords\n",
        "import re\n",
        "import spacy\n",
        "from sklearn.preprocessing import LabelEncoder\n",
        "from sklearn.feature_extraction.text import TfidfVectorizer\n",
        "import matplotlib.pyplot as plt\n",
        "from sklearn.metrics import ConfusionMatrixDisplay\n",
        "from collections import Counter\n",
        "import nltk\n",
        "import emoji\n",
        "\n",
        "# the following error happens on mac\n",
        "import ssl\n",
        "try:\n",
        "    _create_unverified_https_context = ssl._create_unverified_context\n",
        "except AttributeError:\n",
        "    pass\n",
        "else:\n",
        "    ssl._create_default_https_context = _create_unverified_https_context\n",
        "# the above is not needed on Windows\n",
        "\n",
        "nltk.download('stopwords')\n",
        "\n",
        "stop_words = set(stopwords.words('english'))\n",
        "tw_tokenizer = TweetTokenizer(reduce_len=True)\n",
        "nlp = spacy.load(\"en_core_web_sm\")\n",
        "\n",
        "# Checking the first 10 most frequent words\n",
        "cnt = Counter()\n",
        "for text in apple_data[\"inbound_text\"].values:\n",
        "    for word in text.split():\n",
        "        cnt[word] += 1\n",
        "\n",
        "common_words = [item[0] for item in cnt.most_common(10)]\n",
        "\n",
        "def remove_stopwords_commonwords_lemmatizer(text):\n",
        "    sent = []\n",
        "    # doc = nlp(text)\n",
        "\n",
        "    for token in tw_tokenizer.tokenize(text):\n",
        "        if (token not in stop_words) and (token not in common_words):\n",
        "            sent.append(token)\n",
        "    return \" \".join(sent)\n",
        "\n",
        "def customize_stopwords():\n",
        "  fillerWord = (\"so\",\"yeah\",\"okay\",\"um\",\"uh\",\"mmm\",\"ahan\",\"uh\",\"huh\",\"ahm\",\"oh\",\"sooo\",\"uh\",\"huh\",\"yeh\",\"yah\",\"hmm\",\"bye\")\n",
        "  stop_words.add(fillerWord)\n",
        "\n",
        "  keep_words =[\"not\",\"nor\",\"neither\", \"no\"]\n",
        "  for i in keep_words:\n",
        "      stop_words.discard(i)\n",
        "\n",
        "\n",
        "\n",
        "# Converting emojis to words\n",
        "def convert_emoji_to_text(emoji_text):\n",
        "    text_with_aliases = emoji.demojize(emoji_text)\n",
        "    return text_with_aliases\n",
        "\n",
        "\n",
        "def clean_text(text):\n",
        "\n",
        "    text = str(text).lower()\n",
        "    # replace abbreviation correct misspelling words\n",
        "    text = preprocess_chat_text(text)\n",
        "    # text = convert_emoticons(text)\n",
        "    text = convert_emoji_to_text(text)\n",
        "\n",
        "    text = re.sub(r\"https?://t.co/\\S+\", \" \", str(text))\n",
        "    text = re.sub(r\"@\\w+\", \" \", text)  # Remove placeholder [+XYZ chars]\n",
        "    text = re.sub(r\"\\[\\w+\\]\", \" \", text)  # Remove placeholder [+XYZ chars]\n",
        "    text = re.sub(r\"[(/)*-]\", \" \", text)\n",
        "    text = re.sub(r\"[\\.]{2,}\", \" \", text)  # Remove ellipsis\n",
        "    text = re.sub(r\"\\d+\", \" \", text)\n",
        "    # text = re.sub(r\"[#@]\", \" \", text) # remove hashtag signs\n",
        "    text = re.sub(r\"yo{1,}u{1,}\", \"you\", text)\n",
        "    text = re.sub(r\"ah{1,}\", \" relief, happy \", text)\n",
        "    text = re.sub(r\"alaugh\\w+\", \"laugh\", text)\n",
        "    text = re.sub(r\"angry{1,}\", \"angry\", text)\n",
        "    text = re.sub(r\"boo{1,}m\", \"boom\", text)\n",
        "    text = re.sub(r\"cherr{1,}yy{1,}\", \"cherry\", text)\n",
        "    text = re.sub(r\"class{1,}y\", \"classy\", text)\n",
        "    text = re.sub(r\"cu{2,}te\", \"cute\", text)\n",
        "    text = re.sub(r\"fu{2,}ck\\w+\", \"fuck\", text)\n",
        "    text = re.sub(r\"him{2,}\", \"him\", text)\n",
        "    text = re.sub(r\"(no){2,}yes\", \" finally ok \", text)\n",
        "    text = re.sub(r\"yee{1,}ss{1,}\", \"yes\", text)\n",
        "    text = re.sub(r\"(no){2,}\", \"no\", text)\n",
        "    text = re.sub(r\"agaa{1,}in\", \"again\", text)\n",
        "    text = re.sub(r\"a{1,}g{0,}h{1,}\", \"angry\", text)\n",
        "    text = re.sub(r\"a{1,}laug{0,}h{1,}\", \"laugh\", text)\n",
        "    text = re.sub(r\"\\s+\", \" \", text)  # Remove multiple spaces in content\n",
        "\n",
        "    # tokens = tw_tokenizer.tokenize(text)\n",
        "    # text = \"\"\n",
        "    text = remove_stopwords_commonwords_lemmatizer(text)\n",
        "    return text\n",
        "\n",
        "\n",
        "def preprocess_chat_text(text):\n",
        "    # Expand common abbreviations\n",
        "    abbreviation_mapping = {\n",
        "        \":d\": \"laugh\",\n",
        "        \"lol\": \"laugh out loud\",\n",
        "        \"brb\": \"be right back\",\n",
        "        \"omg\": \"oh my god\",\n",
        "        \"sec\": \"second\",\n",
        "        'idk': \"i do not know\",\n",
        "        \"doesn't\": \"does not\",\n",
        "        \"don't\": \"do not\",\n",
        "        \"didn't\": \"did not\",\n",
        "        \"isn't\": \"is not\",\n",
        "        \"hadn't\": \"had not\",\n",
        "        \"haven't\": \"have not\",\n",
        "        \"mightn't\": \"might not\",\n",
        "        \"needn't\": \"need not\",\n",
        "        \"wasn't\": \"was not\",\n",
        "        \"weren't\": \"were not\",\n",
        "        \"won't\": \"will not\",\n",
        "        \"shouldn't\": \"should not\",\n",
        "        \"lmao\": \"laughing my ass off\",\n",
        "        \"'ve\": \" have\",\n",
        "        \"I'm\": \"I am\",\n",
        "        \"'s\": \" is\",\n",
        "        \"can't\": \"can not\",\n",
        "        \"it's\": \"it is\",\n",
        "        \"you're\": \"you are\",\n",
        "        \"nvm\": \"never mind\",\n",
        "        \"haha\": \"laugh\",\n",
        "        \"it'll\": \"it will\",\n",
        "        \"'ll\": \" will\",\n",
        "        \"r/\": \" are \",\n",
        "        # Add more mappings as needed\n",
        "    }\n",
        "\n",
        "    # Replace abbreviations with their expanded forms\n",
        "    for abbreviation, expansion in abbreviation_mapping.items():\n",
        "        text = text.replace(abbreviation, expansion)\n",
        "\n",
        "    # Normalize common misspellings\n",
        "    misspelling_mapping = {\n",
        "        \"u\": \"you\",\n",
        "        \"gr8\": \"great\",\n",
        "        # Add more mappings as needed\n",
        "    }\n",
        "\n",
        "    emonicons_mapping = {\n",
        "       \":)\": \"happy\",\n",
        "       \":-)\": \"happy\",\n",
        "       \";)\" : \"happy winking\",\n",
        "        \";-)\": \"happy winking\",\n",
        "        \":P\": \"sticking out tongue\",\n",
        "        \":-P\": \"sticking out tongue\",\n",
        "        \":D\" :\t\"open-mouthed grin\",\n",
        "        \":-D\": \"open-mouthed grin\",\n",
        "        \":(\":\t\"unhappy\",\n",
        "        \":-(\": \"unhappy\",\n",
        "        \":~(\": \"crying\",\n",
        "        \":-|\": \"unemotional\",\n",
        "        \">:-(\": \"very unhappy\",\n",
        "        \"8-)\": \"wide eyed happyness\",\n",
        "        \":-O\": \"surprise\",\n",
        "        \":o\": \"surprise\",\n",
        "        \"8-O\": \"wide-eyed shouting\",\n",
        "        \">8-O\": \"mad wide-eyed shouting\",\n",
        "        \"|-|\": \"asleep\",\n",
        "        \"==|:-)\": \"silly\",\n",
        "    }\n",
        "\n",
        "    # Replace misspelled words with their correct forms\n",
        "    for misspelling, correction in misspelling_mapping.items():\n",
        "        text = re.sub(r\"\\b{}\\b\".format(misspelling), correction, text)\n",
        "\n",
        "    # Replace emoticons with their mapping words\n",
        "    for emoticon, correction in emonicons_mapping.items():\n",
        "        text = text.replace(emoticon, correction)\n",
        "    return text\n",
        "\n",
        "def clean_text_wrapper(df_train):\n",
        "    customize_stopwords()\n",
        "\n",
        "    # Checking the first 10 most frequent words\n",
        "    cnt = Counter()\n",
        "    for text in df_train[\"inbound_text\"].values:\n",
        "        for word in text.split():\n",
        "            cnt[word] += 1\n",
        "\n",
        "    cnt.most_common(10)\n",
        "\n",
        "\n",
        "    print(\"Start cleaning...\")\n",
        "    df_train['clean_combined_text'] = df_train['combined_text'].apply(clean_text)\n",
        "    # df_test['cleaned_text'] = df_test.inbound_text.apply(clean_text)\n",
        "    print(\"done!\")\n",
        "    # df_train.to_csv(\"data/cleaned_train.csv\", index=False)\n",
        "    # df_test.to_csv(\"data/cleaned_test.csv\", index=False)\n",
        "    return df_train  #, df_test\n",
        "\n",
        "def encode_label(df_train):\n",
        "    le = LabelEncoder()\n",
        "    df_train[\"upt_label\"] = le.fit_transform(df_train['Label'])\n",
        "    le_name_mapping = dict(zip(le.classes_, le.transform(le.classes_)))\n",
        "    le_label_mapping = dict(zip(le.transform(le.classes_), le.classes_))\n",
        "    print(\"name maps to numeric label: \", le_name_mapping)\n",
        "    print(\"numeric label maps to name: \", le_label_mapping)\n",
        "    return le_name_mapping, le_label_mapping, df_train[\"upt_label\"]\n",
        "\n",
        "def encode_doc(para_max_features, para_ngram_range, train_docs, test_docs):\n",
        "    vectorizer = TfidfVectorizer(max_features=para_max_features, ngram_range = para_ngram_range,  min_df=1, max_df=0.7)\n",
        "    text_train = vectorizer.fit_transform(train_docs)\n",
        "    text_test = vectorizer.transform(test_docs)\n",
        "    tfidf_tokens = vectorizer.get_feature_names_out()\n",
        "    print(\"text_train.shape:\", text_train.shape)\n",
        "    print(\"The first 100 tokens:\", tfidf_tokens[:100])\n",
        "    return text_train, text_test\n",
        "\n",
        "def draw_piechart(df_train):\n",
        "    # show pie chart for the training data distribution\n",
        "    kwargs = dict(\n",
        "        startangle = 90,\n",
        "        autopct = '%1.1f%%',\n",
        "        labels = df_train['Label'].value_counts().index,\n",
        "        colors=(\"#048a81\", \"#06d6a0\", \"#54C6EB\", \"#8A89C0\", \"#CDA2AB\"),\n",
        "        radius = 0.9,\n",
        "        textprops={'size': 'medium'},\n",
        "    )\n",
        "    fig, ax = plt.subplots(figsize=(4.8, 4.8))\n",
        "    fig.subplots_adjust(top=0.7, bottom=0, right=1, left=0, hspace=0, wspace=0)\n",
        "    ax.axis('equal')\n",
        "    ax.margins(0, 0)\n",
        "    ax.pie(df_train['Label'].value_counts(), **kwargs)\n",
        "    return fig\n",
        "\n",
        "def draw_confusion_matrix(cm, label_names):\n",
        "    fig, ax = plt.subplots(1, 1, figsize=(5, 5))\n",
        "    fig.subplots_adjust(top=0.7, bottom=0, right=0.9, left=0, hspace=0, wspace=0)\n",
        "\n",
        "    ax.set_title(\"Confusion Matrix\", size = 12)\n",
        "    ConfusionMatrixDisplay(\n",
        "        cm,\n",
        "        display_labels =label_names).plot(\n",
        "        include_values = True,\n",
        "        cmap=\"Blues\",\n",
        "        ax=ax,\n",
        "        colorbar=False)\n",
        "    ax.tick_params(axis='x', which='both', bottom = False, top = False, labelbottom = True,  labelsize=9)\n",
        "    return fig\n",
        "\n",
        "\n"
      ],
      "metadata": {
        "id": "rnRlUPX5V9bE",
        "colab": {
          "base_uri": "https://localhost:8080/"
        },
        "outputId": "637f4375-0178-4d1a-b8c5-2d9803df79a1"
      },
      "execution_count": 25,
      "outputs": [
        {
          "output_type": "stream",
          "name": "stderr",
          "text": [
            "[nltk_data] Downloading package stopwords to /root/nltk_data...\n",
            "[nltk_data]   Package stopwords is already up-to-date!\n"
          ]
        }
      ]
    },
    {
      "cell_type": "markdown",
      "metadata": {
        "id": "Ow1FpZujgkRe"
      },
      "source": [
        "We see that after preprocessing, we will remove the handles which is what applesupport and 115858 is in the visualization above. For now, I briefly visualized the top 10 most common tokens to show that my data as it currently is quite dirty, they will definitely skew and ruin my results if I don't do preprocessing!"
      ]
    },
    {
      "cell_type": "markdown",
      "source": [
        "### Save the processed data to apple_data dataframe"
      ],
      "metadata": {
        "id": "EFmA0LIB8N-2"
      }
    },
    {
      "cell_type": "code",
      "source": [
        "apple_data = clean_text_wrapper(apple_data)"
      ],
      "metadata": {
        "colab": {
          "base_uri": "https://localhost:8080/"
        },
        "id": "GtU2qFTYtGMV",
        "outputId": "599266c0-b483-4ecc-90b0-b3d46ba215ce"
      },
      "execution_count": 26,
      "outputs": [
        {
          "output_type": "stream",
          "name": "stdout",
          "text": [
            "Start cleaning...\n",
            "done!\n"
          ]
        }
      ]
    },
    {
      "cell_type": "code",
      "source": [
        "apple_data.to_csv(root_path + \"/apple_data.csv\")\n",
        "display(apple_data.head(10))\n",
        "display(apple_data.info())\n"
      ],
      "metadata": {
        "colab": {
          "base_uri": "https://localhost:8080/",
          "height": 1000
        },
        "id": "3lxnvW423GM7",
        "outputId": "be251a31-78f1-4e70-9bac-a8947c52e308"
      },
      "execution_count": 27,
      "outputs": [
        {
          "output_type": "display_data",
          "data": {
            "text/plain": [
              "                                                                                                                               inbound_text  \\\n",
              "0                                                                   @AppleSupport The newest update. I️ made sure to download it yesterday.   \n",
              "1                                                                                                    @AppleSupport  https://t.co/NV0yucs0lB   \n",
              "2                                                              @AppleSupport Tried resetting my settings .. restarting my phone .. all that   \n",
              "3                                                                          @AppleSupport This is what it looks like https://t.co/XCQU2l4xUB   \n",
              "4                                                                                      @AppleSupport I️ have an iPhone 7 Plus and yes I️ do   \n",
              "5                                                                                     @AppleSupport I️ need answers because it’s annoying 🙃   \n",
              "6  Hey @AppleSupport and anyone else who upgraded to ios11.1, are y’all having issues with capital “I️” in the Mail app? As it puts in “A”?   \n",
              "7                                                                        @AppleSupport This is what is happening... https://t.co/X3SZSJXfAT   \n",
              "8                                                                                                      Tf is wrong with my keyboard @115858   \n",
              "9                                                                                  @AppleSupport are the call centres closed for the night?   \n",
              "\n",
              "      author_id                      created_at  \\\n",
              "0  AppleSupport  Tue Oct 31 22:36:27 +0000 2017   \n",
              "1  AppleSupport  Tue Oct 31 22:27:49 +0000 2017   \n",
              "2  AppleSupport  Tue Oct 31 22:26:49 +0000 2017   \n",
              "3  AppleSupport  Tue Oct 31 22:09:52 +0000 2017   \n",
              "4  AppleSupport  Tue Oct 31 21:57:00 +0000 2017   \n",
              "5  AppleSupport  Tue Oct 31 21:43:15 +0000 2017   \n",
              "6  AppleSupport  Tue Oct 31 22:26:29 +0000 2017   \n",
              "7  AppleSupport  Tue Oct 31 22:24:54 +0000 2017   \n",
              "8  AppleSupport  Tue Oct 31 22:05:00 +0000 2017   \n",
              "9  AppleSupport  Tue Oct 31 22:24:27 +0000 2017   \n",
              "\n",
              "                                                                                                                                    outbound_text  \\\n",
              "0  @115854 Lets take a closer look into this issue. Select the following link to join us in a DM and we'll go from there. https://t.co/GDrqU22YpT   \n",
              "1                              @115854 We're here for you. Which version of the iOS are you running? Check from Settings &gt; General &gt; About.   \n",
              "2                                                                  @115855 Let's go to DM for the next steps. DM us here: https://t.co/GDrqU22YpT   \n",
              "3                                                                                            @115855 Any steps tried since it started last night?   \n",
              "4      @115855 That's great it has iOS 11.1 as we can rule out being outdated. Any steps tried since this started? Do you recall when it started?   \n",
              "5                        @115855 We'd like to look into this with you. Which model do you have and is iOS 11.1 installed? Any steps tried so far?   \n",
              "6            @115856 Hey, let's work together to figure out what's going on. Meet us in DM and we'll continue from there. https://t.co/GDrqU22YpT   \n",
              "7                @115857 We'd like to investigate further with you. Send us a DM and we can troubleshoot more from there. https://t.co/GDrqU22YpT   \n",
              "8                                                                       @115857 Fill us in on what is happening, then we can help out from there.   \n",
              "9                                                                                         @115859 We've received your DM and will continue there.   \n",
              "\n",
              "  response_tweet_id  \\\n",
              "0               NaN   \n",
              "1               697   \n",
              "2               NaN   \n",
              "3               702   \n",
              "4           706,704   \n",
              "5               707   \n",
              "6               713   \n",
              "7               NaN   \n",
              "8               717   \n",
              "9               NaN   \n",
              "\n",
              "                                                                                                                                                                                                                                                                   combined_text  \\\n",
              "0                                                         @AppleSupport The newest update. I️ made sure to download it yesterday. @115854 Lets take a closer look into this issue. Select the following link to join us in a DM and we'll go from there. https://t.co/GDrqU22YpT   \n",
              "1                                                                                                                      @AppleSupport  https://t.co/NV0yucs0lB @115854 We're here for you. Which version of the iOS are you running? Check from Settings &gt; General &gt; About.   \n",
              "2                                                                                                                    @AppleSupport Tried resetting my settings .. restarting my phone .. all that @115855 Let's go to DM for the next steps. DM us here: https://t.co/GDrqU22YpT   \n",
              "3                                                                                                                                                          @AppleSupport This is what it looks like https://t.co/XCQU2l4xUB @115855 Any steps tried since it started last night?   \n",
              "4                                                                                @AppleSupport I️ have an iPhone 7 Plus and yes I️ do @115855 That's great it has iOS 11.1 as we can rule out being outdated. Any steps tried since this started? Do you recall when it started?   \n",
              "5                                                                                                 @AppleSupport I️ need answers because it’s annoying 🙃 @115855 We'd like to look into this with you. Which model do you have and is iOS 11.1 installed? Any steps tried so far?   \n",
              "6  Hey @AppleSupport and anyone else who upgraded to ios11.1, are y’all having issues with capital “I️” in the Mail app? As it puts in “A”? @115856 Hey, let's work together to figure out what's going on. Meet us in DM and we'll continue from there. https://t.co/GDrqU22YpT   \n",
              "7                                                                            @AppleSupport This is what is happening... https://t.co/X3SZSJXfAT @115857 We'd like to investigate further with you. Send us a DM and we can troubleshoot more from there. https://t.co/GDrqU22YpT   \n",
              "8                                                                                                                                                                 Tf is wrong with my keyboard @115858 @115857 Fill us in on what is happening, then we can help out from there.   \n",
              "9                                                                                                                                                               @AppleSupport are the call centres closed for the night? @115859 We've received your DM and will continue there.   \n",
              "\n",
              "                                                                                                                        clean_combined_text  \n",
              "0                        newest update . made sure download yesterday . lets take closer look issue . select following link join us dm go .  \n",
              "1                                                                                we're . version ios running ? check settings > general > .  \n",
              "2                                                                  tried resetting settings restarting phone let go dm next steps . dm us :  \n",
              "3                                                                                         looks like steps tried since started last night ?  \n",
              "4                                                  iphone plus yes great ios . rule outdated . steps tried since started ? recall started ?  \n",
              "5                                   need answers ’ annoying : upside down_face : we'd like look . model ios . installed ? steps tried far ?  \n",
              "6  hey anyone else upgraded ios . , ’ issues capital “ ” mail app ? puts “ ” ? hey , let work together figure going . meet us dm continue .  \n",
              "7                                                                               happening we'd like investigate . send us dm troubleshoot .  \n",
              "8                                                                                              tf wrong keyboard fill us happening , help .  \n",
              "9                                                                                        call centres closed night ? received dm continue .  "
            ],
            "text/html": [
              "\n",
              "  <div id=\"df-0e5e7fb2-5fb9-420f-8714-b6f8bc4d9b9d\" class=\"colab-df-container\">\n",
              "    <div>\n",
              "<style scoped>\n",
              "    .dataframe tbody tr th:only-of-type {\n",
              "        vertical-align: middle;\n",
              "    }\n",
              "\n",
              "    .dataframe tbody tr th {\n",
              "        vertical-align: top;\n",
              "    }\n",
              "\n",
              "    .dataframe thead th {\n",
              "        text-align: right;\n",
              "    }\n",
              "</style>\n",
              "<table border=\"1\" class=\"dataframe\">\n",
              "  <thead>\n",
              "    <tr style=\"text-align: right;\">\n",
              "      <th></th>\n",
              "      <th>inbound_text</th>\n",
              "      <th>author_id</th>\n",
              "      <th>created_at</th>\n",
              "      <th>outbound_text</th>\n",
              "      <th>response_tweet_id</th>\n",
              "      <th>combined_text</th>\n",
              "      <th>clean_combined_text</th>\n",
              "    </tr>\n",
              "  </thead>\n",
              "  <tbody>\n",
              "    <tr>\n",
              "      <th>0</th>\n",
              "      <td>@AppleSupport The newest update. I️ made sure to download it yesterday.</td>\n",
              "      <td>AppleSupport</td>\n",
              "      <td>Tue Oct 31 22:36:27 +0000 2017</td>\n",
              "      <td>@115854 Lets take a closer look into this issue. Select the following link to join us in a DM and we'll go from there. https://t.co/GDrqU22YpT</td>\n",
              "      <td>NaN</td>\n",
              "      <td>@AppleSupport The newest update. I️ made sure to download it yesterday. @115854 Lets take a closer look into this issue. Select the following link to join us in a DM and we'll go from there. https://t.co/GDrqU22YpT</td>\n",
              "      <td>newest update . made sure download yesterday . lets take closer look issue . select following link join us dm go .</td>\n",
              "    </tr>\n",
              "    <tr>\n",
              "      <th>1</th>\n",
              "      <td>@AppleSupport  https://t.co/NV0yucs0lB</td>\n",
              "      <td>AppleSupport</td>\n",
              "      <td>Tue Oct 31 22:27:49 +0000 2017</td>\n",
              "      <td>@115854 We're here for you. Which version of the iOS are you running? Check from Settings &amp;gt; General &amp;gt; About.</td>\n",
              "      <td>697</td>\n",
              "      <td>@AppleSupport  https://t.co/NV0yucs0lB @115854 We're here for you. Which version of the iOS are you running? Check from Settings &amp;gt; General &amp;gt; About.</td>\n",
              "      <td>we're . version ios running ? check settings &gt; general &gt; .</td>\n",
              "    </tr>\n",
              "    <tr>\n",
              "      <th>2</th>\n",
              "      <td>@AppleSupport Tried resetting my settings .. restarting my phone .. all that</td>\n",
              "      <td>AppleSupport</td>\n",
              "      <td>Tue Oct 31 22:26:49 +0000 2017</td>\n",
              "      <td>@115855 Let's go to DM for the next steps. DM us here: https://t.co/GDrqU22YpT</td>\n",
              "      <td>NaN</td>\n",
              "      <td>@AppleSupport Tried resetting my settings .. restarting my phone .. all that @115855 Let's go to DM for the next steps. DM us here: https://t.co/GDrqU22YpT</td>\n",
              "      <td>tried resetting settings restarting phone let go dm next steps . dm us :</td>\n",
              "    </tr>\n",
              "    <tr>\n",
              "      <th>3</th>\n",
              "      <td>@AppleSupport This is what it looks like https://t.co/XCQU2l4xUB</td>\n",
              "      <td>AppleSupport</td>\n",
              "      <td>Tue Oct 31 22:09:52 +0000 2017</td>\n",
              "      <td>@115855 Any steps tried since it started last night?</td>\n",
              "      <td>702</td>\n",
              "      <td>@AppleSupport This is what it looks like https://t.co/XCQU2l4xUB @115855 Any steps tried since it started last night?</td>\n",
              "      <td>looks like steps tried since started last night ?</td>\n",
              "    </tr>\n",
              "    <tr>\n",
              "      <th>4</th>\n",
              "      <td>@AppleSupport I️ have an iPhone 7 Plus and yes I️ do</td>\n",
              "      <td>AppleSupport</td>\n",
              "      <td>Tue Oct 31 21:57:00 +0000 2017</td>\n",
              "      <td>@115855 That's great it has iOS 11.1 as we can rule out being outdated. Any steps tried since this started? Do you recall when it started?</td>\n",
              "      <td>706,704</td>\n",
              "      <td>@AppleSupport I️ have an iPhone 7 Plus and yes I️ do @115855 That's great it has iOS 11.1 as we can rule out being outdated. Any steps tried since this started? Do you recall when it started?</td>\n",
              "      <td>iphone plus yes great ios . rule outdated . steps tried since started ? recall started ?</td>\n",
              "    </tr>\n",
              "    <tr>\n",
              "      <th>5</th>\n",
              "      <td>@AppleSupport I️ need answers because it’s annoying 🙃</td>\n",
              "      <td>AppleSupport</td>\n",
              "      <td>Tue Oct 31 21:43:15 +0000 2017</td>\n",
              "      <td>@115855 We'd like to look into this with you. Which model do you have and is iOS 11.1 installed? Any steps tried so far?</td>\n",
              "      <td>707</td>\n",
              "      <td>@AppleSupport I️ need answers because it’s annoying 🙃 @115855 We'd like to look into this with you. Which model do you have and is iOS 11.1 installed? Any steps tried so far?</td>\n",
              "      <td>need answers ’ annoying : upside down_face : we'd like look . model ios . installed ? steps tried far ?</td>\n",
              "    </tr>\n",
              "    <tr>\n",
              "      <th>6</th>\n",
              "      <td>Hey @AppleSupport and anyone else who upgraded to ios11.1, are y’all having issues with capital “I️” in the Mail app? As it puts in “A”?</td>\n",
              "      <td>AppleSupport</td>\n",
              "      <td>Tue Oct 31 22:26:29 +0000 2017</td>\n",
              "      <td>@115856 Hey, let's work together to figure out what's going on. Meet us in DM and we'll continue from there. https://t.co/GDrqU22YpT</td>\n",
              "      <td>713</td>\n",
              "      <td>Hey @AppleSupport and anyone else who upgraded to ios11.1, are y’all having issues with capital “I️” in the Mail app? As it puts in “A”? @115856 Hey, let's work together to figure out what's going on. Meet us in DM and we'll continue from there. https://t.co/GDrqU22YpT</td>\n",
              "      <td>hey anyone else upgraded ios . , ’ issues capital “ ” mail app ? puts “ ” ? hey , let work together figure going . meet us dm continue .</td>\n",
              "    </tr>\n",
              "    <tr>\n",
              "      <th>7</th>\n",
              "      <td>@AppleSupport This is what is happening... https://t.co/X3SZSJXfAT</td>\n",
              "      <td>AppleSupport</td>\n",
              "      <td>Tue Oct 31 22:24:54 +0000 2017</td>\n",
              "      <td>@115857 We'd like to investigate further with you. Send us a DM and we can troubleshoot more from there. https://t.co/GDrqU22YpT</td>\n",
              "      <td>NaN</td>\n",
              "      <td>@AppleSupport This is what is happening... https://t.co/X3SZSJXfAT @115857 We'd like to investigate further with you. Send us a DM and we can troubleshoot more from there. https://t.co/GDrqU22YpT</td>\n",
              "      <td>happening we'd like investigate . send us dm troubleshoot .</td>\n",
              "    </tr>\n",
              "    <tr>\n",
              "      <th>8</th>\n",
              "      <td>Tf is wrong with my keyboard @115858</td>\n",
              "      <td>AppleSupport</td>\n",
              "      <td>Tue Oct 31 22:05:00 +0000 2017</td>\n",
              "      <td>@115857 Fill us in on what is happening, then we can help out from there.</td>\n",
              "      <td>717</td>\n",
              "      <td>Tf is wrong with my keyboard @115858 @115857 Fill us in on what is happening, then we can help out from there.</td>\n",
              "      <td>tf wrong keyboard fill us happening , help .</td>\n",
              "    </tr>\n",
              "    <tr>\n",
              "      <th>9</th>\n",
              "      <td>@AppleSupport are the call centres closed for the night?</td>\n",
              "      <td>AppleSupport</td>\n",
              "      <td>Tue Oct 31 22:24:27 +0000 2017</td>\n",
              "      <td>@115859 We've received your DM and will continue there.</td>\n",
              "      <td>NaN</td>\n",
              "      <td>@AppleSupport are the call centres closed for the night? @115859 We've received your DM and will continue there.</td>\n",
              "      <td>call centres closed night ? received dm continue .</td>\n",
              "    </tr>\n",
              "  </tbody>\n",
              "</table>\n",
              "</div>\n",
              "    <div class=\"colab-df-buttons\">\n",
              "\n",
              "  <div class=\"colab-df-container\">\n",
              "    <button class=\"colab-df-convert\" onclick=\"convertToInteractive('df-0e5e7fb2-5fb9-420f-8714-b6f8bc4d9b9d')\"\n",
              "            title=\"Convert this dataframe to an interactive table.\"\n",
              "            style=\"display:none;\">\n",
              "\n",
              "  <svg xmlns=\"http://www.w3.org/2000/svg\" height=\"24px\" viewBox=\"0 -960 960 960\">\n",
              "    <path d=\"M120-120v-720h720v720H120Zm60-500h600v-160H180v160Zm220 220h160v-160H400v160Zm0 220h160v-160H400v160ZM180-400h160v-160H180v160Zm440 0h160v-160H620v160ZM180-180h160v-160H180v160Zm440 0h160v-160H620v160Z\"/>\n",
              "  </svg>\n",
              "    </button>\n",
              "\n",
              "  <style>\n",
              "    .colab-df-container {\n",
              "      display:flex;\n",
              "      gap: 12px;\n",
              "    }\n",
              "\n",
              "    .colab-df-convert {\n",
              "      background-color: #E8F0FE;\n",
              "      border: none;\n",
              "      border-radius: 50%;\n",
              "      cursor: pointer;\n",
              "      display: none;\n",
              "      fill: #1967D2;\n",
              "      height: 32px;\n",
              "      padding: 0 0 0 0;\n",
              "      width: 32px;\n",
              "    }\n",
              "\n",
              "    .colab-df-convert:hover {\n",
              "      background-color: #E2EBFA;\n",
              "      box-shadow: 0px 1px 2px rgba(60, 64, 67, 0.3), 0px 1px 3px 1px rgba(60, 64, 67, 0.15);\n",
              "      fill: #174EA6;\n",
              "    }\n",
              "\n",
              "    .colab-df-buttons div {\n",
              "      margin-bottom: 4px;\n",
              "    }\n",
              "\n",
              "    [theme=dark] .colab-df-convert {\n",
              "      background-color: #3B4455;\n",
              "      fill: #D2E3FC;\n",
              "    }\n",
              "\n",
              "    [theme=dark] .colab-df-convert:hover {\n",
              "      background-color: #434B5C;\n",
              "      box-shadow: 0px 1px 3px 1px rgba(0, 0, 0, 0.15);\n",
              "      filter: drop-shadow(0px 1px 2px rgba(0, 0, 0, 0.3));\n",
              "      fill: #FFFFFF;\n",
              "    }\n",
              "  </style>\n",
              "\n",
              "    <script>\n",
              "      const buttonEl =\n",
              "        document.querySelector('#df-0e5e7fb2-5fb9-420f-8714-b6f8bc4d9b9d button.colab-df-convert');\n",
              "      buttonEl.style.display =\n",
              "        google.colab.kernel.accessAllowed ? 'block' : 'none';\n",
              "\n",
              "      async function convertToInteractive(key) {\n",
              "        const element = document.querySelector('#df-0e5e7fb2-5fb9-420f-8714-b6f8bc4d9b9d');\n",
              "        const dataTable =\n",
              "          await google.colab.kernel.invokeFunction('convertToInteractive',\n",
              "                                                    [key], {});\n",
              "        if (!dataTable) return;\n",
              "\n",
              "        const docLinkHtml = 'Like what you see? Visit the ' +\n",
              "          '<a target=\"_blank\" href=https://colab.research.google.com/notebooks/data_table.ipynb>data table notebook</a>'\n",
              "          + ' to learn more about interactive tables.';\n",
              "        element.innerHTML = '';\n",
              "        dataTable['output_type'] = 'display_data';\n",
              "        await google.colab.output.renderOutput(dataTable, element);\n",
              "        const docLink = document.createElement('div');\n",
              "        docLink.innerHTML = docLinkHtml;\n",
              "        element.appendChild(docLink);\n",
              "      }\n",
              "    </script>\n",
              "  </div>\n",
              "\n",
              "\n",
              "<div id=\"df-5bf66c72-df4b-491f-9b75-7ea610005ac5\">\n",
              "  <button class=\"colab-df-quickchart\" onclick=\"quickchart('df-5bf66c72-df4b-491f-9b75-7ea610005ac5')\"\n",
              "            title=\"Suggest charts\"\n",
              "            style=\"display:none;\">\n",
              "\n",
              "<svg xmlns=\"http://www.w3.org/2000/svg\" height=\"24px\"viewBox=\"0 0 24 24\"\n",
              "     width=\"24px\">\n",
              "    <g>\n",
              "        <path d=\"M19 3H5c-1.1 0-2 .9-2 2v14c0 1.1.9 2 2 2h14c1.1 0 2-.9 2-2V5c0-1.1-.9-2-2-2zM9 17H7v-7h2v7zm4 0h-2V7h2v10zm4 0h-2v-4h2v4z\"/>\n",
              "    </g>\n",
              "</svg>\n",
              "  </button>\n",
              "\n",
              "<style>\n",
              "  .colab-df-quickchart {\n",
              "      --bg-color: #E8F0FE;\n",
              "      --fill-color: #1967D2;\n",
              "      --hover-bg-color: #E2EBFA;\n",
              "      --hover-fill-color: #174EA6;\n",
              "      --disabled-fill-color: #AAA;\n",
              "      --disabled-bg-color: #DDD;\n",
              "  }\n",
              "\n",
              "  [theme=dark] .colab-df-quickchart {\n",
              "      --bg-color: #3B4455;\n",
              "      --fill-color: #D2E3FC;\n",
              "      --hover-bg-color: #434B5C;\n",
              "      --hover-fill-color: #FFFFFF;\n",
              "      --disabled-bg-color: #3B4455;\n",
              "      --disabled-fill-color: #666;\n",
              "  }\n",
              "\n",
              "  .colab-df-quickchart {\n",
              "    background-color: var(--bg-color);\n",
              "    border: none;\n",
              "    border-radius: 50%;\n",
              "    cursor: pointer;\n",
              "    display: none;\n",
              "    fill: var(--fill-color);\n",
              "    height: 32px;\n",
              "    padding: 0;\n",
              "    width: 32px;\n",
              "  }\n",
              "\n",
              "  .colab-df-quickchart:hover {\n",
              "    background-color: var(--hover-bg-color);\n",
              "    box-shadow: 0 1px 2px rgba(60, 64, 67, 0.3), 0 1px 3px 1px rgba(60, 64, 67, 0.15);\n",
              "    fill: var(--button-hover-fill-color);\n",
              "  }\n",
              "\n",
              "  .colab-df-quickchart-complete:disabled,\n",
              "  .colab-df-quickchart-complete:disabled:hover {\n",
              "    background-color: var(--disabled-bg-color);\n",
              "    fill: var(--disabled-fill-color);\n",
              "    box-shadow: none;\n",
              "  }\n",
              "\n",
              "  .colab-df-spinner {\n",
              "    border: 2px solid var(--fill-color);\n",
              "    border-color: transparent;\n",
              "    border-bottom-color: var(--fill-color);\n",
              "    animation:\n",
              "      spin 1s steps(1) infinite;\n",
              "  }\n",
              "\n",
              "  @keyframes spin {\n",
              "    0% {\n",
              "      border-color: transparent;\n",
              "      border-bottom-color: var(--fill-color);\n",
              "      border-left-color: var(--fill-color);\n",
              "    }\n",
              "    20% {\n",
              "      border-color: transparent;\n",
              "      border-left-color: var(--fill-color);\n",
              "      border-top-color: var(--fill-color);\n",
              "    }\n",
              "    30% {\n",
              "      border-color: transparent;\n",
              "      border-left-color: var(--fill-color);\n",
              "      border-top-color: var(--fill-color);\n",
              "      border-right-color: var(--fill-color);\n",
              "    }\n",
              "    40% {\n",
              "      border-color: transparent;\n",
              "      border-right-color: var(--fill-color);\n",
              "      border-top-color: var(--fill-color);\n",
              "    }\n",
              "    60% {\n",
              "      border-color: transparent;\n",
              "      border-right-color: var(--fill-color);\n",
              "    }\n",
              "    80% {\n",
              "      border-color: transparent;\n",
              "      border-right-color: var(--fill-color);\n",
              "      border-bottom-color: var(--fill-color);\n",
              "    }\n",
              "    90% {\n",
              "      border-color: transparent;\n",
              "      border-bottom-color: var(--fill-color);\n",
              "    }\n",
              "  }\n",
              "</style>\n",
              "\n",
              "  <script>\n",
              "    async function quickchart(key) {\n",
              "      const quickchartButtonEl =\n",
              "        document.querySelector('#' + key + ' button');\n",
              "      quickchartButtonEl.disabled = true;  // To prevent multiple clicks.\n",
              "      quickchartButtonEl.classList.add('colab-df-spinner');\n",
              "      try {\n",
              "        const charts = await google.colab.kernel.invokeFunction(\n",
              "            'suggestCharts', [key], {});\n",
              "      } catch (error) {\n",
              "        console.error('Error during call to suggestCharts:', error);\n",
              "      }\n",
              "      quickchartButtonEl.classList.remove('colab-df-spinner');\n",
              "      quickchartButtonEl.classList.add('colab-df-quickchart-complete');\n",
              "    }\n",
              "    (() => {\n",
              "      let quickchartButtonEl =\n",
              "        document.querySelector('#df-5bf66c72-df4b-491f-9b75-7ea610005ac5 button');\n",
              "      quickchartButtonEl.style.display =\n",
              "        google.colab.kernel.accessAllowed ? 'block' : 'none';\n",
              "    })();\n",
              "  </script>\n",
              "</div>\n",
              "\n",
              "    </div>\n",
              "  </div>\n"
            ],
            "application/vnd.google.colaboratory.intrinsic+json": {
              "type": "dataframe",
              "summary": "{\n  \"name\": \"display(apple_data\",\n  \"rows\": 10,\n  \"fields\": [\n    {\n      \"column\": \"inbound_text\",\n      \"properties\": {\n        \"dtype\": \"string\",\n        \"num_unique_values\": 10,\n        \"samples\": [\n          \"Tf is wrong with my keyboard @115858\",\n          \"@AppleSupport  https://t.co/NV0yucs0lB\",\n          \"@AppleSupport I\\ufe0f need answers because it\\u2019s annoying \\ud83d\\ude43\"\n        ],\n        \"semantic_type\": \"\",\n        \"description\": \"\"\n      }\n    },\n    {\n      \"column\": \"author_id\",\n      \"properties\": {\n        \"dtype\": \"string\",\n        \"num_unique_values\": 1,\n        \"samples\": [\n          \"AppleSupport\"\n        ],\n        \"semantic_type\": \"\",\n        \"description\": \"\"\n      }\n    },\n    {\n      \"column\": \"created_at\",\n      \"properties\": {\n        \"dtype\": \"object\",\n        \"num_unique_values\": 10,\n        \"samples\": [\n          \"Tue Oct 31 22:05:00 +0000 2017\"\n        ],\n        \"semantic_type\": \"\",\n        \"description\": \"\"\n      }\n    },\n    {\n      \"column\": \"outbound_text\",\n      \"properties\": {\n        \"dtype\": \"string\",\n        \"num_unique_values\": 10,\n        \"samples\": [\n          \"@115857 Fill us in on what is happening, then we can help out from there.\"\n        ],\n        \"semantic_type\": \"\",\n        \"description\": \"\"\n      }\n    },\n    {\n      \"column\": \"response_tweet_id\",\n      \"properties\": {\n        \"dtype\": \"string\",\n        \"num_unique_values\": 6,\n        \"samples\": [\n          \"697\"\n        ],\n        \"semantic_type\": \"\",\n        \"description\": \"\"\n      }\n    },\n    {\n      \"column\": \"combined_text\",\n      \"properties\": {\n        \"dtype\": \"string\",\n        \"num_unique_values\": 10,\n        \"samples\": [\n          \"Tf is wrong with my keyboard @115858 @115857 Fill us in on what is happening, then we can help out from there.\"\n        ],\n        \"semantic_type\": \"\",\n        \"description\": \"\"\n      }\n    },\n    {\n      \"column\": \"clean_combined_text\",\n      \"properties\": {\n        \"dtype\": \"string\",\n        \"num_unique_values\": 10,\n        \"samples\": [\n          \"tf wrong keyboard fill us happening , help .\"\n        ],\n        \"semantic_type\": \"\",\n        \"description\": \"\"\n      }\n    }\n  ]\n}"
            }
          },
          "metadata": {}
        },
        {
          "output_type": "stream",
          "name": "stdout",
          "text": [
            "<class 'pandas.core.frame.DataFrame'>\n",
            "RangeIndex: 106648 entries, 0 to 106647\n",
            "Data columns (total 7 columns):\n",
            " #   Column               Non-Null Count   Dtype \n",
            "---  ------               --------------   ----- \n",
            " 0   inbound_text         106648 non-null  string\n",
            " 1   author_id            106648 non-null  string\n",
            " 2   created_at           106648 non-null  object\n",
            " 3   outbound_text        106648 non-null  string\n",
            " 4   response_tweet_id    31352 non-null   object\n",
            " 5   combined_text        106648 non-null  string\n",
            " 6   clean_combined_text  106648 non-null  object\n",
            "dtypes: object(3), string(4)\n",
            "memory usage: 5.7+ MB\n"
          ]
        },
        {
          "output_type": "display_data",
          "data": {
            "text/plain": [
              "None"
            ]
          },
          "metadata": {}
        }
      ]
    },
    {
      "cell_type": "markdown",
      "source": [
        "# 5. Document Vectorizing\n"
      ],
      "metadata": {
        "id": "eoSfMS0h6uCf"
      }
    },
    {
      "cell_type": "markdown",
      "source": [
        "### Use Doc2Vec and save the model\n",
        "This is a way that was developed for word2vec to generalize to paragraphs. Doc2Vec takes the average across them, and each tweet is represented as a single embedding so you have consistent dimensionality.\n",
        "\n",
        "Word2Vec uses Continuous Bag of Words, which creates a sliding window around each word to predict it from context (surrouding words), and the Skip Gram model. Doc2Vec is based off that.\n",
        "\n",
        "* https://medium.com/wisio/a-gentle-introduction-to-doc2vec-db3e8c0cce5e\n",
        "* https://radimrehurek.com/gensim/models/doc2vec.html\n",
        "* https://rare-technologies.com/doc2vec-tutorial/\n",
        "\n",
        "It's basically word to vec, but basically takes the standard word to vec model and adds in an extra vector to represent the paragraph - called a paragraph vector. Take in sequences of words, then they use them to predict the next word and check if that prediction is correct. If the prediction is correct, it does this multiple times for different combinations of words.\n",
        "\n",
        "It's the same as word2vec, but at a document level as opposed to a word level. My implementation below had it's base from [here](https://medium.com/wisio/a-gentle-introduction-to-doc2vec-db3e8c0cce5e) and from scrolling through Gensim's documentation for a more granular understanding of each step."
      ],
      "metadata": {
        "id": "DJLu5ZfFwcQd"
      }
    },
    {
      "cell_type": "code",
      "source": [
        "from gensim.models.doc2vec import Doc2Vec, TaggedDocument, Word2Vec\n",
        "\n",
        "def train_doc2vec(string_data, max_epochs, vec_size, alpha):\n",
        "    # Tagging each of the data with an ID, and I use the most memory efficient one of just using it's ID\n",
        "    tagged_data = [TaggedDocument(words=_d.split(), tags=[str(i)])\n",
        "                   for i, _d in enumerate(string_data)]\n",
        "\n",
        "    # C: Note: dm defines the training algorithm. If dm=1 means ‘distributed memory’ (PV-DM) and dm =0 means ‘distributed bag of words’ (PV-DBOW). Distributed Memory model preserves the word order in a document whereas Distributed Bag of words just uses the bag of words approach, which doesn’t preserve any word order.\n",
        "    # Instantiating my model\n",
        "    dv_model = Doc2Vec(vector_size=vec_size, alpha=alpha, min_alpha=0.00025, min_count=1, dm =1)\n",
        "\n",
        "    dv_model.build_vocab(tagged_data)\n",
        "\n",
        "    for epoch in range(max_epochs):\n",
        "        print('iteration {0}'.format(epoch))\n",
        "        dv_model.train(tagged_data, total_examples = dv_model.corpus_count, epochs=dv_model.epochs)\n",
        "        # Decrease the learning rate\n",
        "        dv_model.alpha -= 0.0002\n",
        "        # Fix the learning rate, no decay\n",
        "        dv_model.min_alpha = dv_model.alpha\n",
        "\n",
        "    # Saving model\n",
        "    # dv_model.save(root_path + \"/d2v.model\")\n",
        "    save_model_to_pickle(dv_model, root_path + \"/dv_model.pkl\")\n",
        "    return dv_model\n",
        "\n",
        "# Training\n",
        "dv_model = train_doc2vec(apple_data['clean_combined_text'], max_epochs = 10, vec_size = 50, alpha = 0.025)"
      ],
      "metadata": {
        "colab": {
          "base_uri": "https://localhost:8080/"
        },
        "id": "xxqFaVfywUGt",
        "outputId": "d4d90dda-1ac2-47e6-abfd-c36ae44d5699"
      },
      "execution_count": 28,
      "outputs": [
        {
          "output_type": "stream",
          "name": "stdout",
          "text": [
            "iteration 0\n"
          ]
        },
        {
          "output_type": "stream",
          "name": "stderr",
          "text": [
            "WARNING:gensim.models.word2vec:Effective 'alpha' higher than previous training cycles\n"
          ]
        },
        {
          "output_type": "stream",
          "name": "stdout",
          "text": [
            "iteration 1\n",
            "iteration 2\n",
            "iteration 3\n",
            "iteration 4\n",
            "iteration 5\n",
            "iteration 6\n",
            "iteration 7\n",
            "iteration 8\n",
            "iteration 9\n",
            "Save model to {file_name}\n"
          ]
        }
      ]
    },
    {
      "cell_type": "markdown",
      "source": [
        "### Use TFIDF and save the model"
      ],
      "metadata": {
        "id": "g5-kb9BH8gX8"
      }
    },
    {
      "cell_type": "code",
      "source": [
        "def generate_tfidf_vectors(series):\n",
        "    vectorizer = TfidfVectorizer(max_features=3000, ngram_range = (1, 2),  min_df=3, max_df=0.7)\n",
        "    doc_vectors = vectorizer.fit_transform(series)\n",
        "    tfidf_tokens = vectorizer.get_feature_names_out()\n",
        "    save_model_to_pickle(vectorizer, root_path + \"/tfidf_vectorizer.pkl\")\n",
        "    save_model_to_pickle(doc_vectors, root_path + \"/tfidf_result.pkl\")\n",
        "    print(\"The first 10 tokens:\", tfidf_tokens[:10])\n",
        "\n",
        "    return vectorizer, doc_vectors, tfidf_tokens\n",
        "\n",
        "# apple_data['clean_combined_text'] = apple_data['clean_combined_text'].fillna(\"\")\n",
        "tfidf_vectorizer, tfidf_result, tfidf_tokens = generate_tfidf_vectors(apple_data['clean_combined_text'])"
      ],
      "metadata": {
        "colab": {
          "base_uri": "https://localhost:8080/"
        },
        "id": "_-kBdesh7Yrr",
        "outputId": "3916e4f3-fffb-4c14-9758-b7ebc7b90d10"
      },
      "execution_count": null,
      "outputs": [
        {
          "output_type": "stream",
          "name": "stdout",
          "text": [
            "Save model to {file_name}\n",
            "Save model to {file_name}\n",
            "The first 10 tokens: ['ability' 'able' 'able enjoy' 'able get' 'able help' 'able update'\n",
            " 'able use' 'absolute' 'absolutely' 'accept']\n"
          ]
        }
      ]
    },
    {
      "cell_type": "markdown",
      "source": [
        "## Use Word2Vec to save the model"
      ],
      "metadata": {
        "id": "QO7_Lsttc26C"
      }
    },
    {
      "cell_type": "code",
      "source": [
        "# this function wraps up the operations of word vectorization and doc vectorization. Return values:\n",
        "# word_vectorizer - word2Vec object\n",
        "# vectorized_doc - list of list, each sub list represents an abstract's vector\n",
        "def generate_word_and_doc_vectors(series):\n",
        "    # use word2vec to tokenize the whole abstract field and save to pickle\n",
        "    # Note: running this step needs 30+ mins.\n",
        "    tokenized_docs = series.str.split()\n",
        "    word_vectorizer = Word2Vec(sentences=tokenized_docs, vector_size=300, workers=1, seed=42)\n",
        "    print(\"Generating word vectors... Take 30+ mins.\")\n",
        "    save_model_to_pickle(word_vectorizer, root_path + \"/w2v_model.pkl\")\n",
        "\n",
        "    # vectorize each document into ONE representative vector and save to pickle\n",
        "    # this step needs 10+ mins.\n",
        "    vectorized_result = vectorize(tokenized_docs, model=word_vectorizer)\n",
        "    print(\"vectorized_docs shape: samples - {}, each sample dimension - {}\".format(len(vectorized_result), len(vectorized_result[0])))\n",
        "    save_model_to_pickle(vectorized_result, root_path + \"/w2v_vectorized_doc.pkl\")\n",
        "\n",
        "    return word_vectorizer, vectorized_result\n",
        "\n",
        "\n",
        "# vectorize all the docs\n",
        "def vectorize(list_of_docs, model):\n",
        "    \"\"\"Generate vectors for list of documents using a Word Embedding\"\"\"\n",
        "    features = []\n",
        "    for index, doc in enumerate(list_of_docs):\n",
        "        if index % 5000 == 0:\n",
        "          print(\"Starting vectorizing docs {}-{}\".format(index, index+5000))\n",
        "        # if the doc has one or more tokens being found in the dimension of word features, convert them to narray, and calculate the mean\n",
        "        avg_vec = vectorize_single_doc(doc, model)\n",
        "        features.append(avg_vec)\n",
        "    print(\"Finish vectorizing all the docs.\")\n",
        "    return features\n",
        "\n",
        "\n",
        "# clean up user's input and vectorize the input doc as a vector\n",
        "def generate_vector_for_user_input(user_input, vectorizer):\n",
        "  processed_token = clean_text(user_input).split()\n",
        "  new_vector = vectorize_single_doc(processed_token, vectorizer)\n",
        "  return new_vector\n",
        "\n",
        "# get average of each word vector to represent the doc\n",
        "def vectorize_single_doc(tokenized_doc, model):\n",
        "\n",
        "  vectors = []\n",
        "  for token in tokenized_doc:\n",
        "      # if this token belongs to the word dimension of the model\n",
        "      if token in model.wv:\n",
        "          try:\n",
        "              # get the word vector name\n",
        "              vectors.append(model.wv[token])\n",
        "          except KeyError:\n",
        "              continue\n",
        "  # if the doc has one or more tokens being found in the dimension of word features, convert them to narray, and calculate the mean\n",
        "  if vectors:\n",
        "      vectors = np.asarray(vectors)\n",
        "      avg_vec = vectors.mean(axis=0)\n",
        "      return avg_vec\n",
        "  else:\n",
        "    # the dimension of word2vec in the model\n",
        "      return np.zeros(model.vector_size)"
      ],
      "metadata": {
        "id": "Nu76pNIddBTa"
      },
      "execution_count": null,
      "outputs": []
    },
    {
      "cell_type": "code",
      "source": [
        "wv_vectorizer, wv_result = generate_word_and_doc_vectors(apple_data['clean_combined_text'])\n"
      ],
      "metadata": {
        "colab": {
          "base_uri": "https://localhost:8080/",
          "height": 644
        },
        "id": "XgWrTF-XfwHn",
        "outputId": "e5ad5f43-148e-4fd7-80ec-1052f79cb170"
      },
      "execution_count": null,
      "outputs": [
        {
          "output_type": "stream",
          "name": "stdout",
          "text": [
            "Generating word vectors... Take 30+ mins.\n",
            "Save model to {file_name}\n",
            "Starting vectorizing docs 0-5000\n",
            "Starting vectorizing docs 5000-10000\n",
            "Starting vectorizing docs 10000-15000\n",
            "Starting vectorizing docs 15000-20000\n",
            "Starting vectorizing docs 20000-25000\n",
            "Starting vectorizing docs 25000-30000\n",
            "Starting vectorizing docs 30000-35000\n",
            "Starting vectorizing docs 35000-40000\n",
            "Starting vectorizing docs 40000-45000\n",
            "Starting vectorizing docs 45000-50000\n",
            "Starting vectorizing docs 50000-55000\n",
            "Starting vectorizing docs 55000-60000\n",
            "Starting vectorizing docs 60000-65000\n",
            "Starting vectorizing docs 65000-70000\n",
            "Starting vectorizing docs 70000-75000\n",
            "Starting vectorizing docs 75000-80000\n",
            "Starting vectorizing docs 80000-85000\n",
            "Starting vectorizing docs 85000-90000\n",
            "Starting vectorizing docs 90000-95000\n",
            "Starting vectorizing docs 95000-100000\n",
            "Starting vectorizing docs 100000-105000\n",
            "Starting vectorizing docs 105000-110000\n",
            "Finish vectorizing all the docs.\n",
            "vectorized_docs shape: samples - 106648, each sample dimension - 300\n",
            "Save model to {file_name}\n"
          ]
        },
        {
          "output_type": "error",
          "ename": "AttributeError",
          "evalue": "'list' object has no attribute 'shape'",
          "traceback": [
            "\u001b[0;31m---------------------------------------------------------------------------\u001b[0m",
            "\u001b[0;31mAttributeError\u001b[0m                            Traceback (most recent call last)",
            "\u001b[0;32m<ipython-input-28-c32cd25fc8c0>\u001b[0m in \u001b[0;36m<cell line: 2>\u001b[0;34m()\u001b[0m\n\u001b[1;32m      1\u001b[0m \u001b[0mwv_vectorizer\u001b[0m\u001b[0;34m,\u001b[0m \u001b[0mwv_result\u001b[0m \u001b[0;34m=\u001b[0m \u001b[0mgenerate_word_and_doc_vectors\u001b[0m\u001b[0;34m(\u001b[0m\u001b[0mapple_data\u001b[0m\u001b[0;34m[\u001b[0m\u001b[0;34m'clean_combined_text'\u001b[0m\u001b[0;34m]\u001b[0m\u001b[0;34m)\u001b[0m\u001b[0;34m\u001b[0m\u001b[0;34m\u001b[0m\u001b[0m\n\u001b[0;32m----> 2\u001b[0;31m \u001b[0mwv_result\u001b[0m\u001b[0;34m.\u001b[0m\u001b[0mshape\u001b[0m\u001b[0;34m\u001b[0m\u001b[0;34m\u001b[0m\u001b[0m\n\u001b[0m",
            "\u001b[0;31mAttributeError\u001b[0m: 'list' object has no attribute 'shape'"
          ]
        }
      ]
    },
    {
      "cell_type": "markdown",
      "source": [
        "## Use Transformer embedding"
      ],
      "metadata": {
        "id": "stJYvkghqE_O"
      }
    },
    {
      "cell_type": "code",
      "source": [
        "!pip install sentence-transformers"
      ],
      "metadata": {
        "colab": {
          "base_uri": "https://localhost:8080/"
        },
        "id": "XKz8l0BOqLF5",
        "outputId": "b767fc41-78f0-44fc-a866-422c1852660a"
      },
      "execution_count": 23,
      "outputs": [
        {
          "output_type": "stream",
          "name": "stdout",
          "text": [
            "Collecting sentence-transformers\n",
            "  Downloading sentence_transformers-3.0.1-py3-none-any.whl (227 kB)\n",
            "\u001b[?25l     \u001b[90m━━━━━━━━━━━━━━━━━━━━━━━━━━━━━━━━━━━━━━━━\u001b[0m \u001b[32m0.0/227.1 kB\u001b[0m \u001b[31m?\u001b[0m eta \u001b[36m-:--:--\u001b[0m\r\u001b[2K     \u001b[91m━━━━━━━━━━━━━━━━━━━━━━━━━━━━━━━━━━━━━━━\u001b[0m\u001b[91m╸\u001b[0m \u001b[32m225.3/227.1 kB\u001b[0m \u001b[31m6.5 MB/s\u001b[0m eta \u001b[36m0:00:01\u001b[0m\r\u001b[2K     \u001b[90m━━━━━━━━━━━━━━━━━━━━━━━━━━━━━━━━━━━━━━━━\u001b[0m \u001b[32m227.1/227.1 kB\u001b[0m \u001b[31m5.3 MB/s\u001b[0m eta \u001b[36m0:00:00\u001b[0m\n",
            "\u001b[?25hRequirement already satisfied: transformers<5.0.0,>=4.34.0 in /usr/local/lib/python3.10/dist-packages (from sentence-transformers) (4.42.4)\n",
            "Requirement already satisfied: tqdm in /usr/local/lib/python3.10/dist-packages (from sentence-transformers) (4.66.4)\n",
            "Requirement already satisfied: torch>=1.11.0 in /usr/local/lib/python3.10/dist-packages (from sentence-transformers) (2.3.1+cu121)\n",
            "Requirement already satisfied: numpy in /usr/local/lib/python3.10/dist-packages (from sentence-transformers) (1.25.2)\n",
            "Requirement already satisfied: scikit-learn in /usr/local/lib/python3.10/dist-packages (from sentence-transformers) (1.2.2)\n",
            "Requirement already satisfied: scipy in /usr/local/lib/python3.10/dist-packages (from sentence-transformers) (1.11.4)\n",
            "Requirement already satisfied: huggingface-hub>=0.15.1 in /usr/local/lib/python3.10/dist-packages (from sentence-transformers) (0.23.5)\n",
            "Requirement already satisfied: Pillow in /usr/local/lib/python3.10/dist-packages (from sentence-transformers) (9.4.0)\n",
            "Requirement already satisfied: filelock in /usr/local/lib/python3.10/dist-packages (from huggingface-hub>=0.15.1->sentence-transformers) (3.15.4)\n",
            "Requirement already satisfied: fsspec>=2023.5.0 in /usr/local/lib/python3.10/dist-packages (from huggingface-hub>=0.15.1->sentence-transformers) (2023.6.0)\n",
            "Requirement already satisfied: packaging>=20.9 in /usr/local/lib/python3.10/dist-packages (from huggingface-hub>=0.15.1->sentence-transformers) (24.1)\n",
            "Requirement already satisfied: pyyaml>=5.1 in /usr/local/lib/python3.10/dist-packages (from huggingface-hub>=0.15.1->sentence-transformers) (6.0.1)\n",
            "Requirement already satisfied: requests in /usr/local/lib/python3.10/dist-packages (from huggingface-hub>=0.15.1->sentence-transformers) (2.31.0)\n",
            "Requirement already satisfied: typing-extensions>=3.7.4.3 in /usr/local/lib/python3.10/dist-packages (from huggingface-hub>=0.15.1->sentence-transformers) (4.12.2)\n",
            "Requirement already satisfied: sympy in /usr/local/lib/python3.10/dist-packages (from torch>=1.11.0->sentence-transformers) (1.13.0)\n",
            "Requirement already satisfied: networkx in /usr/local/lib/python3.10/dist-packages (from torch>=1.11.0->sentence-transformers) (3.3)\n",
            "Requirement already satisfied: jinja2 in /usr/local/lib/python3.10/dist-packages (from torch>=1.11.0->sentence-transformers) (3.1.4)\n",
            "Collecting nvidia-cuda-nvrtc-cu12==12.1.105 (from torch>=1.11.0->sentence-transformers)\n",
            "  Using cached nvidia_cuda_nvrtc_cu12-12.1.105-py3-none-manylinux1_x86_64.whl (23.7 MB)\n",
            "Collecting nvidia-cuda-runtime-cu12==12.1.105 (from torch>=1.11.0->sentence-transformers)\n",
            "  Using cached nvidia_cuda_runtime_cu12-12.1.105-py3-none-manylinux1_x86_64.whl (823 kB)\n",
            "Collecting nvidia-cuda-cupti-cu12==12.1.105 (from torch>=1.11.0->sentence-transformers)\n",
            "  Using cached nvidia_cuda_cupti_cu12-12.1.105-py3-none-manylinux1_x86_64.whl (14.1 MB)\n",
            "Collecting nvidia-cudnn-cu12==8.9.2.26 (from torch>=1.11.0->sentence-transformers)\n",
            "  Using cached nvidia_cudnn_cu12-8.9.2.26-py3-none-manylinux1_x86_64.whl (731.7 MB)\n",
            "Collecting nvidia-cublas-cu12==12.1.3.1 (from torch>=1.11.0->sentence-transformers)\n",
            "  Using cached nvidia_cublas_cu12-12.1.3.1-py3-none-manylinux1_x86_64.whl (410.6 MB)\n",
            "Collecting nvidia-cufft-cu12==11.0.2.54 (from torch>=1.11.0->sentence-transformers)\n",
            "  Using cached nvidia_cufft_cu12-11.0.2.54-py3-none-manylinux1_x86_64.whl (121.6 MB)\n",
            "Collecting nvidia-curand-cu12==10.3.2.106 (from torch>=1.11.0->sentence-transformers)\n",
            "  Using cached nvidia_curand_cu12-10.3.2.106-py3-none-manylinux1_x86_64.whl (56.5 MB)\n",
            "Collecting nvidia-cusolver-cu12==11.4.5.107 (from torch>=1.11.0->sentence-transformers)\n",
            "  Using cached nvidia_cusolver_cu12-11.4.5.107-py3-none-manylinux1_x86_64.whl (124.2 MB)\n",
            "Collecting nvidia-cusparse-cu12==12.1.0.106 (from torch>=1.11.0->sentence-transformers)\n",
            "  Using cached nvidia_cusparse_cu12-12.1.0.106-py3-none-manylinux1_x86_64.whl (196.0 MB)\n",
            "Collecting nvidia-nccl-cu12==2.20.5 (from torch>=1.11.0->sentence-transformers)\n",
            "  Using cached nvidia_nccl_cu12-2.20.5-py3-none-manylinux2014_x86_64.whl (176.2 MB)\n",
            "Collecting nvidia-nvtx-cu12==12.1.105 (from torch>=1.11.0->sentence-transformers)\n",
            "  Using cached nvidia_nvtx_cu12-12.1.105-py3-none-manylinux1_x86_64.whl (99 kB)\n",
            "Requirement already satisfied: triton==2.3.1 in /usr/local/lib/python3.10/dist-packages (from torch>=1.11.0->sentence-transformers) (2.3.1)\n",
            "Collecting nvidia-nvjitlink-cu12 (from nvidia-cusolver-cu12==11.4.5.107->torch>=1.11.0->sentence-transformers)\n",
            "  Downloading nvidia_nvjitlink_cu12-12.5.82-py3-none-manylinux2014_x86_64.whl (21.3 MB)\n",
            "\u001b[2K     \u001b[90m━━━━━━━━━━━━━━━━━━━━━━━━━━━━━━━━━━━━━━━━\u001b[0m \u001b[32m21.3/21.3 MB\u001b[0m \u001b[31m50.6 MB/s\u001b[0m eta \u001b[36m0:00:00\u001b[0m\n",
            "\u001b[?25hRequirement already satisfied: regex!=2019.12.17 in /usr/local/lib/python3.10/dist-packages (from transformers<5.0.0,>=4.34.0->sentence-transformers) (2024.5.15)\n",
            "Requirement already satisfied: safetensors>=0.4.1 in /usr/local/lib/python3.10/dist-packages (from transformers<5.0.0,>=4.34.0->sentence-transformers) (0.4.3)\n",
            "Requirement already satisfied: tokenizers<0.20,>=0.19 in /usr/local/lib/python3.10/dist-packages (from transformers<5.0.0,>=4.34.0->sentence-transformers) (0.19.1)\n",
            "Requirement already satisfied: joblib>=1.1.1 in /usr/local/lib/python3.10/dist-packages (from scikit-learn->sentence-transformers) (1.4.2)\n",
            "Requirement already satisfied: threadpoolctl>=2.0.0 in /usr/local/lib/python3.10/dist-packages (from scikit-learn->sentence-transformers) (3.5.0)\n",
            "Requirement already satisfied: MarkupSafe>=2.0 in /usr/local/lib/python3.10/dist-packages (from jinja2->torch>=1.11.0->sentence-transformers) (2.1.5)\n",
            "Requirement already satisfied: charset-normalizer<4,>=2 in /usr/local/lib/python3.10/dist-packages (from requests->huggingface-hub>=0.15.1->sentence-transformers) (3.3.2)\n",
            "Requirement already satisfied: idna<4,>=2.5 in /usr/local/lib/python3.10/dist-packages (from requests->huggingface-hub>=0.15.1->sentence-transformers) (3.7)\n",
            "Requirement already satisfied: urllib3<3,>=1.21.1 in /usr/local/lib/python3.10/dist-packages (from requests->huggingface-hub>=0.15.1->sentence-transformers) (2.0.7)\n",
            "Requirement already satisfied: certifi>=2017.4.17 in /usr/local/lib/python3.10/dist-packages (from requests->huggingface-hub>=0.15.1->sentence-transformers) (2024.7.4)\n",
            "Requirement already satisfied: mpmath<1.4,>=1.1.0 in /usr/local/lib/python3.10/dist-packages (from sympy->torch>=1.11.0->sentence-transformers) (1.3.0)\n",
            "Installing collected packages: nvidia-nvtx-cu12, nvidia-nvjitlink-cu12, nvidia-nccl-cu12, nvidia-curand-cu12, nvidia-cufft-cu12, nvidia-cuda-runtime-cu12, nvidia-cuda-nvrtc-cu12, nvidia-cuda-cupti-cu12, nvidia-cublas-cu12, nvidia-cusparse-cu12, nvidia-cudnn-cu12, nvidia-cusolver-cu12, sentence-transformers\n",
            "Successfully installed nvidia-cublas-cu12-12.1.3.1 nvidia-cuda-cupti-cu12-12.1.105 nvidia-cuda-nvrtc-cu12-12.1.105 nvidia-cuda-runtime-cu12-12.1.105 nvidia-cudnn-cu12-8.9.2.26 nvidia-cufft-cu12-11.0.2.54 nvidia-curand-cu12-10.3.2.106 nvidia-cusolver-cu12-11.4.5.107 nvidia-cusparse-cu12-12.1.0.106 nvidia-nccl-cu12-2.20.5 nvidia-nvjitlink-cu12-12.5.82 nvidia-nvtx-cu12-12.1.105 sentence-transformers-3.0.1\n"
          ]
        }
      ]
    },
    {
      "cell_type": "code",
      "source": [
        "\n",
        "from sentence_transformers import SentenceTransformer\n",
        "embedding_model = SentenceTransformer(model_name_or_path=\"all-mpnet-base-v2\")\n",
        "                                    #   device=\"cpu\") # choose the device to load the model to (note: GPU will often be *much* faster than CPU)\n",
        "#\n",
        "# Create a list of sentences to turn into numbers\n",
        "# sentences = [\n",
        "#     \"The Sentences Transformers library provides an easy and open-source way to create embeddings.\",\n",
        "#     \"Sentences can be embedded one by one or as a list of strings.\",\n",
        "#     \"Embeddings are one of the most powerful concepts in machine learning!\",\n",
        "#     \"Learn to use embeddings well and you'll be well on your way to being an AI engineer.\"\n",
        "# ]\n",
        "\n",
        "# Sentences are encoded/embedded by calling model.encode()\n",
        "embeddings = embedding_model.encode(list(apple_data['clean_combined_text']), batch_size=32)\n",
        "# embeddings_dict = dict(zip(sentences, embeddings))\n",
        "\n",
        "# # See the embeddings\n",
        "# for sentence, embedding in embeddings_dict.items():\n",
        "#     print(\"Sentence:\", sentence)\n",
        "#     print(\"Embedding:\", embedding)\n",
        "#     print(\"\")"
      ],
      "metadata": {
        "id": "itdlKHKiqEXR"
      },
      "execution_count": 28,
      "outputs": []
    },
    {
      "cell_type": "code",
      "source": [
        "len(embeddings), len(embeddings[0])"
      ],
      "metadata": {
        "colab": {
          "base_uri": "https://localhost:8080/"
        },
        "id": "IDrCpO8frttu",
        "outputId": "8c1676db-3a38-4220-ab3a-b6623de87655"
      },
      "execution_count": 33,
      "outputs": [
        {
          "output_type": "execute_result",
          "data": {
            "text/plain": [
              "(106648, 768)"
            ]
          },
          "metadata": {},
          "execution_count": 33
        }
      ]
    },
    {
      "cell_type": "code",
      "source": [
        "save_model_to_pickle(embedding_model, root_path + \"sentence_transformer.pkl\")\n",
        "save_model_to_pickle(embeddings, root_path + \"sentence_transformer_result.pkl\")"
      ],
      "metadata": {
        "colab": {
          "base_uri": "https://localhost:8080/"
        },
        "id": "9IBN6fN-EC5k",
        "outputId": "cdea634a-ae77-4d3b-bf8d-62f60819da0a"
      },
      "execution_count": 35,
      "outputs": [
        {
          "output_type": "stream",
          "name": "stdout",
          "text": [
            "Save model to {file_name}\n",
            "Save model to {file_name}\n"
          ]
        }
      ]
    },
    {
      "cell_type": "markdown",
      "source": [
        "## Play around Doc2Vec"
      ],
      "metadata": {
        "id": "n_2rfRHx7Zag"
      }
    },
    {
      "cell_type": "code",
      "source": [
        "dv_model.wv.similar_by_word(\"battery\")"
      ],
      "metadata": {
        "colab": {
          "base_uri": "https://localhost:8080/"
        },
        "id": "2EftiN6MWFSd",
        "outputId": "6a7b9213-f4b8-4d38-b0d4-dd10815495ee"
      },
      "execution_count": null,
      "outputs": [
        {
          "output_type": "execute_result",
          "data": {
            "text/plain": [
              "[('batter', 0.7063205242156982),\n",
              " ('episode', 0.6188691854476929),\n",
              " ('batt', 0.6009058952331543),\n",
              " ('workout', 0.5746048092842102),\n",
              " ('eventually', 0.5428136587142944),\n",
              " ('reinstalling', 0.5368268489837646),\n",
              " ('batery', 0.521278440952301),\n",
              " ('order', 0.5126808285713196),\n",
              " ('#battery', 0.5062965154647827),\n",
              " ('relying', 0.49928438663482666)]"
            ]
          },
          "metadata": {},
          "execution_count": 14
        }
      ]
    },
    {
      "cell_type": "markdown",
      "source": [
        "### Directly using Doc2Vec's most_similar method, the result looks strange"
      ],
      "metadata": {
        "id": "pmDJL1zNF6wB"
      }
    },
    {
      "cell_type": "code",
      "source": [
        "sentence_vector = dv_model.infer_vector(['phone', 'screen', 'is', 'broken'])\n",
        "top_similar_docs = dv_model.dv.most_similar(positive=sentence_vector, topn=10)\n",
        "display(top_similar_docs)"
      ],
      "metadata": {
        "id": "r3tzPboKZzu4",
        "colab": {
          "base_uri": "https://localhost:8080/",
          "height": 196
        },
        "outputId": "bd8d3d10-7117-4fc8-bc7f-fa21e956fc52"
      },
      "execution_count": null,
      "outputs": [
        {
          "output_type": "display_data",
          "data": {
            "text/plain": [
              "[('57909', 0.7511110305786133),\n",
              " ('76772', 0.7308211922645569),\n",
              " ('53840', 0.7290232181549072),\n",
              " ('49936', 0.727785050868988),\n",
              " ('75633', 0.7239804863929749),\n",
              " ('54758', 0.7230312824249268),\n",
              " ('55104', 0.7173165082931519),\n",
              " ('50574', 0.7161725163459778),\n",
              " ('78180', 0.7156147360801697),\n",
              " ('55543', 0.7112165093421936)]"
            ]
          },
          "metadata": {}
        }
      ]
    },
    {
      "cell_type": "code",
      "source": [
        "for idx, _ in enumerate(top_similar_docs):\n",
        "    print(apple_data.iloc[int(idx)][\"clean_combined_text\"])\n",
        "    print(apple_data.iloc[int(idx)]['outbound_text'])\n",
        "    print(\"\")"
      ],
      "metadata": {
        "colab": {
          "base_uri": "https://localhost:8080/"
        },
        "id": "dXlVSp0vBR6L",
        "outputId": "c6629635-f05b-4cbc-e937-43c938a19732"
      },
      "execution_count": null,
      "outputs": [
        {
          "output_type": "stream",
          "name": "stdout",
          "text": [
            "newest update . made sure download yesterday . lets take closer look issue . select following link join us dm go . LINK\n",
            "@115854 Lets take a closer look into this issue. Select the following link to join us in a DM and we'll go from there. https://t.co/GDrqU22YpT\n",
            "\n",
            "LINK we're . version ios running ? check settings > general > .\n",
            "@115854 We're here for you. Which version of the iOS are you running? Check from Settings &gt; General &gt; About.\n",
            "\n",
            "tried resetting settings restarting phone let go dm next steps . dm us : LINK\n",
            "@115855 Let's go to DM for the next steps. DM us here: https://t.co/GDrqU22YpT\n",
            "\n",
            "looks like LINK steps tried since started last night ?\n",
            "@115855 Any steps tried since it started last night?\n",
            "\n",
            "iphone plus yes great ios . rule outdated . steps tried since started ? recall started ?\n",
            "@115855 That's great it has iOS 11.1 as we can rule out being outdated. Any steps tried since this started? Do you recall when it started?\n",
            "\n",
            "need answers ’ annoying : upside down_face : we'd like look . model ios . installed ? steps tried far ?\n",
            "@115855 We'd like to look into this with you. Which model do you have and is iOS 11.1 installed? Any steps tried so far?\n",
            "\n",
            "hey anyone else upgraded ios . , ’ issues capital “ ” mail app ? puts “ ” ? hey , let work together figure going . meet us dm continue . LINK\n",
            "@115856 Hey, let's work together to figure out what's going on. Meet us in DM and we'll continue from there. https://t.co/GDrqU22YpT\n",
            "\n",
            "happening LINK we'd like investigate . send us dm troubleshoot . LINK\n",
            "@115857 We'd like to investigate further with you. Send us a DM and we can troubleshoot more from there. https://t.co/GDrqU22YpT\n",
            "\n",
            "tf wrong keyboard fill us happening , help .\n",
            "@115857 Fill us in on what is happening, then we can help out from there.\n",
            "\n",
            "call centres closed night ? received dm continue .\n",
            "@115859 We've received your DM and will continue there.\n",
            "\n"
          ]
        }
      ]
    },
    {
      "cell_type": "code",
      "source": [
        "dv_model.similarity_unseen_docs([\"phone screen is broken\"], [\"screen is craked\"])"
      ],
      "metadata": {
        "colab": {
          "base_uri": "https://localhost:8080/"
        },
        "id": "ZJn-6SoWVxDm",
        "outputId": "b9de64c5-425f-4f12-c5b7-eedafb34bddf"
      },
      "execution_count": null,
      "outputs": [
        {
          "output_type": "execute_result",
          "data": {
            "text/plain": [
              "-0.015350139"
            ]
          },
          "metadata": {},
          "execution_count": 38
        }
      ]
    },
    {
      "cell_type": "code",
      "source": [
        "dv_model.corpus_total_words"
      ],
      "metadata": {
        "colab": {
          "base_uri": "https://localhost:8080/"
        },
        "id": "wDbvsOd5YsSt",
        "outputId": "6cb8c42e-8bba-4f1b-8984-e3909359c910"
      },
      "execution_count": null,
      "outputs": [
        {
          "output_type": "execute_result",
          "data": {
            "text/plain": [
              "2852134"
            ]
          },
          "metadata": {},
          "execution_count": 20
        }
      ]
    },
    {
      "cell_type": "code",
      "source": [
        "display(dv_model.dv.similarity(2, 3))\n",
        "display(apple_data.iloc[2]['clean_combined_text'])\n",
        "display(apple_data.iloc[3]['clean_combined_text'])"
      ],
      "metadata": {
        "colab": {
          "base_uri": "https://localhost:8080/",
          "height": 72
        },
        "id": "VGPJdRLZ61kx",
        "outputId": "19eb0098-e5de-4a43-d973-b5c171107d1c"
      },
      "execution_count": null,
      "outputs": [
        {
          "output_type": "display_data",
          "data": {
            "text/plain": [
              "0.056289855"
            ]
          },
          "metadata": {}
        },
        {
          "output_type": "display_data",
          "data": {
            "text/plain": [
              "'tried resetting settings restarting phone let go dm next steps . dm us : LINK'"
            ],
            "application/vnd.google.colaboratory.intrinsic+json": {
              "type": "string"
            }
          },
          "metadata": {}
        },
        {
          "output_type": "display_data",
          "data": {
            "text/plain": [
              "'looks like LINK steps tried since started last night ?'"
            ],
            "application/vnd.google.colaboratory.intrinsic+json": {
              "type": "string"
            }
          },
          "metadata": {}
        }
      ]
    },
    {
      "cell_type": "markdown",
      "source": [
        "# 5. K Means\n",
        "My first approach for the clustering my doc vectors is K-Means.\n",
        "\n",
        "A drawback is that it is very slow, and picking the value for K is hard - I don't even know how many intents there are in the data. This is why I start with larger jumps of K to get a higher level idea of which performs the best, then I dive deeper to finally decide what K works the best for finding the optimal number of intents in my dataset."
      ],
      "metadata": {
        "id": "_-4bpfTW32TK"
      }
    },
    {
      "cell_type": "code",
      "source": [
        "apple_data = pd.read_csv(root_path + \"/apple_data.csv\")\n",
        "apple_data = apple_data[apple_data['created_at'].notna()]\n",
        "apple_data['clean_combined_text'].fillna(\"\", inplace=True)\n",
        "k = 10"
      ],
      "metadata": {
        "id": "BZNMjKY3uxlT",
        "colab": {
          "base_uri": "https://localhost:8080/"
        },
        "outputId": "d98e2a7b-6b4e-4bb6-c0b4-b657d3543d9c"
      },
      "execution_count": 25,
      "outputs": [
        {
          "output_type": "stream",
          "name": "stderr",
          "text": [
            "<ipython-input-25-691d3e80ba05>:3: SettingWithCopyWarning: \n",
            "A value is trying to be set on a copy of a slice from a DataFrame\n",
            "\n",
            "See the caveats in the documentation: https://pandas.pydata.org/pandas-docs/stable/user_guide/indexing.html#returning-a-view-versus-a-copy\n",
            "  apple_data['clean_combined_text'].fillna(\"\", inplace=True)\n"
          ]
        }
      ]
    },
    {
      "cell_type": "code",
      "source": [
        "apple_data.info()"
      ],
      "metadata": {
        "colab": {
          "base_uri": "https://localhost:8080/"
        },
        "id": "6uXjctvd1Crd",
        "outputId": "c2715b5e-145b-4a5c-f121-08ba67de430b"
      },
      "execution_count": 26,
      "outputs": [
        {
          "output_type": "stream",
          "name": "stdout",
          "text": [
            "<class 'pandas.core.frame.DataFrame'>\n",
            "Index: 106648 entries, 0 to 106668\n",
            "Data columns (total 8 columns):\n",
            " #   Column               Non-Null Count   Dtype \n",
            "---  ------               --------------   ----- \n",
            " 0   Unnamed: 0           106648 non-null  object\n",
            " 1   inbound_text         106648 non-null  object\n",
            " 2   author_id            106648 non-null  object\n",
            " 3   created_at           106648 non-null  object\n",
            " 4   outbound_text        106644 non-null  object\n",
            " 5   response_tweet_id    31356 non-null   object\n",
            " 6   combined_text        106643 non-null  object\n",
            " 7   clean_combined_text  106648 non-null  object\n",
            "dtypes: object(8)\n",
            "memory usage: 7.3+ MB\n"
          ]
        }
      ]
    },
    {
      "cell_type": "markdown",
      "source": [
        "## Use Doc2Vec model to fit into KMeans"
      ],
      "metadata": {
        "id": "AQ8B4YgwR7i_"
      }
    },
    {
      "cell_type": "code",
      "source": [
        "dv_model = load_from_pickle(root_path + \"/dv_model.pkl\")"
      ],
      "metadata": {
        "id": "oIfPtg2l1s5H"
      },
      "execution_count": null,
      "outputs": []
    },
    {
      "cell_type": "code",
      "source": [
        "len(dv_model.dv)"
      ],
      "metadata": {
        "colab": {
          "base_uri": "https://localhost:8080/"
        },
        "id": "divR06FxT44J",
        "outputId": "a97409f8-3a8e-42e6-fe13-31b19545c820"
      },
      "execution_count": null,
      "outputs": [
        {
          "output_type": "execute_result",
          "data": {
            "text/plain": [
              "106648"
            ]
          },
          "metadata": {},
          "execution_count": 10
        }
      ]
    },
    {
      "cell_type": "code",
      "source": [
        "apple_data.shape"
      ],
      "metadata": {
        "colab": {
          "base_uri": "https://localhost:8080/"
        },
        "id": "3Gts95WpVBEb",
        "outputId": "9a90c72c-7122-4a2d-f284-e2077fcd1154"
      },
      "execution_count": null,
      "outputs": [
        {
          "output_type": "execute_result",
          "data": {
            "text/plain": [
              "(106648, 7)"
            ]
          },
          "metadata": {},
          "execution_count": 33
        }
      ]
    },
    {
      "cell_type": "code",
      "execution_count": null,
      "metadata": {
        "id": "LlF4hmF0ssEE",
        "outputId": "1ba5af5f-747d-43d4-f8d9-52f81723cd1a",
        "colab": {
          "base_uri": "https://localhost:8080/",
          "height": 71
        }
      },
      "outputs": [
        {
          "output_type": "stream",
          "name": "stdout",
          "text": [
            "Currently fitting with 10 clusters... Please wait\n"
          ]
        },
        {
          "output_type": "display_data",
          "data": {
            "text/plain": [
              "array([6, 0, 9, 6, 7, 7, 7, 3, 3, 6, 3, 6, 2, 3, 9, 3, 2, 9, 4, 3],\n",
              "      dtype=int32)"
            ]
          },
          "metadata": {}
        }
      ],
      "source": [
        "from sklearn.cluster import KMeans\n",
        "from sklearn.metrics import silhouette_score, silhouette_samples\n",
        "\n",
        "k = 10\n",
        "print(f'Currently fitting with {k} clusters... Please wait')\n",
        "\n",
        "# Initializing with k-means++ ensures that you get don’t fall into the random initialization trap.\n",
        "dv_km_model = KMeans(n_clusters=k, init='k-means++', max_iter=100, n_init=10, random_state = 10)\n",
        "y_pred = dv_km_model.fit_transform(dv_model.dv[range(len(dv_model.dv))])\n",
        "display(dv_km_model.labels_[:20])"
      ]
    },
    {
      "cell_type": "code",
      "source": [
        "save_model_to_pickle(dv_km_model, root_path + \"/dv_km_model.pkl\")"
      ],
      "metadata": {
        "colab": {
          "base_uri": "https://localhost:8080/"
        },
        "id": "zGNvgEPkZlJU",
        "outputId": "03a3d16b-8ea5-49c9-8bcf-d32b478a8ed6"
      },
      "execution_count": null,
      "outputs": [
        {
          "output_type": "stream",
          "name": "stdout",
          "text": [
            "Save model to {file_name}\n"
          ]
        }
      ]
    },
    {
      "cell_type": "markdown",
      "source": [],
      "metadata": {
        "id": "BPPMR0h5dmh-"
      }
    },
    {
      "cell_type": "code",
      "source": [
        "len(dv_km_model.labels_)"
      ],
      "metadata": {
        "colab": {
          "base_uri": "https://localhost:8080/"
        },
        "id": "eeQ-jcqSvxYP",
        "outputId": "7e85389a-feab-4a4a-cefc-797769cd73a9"
      },
      "execution_count": null,
      "outputs": [
        {
          "output_type": "execute_result",
          "data": {
            "text/plain": [
              "106648"
            ]
          },
          "metadata": {},
          "execution_count": 49
        }
      ]
    },
    {
      "cell_type": "code",
      "source": [
        "# 10 centers of 10 clusters\n",
        "dv_km_model.cluster_centers_"
      ],
      "metadata": {
        "id": "bC43LH3YZHJO"
      },
      "execution_count": null,
      "outputs": []
    },
    {
      "cell_type": "code",
      "source": [
        "new_input_vector = dv_model.infer_vector([\"what\", \"is\", \"the\", \"problem\", \"of\", \"the\", \"screen\", \"flicking\"])\n",
        "new_input_vector"
      ],
      "metadata": {
        "colab": {
          "base_uri": "https://localhost:8080/"
        },
        "id": "z19NL7EAaFZ8",
        "outputId": "7bbdcde4-b895-48d9-a0a6-4da3c39fb1d0"
      },
      "execution_count": null,
      "outputs": [
        {
          "output_type": "execute_result",
          "data": {
            "text/plain": [
              "array([ 8.5378937e-02, -3.0386886e-01, -2.8016421e-01, -1.5703404e-01,\n",
              "       -1.9799322e-01, -4.6742463e-01, -6.2798268e-01, -1.0586858e-02,\n",
              "       -5.1402932e-01, -2.0957710e-01,  1.9833174e-01,  4.3096560e-01,\n",
              "       -1.2741126e-01, -4.1207889e-01, -1.3794434e-01, -2.1881707e-01,\n",
              "        2.9866597e-01, -4.1656074e-01,  6.5303311e-02, -2.1282031e-01,\n",
              "        2.9483578e-01, -2.4179663e-01, -1.2740947e-02, -2.5054613e-01,\n",
              "        1.3746469e-01, -2.7787991e-02, -1.7367049e-01, -2.3385948e-01,\n",
              "        3.0535325e-01,  3.5429335e-01,  6.1980432e-01, -4.2817292e-01,\n",
              "       -3.4887585e-01, -5.3959537e-01,  1.0401572e-01, -5.1108938e-02,\n",
              "       -4.7548008e-01,  3.1888902e-01,  4.5366317e-01, -4.7587696e-01,\n",
              "        1.4093047e-01, -1.7555263e-02,  1.4099050e-01,  5.1777255e-02,\n",
              "       -1.0640571e-01,  3.3449486e-01,  2.5906819e-01,  1.9678846e-04,\n",
              "       -1.9528104e-01,  6.0426150e-02], dtype=float32)"
            ]
          },
          "metadata": {},
          "execution_count": 16
        }
      ]
    },
    {
      "cell_type": "code",
      "source": [
        "dv_km_model.predict(new_input_vector.reshape(1, -1))"
      ],
      "metadata": {
        "colab": {
          "base_uri": "https://localhost:8080/"
        },
        "id": "ckYPUz6VbUV6",
        "outputId": "bc6859fe-03b3-46a3-f246-162585c7fcfd"
      },
      "execution_count": null,
      "outputs": [
        {
          "output_type": "execute_result",
          "data": {
            "text/plain": [
              "array([8], dtype=int32)"
            ]
          },
          "metadata": {},
          "execution_count": 19
        }
      ]
    },
    {
      "cell_type": "code",
      "source": [
        "# find all the inbount_text which belongs to specified cluster\n",
        "for i in range(10):\n",
        "    data_df = apple_data[dv_km_model.labels_ == i]\n",
        "    print(f\"\\n\\nCluster {i+1}:\")\n",
        "    print(data_df['clean_combined_text'][:10])\n"
      ],
      "metadata": {
        "colab": {
          "base_uri": "https://localhost:8080/"
        },
        "id": "4Bsecbb2PPzk",
        "outputId": "7c54cb8e-b0df-4e3d-facb-2297b87ce28b"
      },
      "execution_count": null,
      "outputs": [
        {
          "output_type": "stream",
          "name": "stdout",
          "text": [
            "\n",
            "\n",
            "Cluster 0:\n",
            "1                                                                                                                      LINK we're . version ios running ? check settings > general > .\n",
            "25                                               hey ! last time downloaded update freaking phone gave hell . recommendations ? we're help . meet us dm check available options . LINK\n",
            "29                                                                        need something battery life sucks ass want help get battery life back track . please dm look together . LINK\n",
            "46                                                                                                   no . . says . update ima go relief , happy ead please keep us posted afterwards .\n",
            "68                                                                                            newest version ios iphone since released ios . today , clarify exact version installed ?\n",
            "86                                                             ios . keyboard lag . : face_with_raised_eyebrow : LINK we'd like take look . would please join us dm get started ? LINK\n",
            "90     really considering getting new kind phone since iphone dies % using camera : face_with_steam_from_nose : want help ! model ios device using ? recent version ios . downloaded ?\n",
            "96                            tell ’ ’ updated phone twice ’ type letter without getting letter question mark we're . exact version ios running ? check tapping settings > general > .\n",
            "114                                                                                                   < — wtf going we'd happy look detail . please reach us via dm get started . LINK\n",
            "118                                                             excuse , someone explain type “ ” alone get question mark ? ? ? happy take look . please send us dm version ios . LINK\n",
            "Name: clean_combined_text, dtype: object\n",
            "\n",
            "\n",
            "Cluster 1:\n",
            "100                                                                                                  updated phone . continue restarting iphone ? ios devices mac computer ? let us know dm . LINK\n",
            "134                             wife made mistake updating . revert back ? password keeper app dead . not access passwords . not able revert system pre ios look issues . dm us get started . LINK\n",
            "139                                                     hello need help use administartors name password imac hi ! we're happy help . join us dm macos version installed imac details going . LINK\n",
            "144                                                                                                        slowing mac lot gbs left snapshots created drive though ? , low space prior snapshots ?\n",
            "151                         chat ’ seem work germany . order page cannot leave comments … unable access resources , let get connected local applecare support team get online support group : LINK\n",
            "169                              since upgrade high sierra see screen time imac reboots thus defeating automatic login need . help . LINK thanks reaching let us know . look , please dm us : LINK\n",
            "200                               updating xcode via appstore . min remaining hr ago . min rem hour . ? net bandwidth good . we'd like help way . apps able downloaded device ? model os version ?\n",
            "212                                                                               impossible type “ ” without stupid box question mark . #notimpressed #fixit . let take look . reach us dm . LINK\n",
            "238    get prompted system administrator password mbp macos no system administrator account ’ aware ! ! LINK let take closer look together . macos version installed currently ? screen come mac ?\n",
            "241                                       trying update newest ios time . never fully processes . verification not go . help . we're help . backing device , let try updating device itunes : LINK\n",
            "Name: clean_combined_text, dtype: object\n",
            "\n",
            "\n",
            "Cluster 2:\n",
            "12                        hello , internet . someone explain symbol keeps appearing phone try type letter ? also LINK right place ; help . start , let us know ios version installed via dm : LINK\n",
            "16                                                                          ios . . let check settings > general > software update . ios . released earlier today . see , please backup & update .\n",
            "27                                                                                                         app still . no longer able control lockscreen . confirm , happening spotify , correct ?\n",
            "34                                                                                         thanks , thing still like cents credit not let zero credit try contacting itunes store team help : LINK\n",
            "36                                                                             , not time . ’ tried two different apple ids ’ still not showing phone thanks clarifying . let meet dm depth . LINK\n",
            "42                                                                                     ’ change ringer volume buttons ? whose dumb idea change still job ? let us look . device os version using ?\n",
            "48                                                                                                     $ billion says solves problem ? ’ . . currently . hold please . let us know continue . LINK\n",
            "50                                                                              yes , update . phone got . happen using particular app feature ? let us know via dm . ’ keep moving forward . LINK\n",
            "53                                         watchos made watch pointless browsing music phone via watch % reason buying ’ useless . still able control music iphone watch . check user guide : LINK\n",
            "54    ’ days since made update phone ’ operating system . constantly glitching , hmm : thinking_face : ’ shocked ! hi ! ios . released earlier today containing bug fixes . let back update : LINK\n",
            "Name: clean_combined_text, dtype: object\n",
            "\n",
            "\n",
            "Cluster 3:\n",
            "7                                                                                                   happening LINK we'd like investigate . send us dm troubleshoot . LINK\n",
            "8                                                                                                                            tf wrong keyboard fill us happening , help .\n",
            "10                                                                                                        hello lines closed tonight #help going ? we're hapy help . LINK\n",
            "13                              ’ got screenshot saying #iphonex reserved rd email saying ’ th happened ? go relief , happy ead send us dm please . let us know country .\n",
            "15    thank updated phone even slower barely works . thank ruining phone . : face_with_steam_from_nose : we'd like help , need details . happening device model ? ios . ?\n",
            "19       need software update urgently . battery lasts literally half day :p erson_frowning_medium light_skin_tone :: slightly_frowning_face : hi ! type device working ?\n",
            "22                                                                                                                          ? hello we'd like get speaking experts : LINK\n",
            "28                                                                  update #ios no spotify lock screen ? thanks reaching us . experiencing missing app restating device ?\n",
            "56             question iphone dies quick charge times day iphone battery faulty . could ? know important battery & happy help . ios version using ? also , issue begin ?\n",
            "70                                                              anyone else problems iphone saying no service ? want help . let start troubleshooting trying steps : LINK\n",
            "Name: clean_combined_text, dtype: object\n",
            "\n",
            "\n",
            "Cluster 4:\n",
            "18                                                                                    iphone plus : smiling_face_with_smiling_eyes : thanks ! ios version currently showing settings > general > ?\n",
            "23                                                                                                                   yes , . . released ios . . suggest backing & updating . , test issue . : LINK\n",
            "38    iphone , yes ios . checked updates , none available . ’ swiped close app several times ’ restarted x make sure , ios . showing : settings > general > > version ? please dm us answer : LINK\n",
            "40                                                                         get white screen nothing loads . short time , closes crashes . thanks reply . model ios . installed ? steps tried far ?\n",
            "45                                                                                                                      worked : OK_hand_medium_skin_tone : glad hear reach need help . good one !\n",
            "57                                                                                         iphone + , ios . thank much ! send us dm let us know speaker not work calls , apps affected well . LINK\n",
            "67                                                                                                       . . got . we'd recommend backing updating device . test things . keep us posted results .\n",
            "71                                                                                                                                     happening we'd glad see . let meet dm first . thanks ! LINK\n",
            "72                                                                                                                                             yes thank reaching . received dm continue working .\n",
            "77                                                                                                   ’ sorted . thanks . ios update needed change hard reboot we're glad hear sorted . great day .\n",
            "Name: clean_combined_text, dtype: object\n",
            "\n",
            "\n",
            "Cluster 5:\n",
            "32                “ ” keep changing stop : woman_facepalming_medium_skin_tone : #anybody LINK definitely understand concern . please backup iphone , update let us know result : LINK\n",
            "33                                                                      ios killing battery . fix . we're help . exact ios version device running ? info found settings > general > .\n",
            "37                                                                                                      home sharing not working fix we're happy help . home sharing worked devices ?\n",
            "51                   battery life short ? updated . , battery poor . wife ’ likes battery life let ’ work together situation . clarify , start updating ios . ? also , device using ?\n",
            "64                                                                                           bug calendar app fixed ? upgraded ios . still crashes ios . we'd like help . going app ?\n",
            "66                                              really needs fix update . phone never slower , real . we're help issues may performance . let us know exact ios version get started .\n",
            "81                                               . ? ? come laugh loud , talked guys last night asked updated . . laugh loud released earlier today . let use steps update ios : LINK\n",
            "82                                                            not phone keep freezing screenshot things turns white really not liking iphone plus let look together . updated ios . ?\n",
            "162    safe disable passcode unlock iphone ? mean , fingerprint still worked ? think dat would enough want make sure understand issue . wanting disable passcode still use touch id ?\n",
            "166                                             fyi , folders no longer show folder names update unless folder highlighted . LINK thanks reaching . help appletv reach experts : LINK\n",
            "Name: clean_combined_text, dtype: object\n",
            "\n",
            "\n",
            "Cluster 6:\n",
            "0                                   newest update . made sure download yesterday . lets take closer look issue . select following link join us dm go . LINK\n",
            "3                                                                                                    looks like LINK steps tried since started last night ?\n",
            "9                                                                                                        call centres closed night ? received dm continue .\n",
            "11                                                                                                   upgraded . ’ work . reach us via dm , take look . LINK\n",
            "26                                                      not find option get . always playing . dm us specific ios version running currently continue . LINK\n",
            "31                                                                                                   updated ’ still coming LINK let dig . dm us continue .\n",
            "39                                                                                 battery life got worst . make sure get straightened . dm us , see . LINK\n",
            "52    not show music stored phone like os . not want store music phone . certainly want take closer look issue . select following link join us dm go . LINK\n",
            "55                                                              ios . ’ getting worse months please meet us dm . we'd like gather additional details . LINK\n",
            "61                                               cost sending diagnosing problem warranty ? help . let ’ start following steps see save trip service : LINK\n",
            "Name: clean_combined_text, dtype: object\n",
            "\n",
            "\n",
            "Cluster 7:\n",
            "4                                                                                      iphone plus yes great ios . rule outdated . steps tried since started ? recall started ?\n",
            "5                                                                       need answers ’ annoying : upside down_face : we'd like look . model ios . installed ? steps tried far ?\n",
            "6                                 hey anyone else upgraded ios . , ’ issues capital “ ” mail app ? puts “ ” ? hey , let work together figure going . meet us dm continue . LINK\n",
            "24                                                                              home button ’ work #ios let us help home button . issue start right ios ? version ios running ?\n",
            "35                                                                                                       hello , need help regarding region change apple id article help : LINK\n",
            "58                                                                                         music never control center ? ! we're help ! device version ios currently installed ?\n",
            "59                                          updated ios iphone , icloud backup greyed , cannot turned , says “ last backup never ” check link : LINK send us dm not help . LINK\n",
            "60    hi , plugged adapter straight transformer still not charger . charger led not light either . certainly want take closer look . select following link join us dm go . LINK\n",
            "79                                  live photo keeps turning camera even ’ set stay . please fix next update . hey , work together figure solution . send us dm continue . LINK\n",
            "88                                         also forced app close background reopened , no dice : game_die : let ’ team . long happening ? version number ios running ? iphone ?\n",
            "Name: clean_combined_text, dtype: object\n",
            "\n",
            "\n",
            "Cluster 8:\n",
            "21                                                                                              hi ! going ? youtube lost ? done ? thanks support ! LINK want help ! dm us let us know issues . LINK\n",
            "43                words even mean thing ; iphone owner updated latest software dropped calls history glitch ’ apps randomly opening #ihelp want help . send us dm letting us know updated ios . LINK\n",
            "49                                                                                  cupertino , problem . . . . . LINK we'd like see assist . version ios currently running ? released ios . today .\n",
            "75                                                                                                                  help . problem iphone : expressionless_face : we're happy help . seems problem ?\n",
            "80                                                                                                                     listen ’ issues phone like @ talk we're help . send us dm issue follow . LINK\n",
            "101                                                                                                please make stop ! ! ! LINK let ’ work together behavior . long happening ? also , device using ?\n",
            "103                                                                                                        please fix battery issues ios ! want make sure working battery . chance update latest . ?\n",
            "108                                               ’ complain lot battery iphone goes % using phone minutes problems since update we'd like help . let take dm explore ways provide assistance . LINK\n",
            "119                                            heyyy still waiting version ios ’ complete shit — everyone iphone ’ brand new one thanks reaching . issues , we'd like assist . dm us continue . LINK\n",
            "142    team let know new iphone always hanging problem not know problem know feel cheated apple phone : mobile_phone : ? we'd concerned unresponsive device . let us know ios version dm help : LINK\n",
            "Name: clean_combined_text, dtype: object\n",
            "\n",
            "\n",
            "Cluster 9:\n",
            "2                                                                                                                                                                      tried resetting settings restarting phone let go dm next steps . dm us : LINK\n",
            "14                                                                                                                                         iphone plus recent update . make sure , ios . installed currently ? also , steps tried far ? dm us : LINK\n",
            "17                                                                                                                        okey . thank ! : smiling_face_with_open_hands : pleasure . still issues back update , contact us back . we're happy help .\n",
            "20    hola necesito urgente la actualización de software . la batería dura literal medio día :p erson_frowning_medium light_skin_tone :: woman_bowing_medium light_skin_tone : offer support via twitter english . get help spanish : LINK join LINK\n",
            "30                                                                                                                                               not work ? ! please fix ! ! ! we'd like look . please dm us current ios version iphone model . LINK\n",
            "41                                                                                                                                           phone app ’ work . thank updating #iphone #ipod want able make calls iphone . exactly going phone app ?\n",
            "44                                                                                        epıl bana yardımcı olur musun telefon internet konusunda çok yakıyo napcaz ? offer support via twitter english . contact us help preferred language : LINK\n",
            "47                                                                                                                                                   ’ apps fuccin download update apps important want get back enjoying . model ? ios . installed ?\n",
            "62                                                                                                                                           still no reliable bluetooth iphone + . thanks reaching . dm bluetooth device trying connect help . LINK\n",
            "65                                                                                                                                                       apps epilepsy detect seizures thanks advance hey , provide guidance . let meet dm go . LINK\n",
            "Name: clean_combined_text, dtype: object\n"
          ]
        }
      ]
    },
    {
      "cell_type": "markdown",
      "source": [
        "## Use Word2Vec to fit into KMeans model"
      ],
      "metadata": {
        "id": "jMMRcvDJsESb"
      }
    },
    {
      "cell_type": "code",
      "source": [
        "w2v_result = load_from_pickle(root_path + \"/w2v_vectorized_doc.pkl\")\n",
        "apple_data = pd.read_csv(root_path + \"/apple_data.csv\")"
      ],
      "metadata": {
        "id": "S0gYsfs_sLaq"
      },
      "execution_count": null,
      "outputs": []
    },
    {
      "cell_type": "code",
      "source": [
        "from sklearn.cluster import KMeans\n",
        "from sklearn.metrics import silhouette_score, silhouette_samples\n",
        "\n",
        "print(f'Currently fitting with {k} clusters... Please wait')\n",
        "\n",
        "# Initializing with k-means++ ensures that you get don’t fall into the random initialization trap.\n",
        "wv_km_model = KMeans(n_clusters=k, init='k-means++', max_iter=100, n_init=10, random_state = 10)\n",
        "y_pred = wv_km_model.fit_transform(wv_result)\n",
        "display(wv_km_model.labels_[:20])\n"
      ],
      "metadata": {
        "colab": {
          "base_uri": "https://localhost:8080/",
          "height": 71
        },
        "id": "RH3PlD1Ysb4u",
        "outputId": "1840575e-8ebc-45a1-a413-53434c0469f8"
      },
      "execution_count": null,
      "outputs": [
        {
          "output_type": "stream",
          "name": "stdout",
          "text": [
            "Currently fitting with 10 clusters... Please wait\n"
          ]
        },
        {
          "output_type": "display_data",
          "data": {
            "text/plain": [
              "array([5, 0, 5, 3, 1, 4, 1, 5, 8, 9, 9, 5, 9, 9, 0, 1, 0, 4, 0, 4],\n",
              "      dtype=int32)"
            ]
          },
          "metadata": {}
        }
      ]
    },
    {
      "cell_type": "code",
      "source": [
        "# find all the inbount_text which belongs to specified cluster\n",
        "for i in range(10):\n",
        "    data_df = apple_data[wv_km_model.labels_ == i]\n",
        "    print(f\"\\n\\nCluster {i+1}:\")\n",
        "    print(data_df['clean_combined_text'][:10])"
      ],
      "metadata": {
        "colab": {
          "base_uri": "https://localhost:8080/"
        },
        "id": "qahfiltZy9tf",
        "outputId": "c52f1731-1158-45fd-e6fb-81aa692042ee"
      },
      "execution_count": null,
      "outputs": [
        {
          "output_type": "stream",
          "name": "stdout",
          "text": [
            "\n",
            "\n",
            "Cluster 0:\n",
            "1                                                                                                                                   LINK we're . version ios running ? check settings > general > .\n",
            "14                                                                                        iphone plus recent update . make sure , ios . installed currently ? also , steps tried far ? dm us : LINK\n",
            "16                                                                           ios . . let check settings > general > software update . ios . released earlier today . see , please backup & update .\n",
            "18                                                                                     iphone plus : smiling_face_with_smiling_eyes : thanks ! ios version currently showing settings > general > ?\n",
            "33                                                                                    ios killing battery . fix . we're help . exact ios version device running ? info found settings > general > .\n",
            "38     iphone , yes ios . checked updates , none available . ’ swiped close app several times ’ restarted x make sure , ios . showing : settings > general > > version ? please dm us answer : LINK\n",
            "58                                                                                                             music never control center ? ! we're help ! device version ios currently installed ?\n",
            "68                                                                                                         newest version ios iphone since released ios . today , clarify exact version installed ?\n",
            "96                                         tell ’ ’ updated phone twice ’ type letter without getting letter question mark we're . exact version ios running ? check tapping settings > general > .\n",
            "122                                                               dropped update still see boxed question marks . fix shit . we're help . version ios installed device ? see settings > general > .\n",
            "Name: clean_combined_text, dtype: object\n",
            "\n",
            "\n",
            "Cluster 1:\n",
            "4                                                                                                         iphone plus yes great ios . rule outdated . steps tried since started ? recall started ?\n",
            "6                                                    hey anyone else upgraded ios . , ’ issues capital “ ” mail app ? puts “ ” ? hey , let work together figure going . meet us dm continue . LINK\n",
            "15                             thank updated phone even slower barely works . thank ruining phone . : face_with_steam_from_nose : we'd like help , need details . happening device model ? ios . ?\n",
            "41                                                                                         phone app ’ work . thank updating #iphone #ipod want able make calls iphone . exactly going phone app ?\n",
            "43              words even mean thing ; iphone owner updated latest software dropped calls history glitch ’ apps randomly opening #ihelp want help . send us dm letting us know updated ios . LINK\n",
            "47                                                                                                 ’ apps fuccin download update apps important want get back enjoying . model ? ios . installed ?\n",
            "51                                battery life short ? updated . , battery poor . wife ’ likes battery life let ’ work together situation . clarify , start updating ios . ? also , device using ?\n",
            "54    ’ days since made update phone ’ operating system . constantly glitching , hmm : thinking_face : ’ shocked ! hi ! ios . released earlier today containing bug fixes . let back update : LINK\n",
            "56                                      question iphone dies quick charge times day iphone battery faulty . could ? know important battery & happy help . ios version using ? also , issue begin ?\n",
            "64                                                                                                        bug calendar app fixed ? upgraded ios . still crashes ios . we'd like help . going app ?\n",
            "Name: clean_combined_text, dtype: object\n",
            "\n",
            "\n",
            "Cluster 2:\n",
            "124                                                                                                tried still ’ work ’ work around issue ’ fixed future software update : LINK\n",
            "147                                                                                                         LINK ’ work around issue ’ fixed future software update : LINK LINK\n",
            "445    sooo ever going fix annoying glitch type letter annoying box ? thing ! stupid . im going switch android soon . ’ work around issue ’ fixed future software update : LINK\n",
            "446                                                            please update software tired seeing everytime try type ’ work around issue ’ fixed future software update : LINK\n",
            "448                                                              tell keeps stupid shit boxed question mark make stop ’ work around issue ’ fixed future software update : LINK\n",
            "450                                   yo please fix ios glitch . no idea friends trying tell group chats look crazy . ’ work around issue ’ fixed future software update : LINK\n",
            "453                                                               ’ gone far need able use shit going . not approve . ’ work around issue ’ fixed future software update : LINK\n",
            "454                                                                  hey think need talk #applebug #iphoneglitch LINK ’ work around issue ’ fixed future software update : LINK\n",
            "455                                                                                      ’ important letter , . fix . ’ work around issue ’ fixed future software update : LINK\n",
            "456                                                                                  today would good day fix “ ” bug ’ work around issue ’ fixed future software update : LINK\n",
            "Name: clean_combined_text, dtype: object\n",
            "\n",
            "\n",
            "Cluster 3:\n",
            "3                                                                                                                             looks like LINK steps tried since started last night ?\n",
            "27                                                                                           app still . no longer able control lockscreen . confirm , happening spotify , correct ?\n",
            "28                                                                             update #ios no spotify lock screen ? thanks reaching us . experiencing missing app restating device ?\n",
            "36                                                               , not time . ’ tried two different apple ids ’ still not showing phone thanks clarifying . let meet dm depth . LINK\n",
            "37                                                                                                     home sharing not working fix we're happy help . home sharing worked devices ?\n",
            "40                                                           get white screen nothing loads . short time , closes crashes . thanks reply . model ios . installed ? steps tried far ?\n",
            "42                                                                       ’ change ringer volume buttons ? whose dumb idea change still job ? let us look . device os version using ?\n",
            "53                           watchos made watch pointless browsing music phone via watch % reason buying ’ useless . still able control music iphone watch . check user guide : LINK\n",
            "73                                                                            keep getting error message saying “ item ’ played ” not know fix we'd like look . song appear greyed ?\n",
            "78    ios . . . cannot adjust alarm volume waking house neighbours despite ringer set minimum ! we'd love help alarm volume . option \" change buttons \" disabled settings > sounds ?\n",
            "Name: clean_combined_text, dtype: object\n",
            "\n",
            "\n",
            "Cluster 4:\n",
            "5                                                                                            need answers ’ annoying : upside down_face : we'd like look . model ios . installed ? steps tried far ?\n",
            "17                                                                        okey . thank ! : smiling_face_with_open_hands : pleasure . still issues back update , contact us back . we're happy help .\n",
            "19                                  need software update urgently . battery lasts literally half day :p erson_frowning_medium light_skin_tone :: slightly_frowning_face : hi ! type device working ?\n",
            "22                                                                                                                                                     ? hello we'd like get speaking experts : LINK\n",
            "32                               “ ” keep changing stop : woman_facepalming_medium_skin_tone : #anybody LINK definitely understand concern . please backup iphone , update let us know result : LINK\n",
            "45                                                                                                                        worked : OK_hand_medium_skin_tone : glad hear reach need help . good one !\n",
            "75                                                                                                                  help . problem iphone : expressionless_face : we're happy help . seems problem ?\n",
            "84                                                                                                                                                             fixed thanks great ! enjoy rest day .\n",
            "130                                                                                        “ “ autocorrecting . ? ? annoying ! ’ change settings either we'd love help . let work together dm . LINK\n",
            "142    team let know new iphone always hanging problem not know problem know feel cheated apple phone : mobile_phone : ? we'd concerned unresponsive device . let us know ios version dm help : LINK\n",
            "Name: clean_combined_text, dtype: object\n",
            "\n",
            "\n",
            "Cluster 5:\n",
            "0     newest update . made sure download yesterday . lets take closer look issue . select following link join us dm go . LINK\n",
            "2                                               tried resetting settings restarting phone let go dm next steps . dm us : LINK\n",
            "7                                                       happening LINK we'd like investigate . send us dm troubleshoot . LINK\n",
            "11                                                                     upgraded . ’ work . reach us via dm , take look . LINK\n",
            "26                        not find option get . always playing . dm us specific ios version running currently continue . LINK\n",
            "31                                                                     updated ’ still coming LINK let dig . dm us continue .\n",
            "55                                ios . ’ getting worse months please meet us dm . we'd like gather additional details . LINK\n",
            "71                                                                happening we'd glad see . let meet dm first . thanks ! LINK\n",
            "72                                                                        yes thank reaching . received dm continue working .\n",
            "74                                                                                      ^ ^ check send us dm please go . LINK\n",
            "Name: clean_combined_text, dtype: object\n",
            "\n",
            "\n",
            "Cluster 6:\n",
            "34                                                                                                                                                                                                    thanks , thing still like cents credit not let zero credit try contacting itunes store team help : LINK\n",
            "35                                                                                                                                                                                                                                     hello , need help regarding region change apple id article help : LINK\n",
            "61                                                                                                                                                                                                 cost sending diagnosing problem warranty ? help . let ’ start following steps see save trip service : LINK\n",
            "97                                                                                                                                                                 new ones tauntingly pretend saved ’ click try send grey screen shows appreciate details . help photos , please reach photos experts : LINK\n",
            "132                                                                                                                                                                      long take usually account recovery get back ? ’ week . access apple id important . receive email confirmation request ? dm us : LINK\n",
            "143                                                                                                                                                      ’ know . need space though . get rid snapshots finder get info windows not include snapshots calculations not root cause . let meet within dm : LINK\n",
            "151                                                                                                                                    chat ’ seem work germany . order page cannot leave comments … unable access resources , let get connected local applecare support team get online support group : LINK\n",
            "152                                                                                                                                                                                                                     dear , online order never received talk ? want help . look talk online support : LINK\n",
            "153                                                                                                                                                                                                                  need actual human help understood . help apple id , connect one apple id advisors : LINK\n",
            "154    suck ! upgrade phone & lose apple id . ’ get new id without old & ’ book genius bar help appointment without id ! ! ! #stupid we're happy reached find info need . forgot apple id , go apple id account page : LINK , click \" forgot apple id password ? \" click \" look . \" , follow screen prompts .\n",
            "Name: clean_combined_text, dtype: object\n",
            "\n",
            "\n",
            "Cluster 7:\n",
            "20     hola necesito urgente la actualización de software . la batería dura literal medio día :p erson_frowning_medium light_skin_tone :: woman_bowing_medium light_skin_tone : offer support via twitter english . get help spanish : LINK join LINK\n",
            "44                                                                                         epıl bana yardımcı olur musun telefon internet konusunda çok yakıyo napcaz ? offer support via twitter english . contact us help preferred language : LINK\n",
            "106                                                                              コレは本当に困る 、 ゲームも出来なくなったしアップデートしなきゃ良かった ´ д ` ; → 「 バッテリーの減りが激しい 」 という問題に関しても同様 ） 。 LINK offer support via twitter english . contact us help preferred language : LINK\n",
            "121                                                                                                sa fait h j ’ ai ios . et mon tel redemarre seul , explication ? ? ? offer support via twitter english . contact us help preferred language : LINK\n",
            "180                                                                            . にあげたらtwitter少し見てるだけだし低電力モードなのに パーへったぞ 。 デバイス本体ごと取り換えて数ヶ月だし今回のアプデはミスだな 。 バッテリー消費悪化してる 。 offer support via twitter english . contact us help preferred language : LINK\n",
            "181                                                                                                       bienvenida sea la multi tarea al touch en iphone , gracias #newupdate offer support via twitter english . get help spanish : LINK join LINK\n",
            "201                                                                             mi iphone no se puede conectar la red wifi privadas pero si las free , que hago : crying_face : offer support via twitter english . get help spanish : LINK join LINK\n",
            "203                                                                                                                                  foco aqui q q tá acontecendo ~ ios guloso LINK since twitter support available english , get help LINK join LINK\n",
            "211                                                                                                            depois da ultima atualizado ios bateria iphone tá durando quase nada since twitter support available english , get help LINK join LINK\n",
            "213                                                                                        baje la app de la cual es gratuita llego un cargo de $ . pesos ¿ cuál es el motivo ? offer support via twitter english . get help spanish : LINK join LINK\n",
            "Name: clean_combined_text, dtype: object\n",
            "\n",
            "\n",
            "Cluster 8:\n",
            "8                                                                                              tf wrong keyboard fill us happening , help .\n",
            "21                                     hi ! going ? youtube lost ? done ? thanks support ! LINK want help ! dm us let us know issues . LINK\n",
            "23                                                            yes , . . released ios . . suggest backing & updating . , test issue . : LINK\n",
            "24                                          home button ’ work #ios let us help home button . issue start right ios ? version ios running ?\n",
            "29                             need something battery life sucks ass want help get battery life back track . please dm look together . LINK\n",
            "30                                      not work ? ! please fix ! ! ! we'd like look . please dm us current ios version iphone model . LINK\n",
            "39                                                                 battery life got worst . make sure get straightened . dm us , see . LINK\n",
            "49                         cupertino , problem . . . . . LINK we'd like see assist . version ios currently running ? released ios . today .\n",
            "57                                  iphone + , ios . thank much ! send us dm let us know speaker not work calls , apps affected well . LINK\n",
            "66    really needs fix update . phone never slower , real . we're help issues may performance . let us know exact ios version get started .\n",
            "Name: clean_combined_text, dtype: object\n",
            "\n",
            "\n",
            "Cluster 9:\n",
            "9                                                                                                                           call centres closed night ? received dm continue .\n",
            "10                                                                                                             hello lines closed tonight #help going ? we're hapy help . LINK\n",
            "12    hello , internet . someone explain symbol keeps appearing phone try type letter ? also LINK right place ; help . start , let us know ios version installed via dm : LINK\n",
            "13                                   ’ got screenshot saying #iphonex reserved rd email saying ’ th happened ? go relief , happy ead send us dm please . let us know country .\n",
            "25                                       hey ! last time downloaded update freaking phone gave hell . recommendations ? we're help . meet us dm check available options . LINK\n",
            "46                                                                                           no . . says . update ima go relief , happy ead please keep us posted afterwards .\n",
            "48                                                                                 $ billion says solves problem ? ’ . . currently . hold please . let us know continue . LINK\n",
            "50                                                          yes , update . phone got . happen using particular app feature ? let us know via dm . ’ keep moving forward . LINK\n",
            "52                       not show music stored phone like os . not want store music phone . certainly want take closer look issue . select following link join us dm go . LINK\n",
            "59                                         updated ios iphone , icloud backup greyed , cannot turned , says “ last backup never ” check link : LINK send us dm not help . LINK\n",
            "Name: clean_combined_text, dtype: object\n"
          ]
        }
      ]
    },
    {
      "cell_type": "markdown",
      "source": [
        "## Use TFIDF to fit into KMeans model"
      ],
      "metadata": {
        "id": "5SUHMnFjTRNR"
      }
    },
    {
      "cell_type": "code",
      "source": [
        "tfidf_result = load_from_pickle(root_path + \"/tfidf_result.pkl\")\n",
        "apple_data = pd.read_csv(root_path + \"/apple_data.csv\")"
      ],
      "metadata": {
        "id": "bskaGoybSR5_"
      },
      "execution_count": null,
      "outputs": []
    },
    {
      "cell_type": "code",
      "source": [
        "from sklearn.cluster import KMeans\n",
        "from sklearn.metrics import silhouette_score, silhouette_samples\n",
        "\n",
        "k = 10\n",
        "print(f'Currently fitting with {k} clusters... Please wait')\n",
        "\n",
        "# Initializing with k-means++ ensures that you get don’t fall into the random initialization trap.\n",
        "tfidf_km_model = KMeans(n_clusters=k, init='k-means++', max_iter=100, n_init=10, random_state = 10)\n",
        "y_pred = tfidf_km_model.fit_transform(tfidf_result)\n",
        "display(tfidf_km_model.labels_[:20])"
      ],
      "metadata": {
        "colab": {
          "base_uri": "https://localhost:8080/",
          "height": 71
        },
        "id": "V4P1ESmUSeXx",
        "outputId": "095ed398-1498-4f3f-d842-01d20cedc1e2"
      },
      "execution_count": null,
      "outputs": [
        {
          "output_type": "stream",
          "name": "stdout",
          "text": [
            "Currently fitting with 10 clusters... Please wait\n"
          ]
        },
        {
          "output_type": "display_data",
          "data": {
            "text/plain": [
              "array([7, 1, 3, 0, 9, 0, 7, 7, 0, 0, 0, 7, 4, 4, 0, 0, 1, 0, 1, 0],\n",
              "      dtype=int32)"
            ]
          },
          "metadata": {}
        }
      ]
    },
    {
      "cell_type": "code",
      "source": [
        "tfidf_result.shape"
      ],
      "metadata": {
        "colab": {
          "base_uri": "https://localhost:8080/"
        },
        "id": "xqApdKUSVxN-",
        "outputId": "c76e57e0-b2da-485c-e70c-3a8a36169de0"
      },
      "execution_count": null,
      "outputs": [
        {
          "output_type": "execute_result",
          "data": {
            "text/plain": [
              "(106648, 3000)"
            ]
          },
          "metadata": {},
          "execution_count": 55
        }
      ]
    },
    {
      "cell_type": "code",
      "source": [
        "# find all the inbount_text which belongs to specified cluster\n",
        "for i in range(10):\n",
        "    data_df = apple_data[tfidf_km_model.labels_ == i]\n",
        "    print(f\"\\n\\nCluster {i+1}:\")\n",
        "    print(data_df['clean_combined_text'][:10])"
      ],
      "metadata": {
        "colab": {
          "base_uri": "https://localhost:8080/"
        },
        "id": "17-dDYReSjlt",
        "outputId": "b9fc2cf7-76d9-4bda-b12c-e16d0c111b2b"
      },
      "execution_count": null,
      "outputs": [
        {
          "output_type": "stream",
          "name": "stdout",
          "text": [
            "\n",
            "\n",
            "Cluster 0:\n",
            "3                                                                                                                  looks like LINK steps tried since started last night ?\n",
            "5                                                                 need answers ’ annoying : upside down_face : we'd like look . model ios . installed ? steps tried far ?\n",
            "8                                                                                                                            tf wrong keyboard fill us happening , help .\n",
            "9                                                                                                                      call centres closed night ? received dm continue .\n",
            "10                                                                                                        hello lines closed tonight #help going ? we're hapy help . LINK\n",
            "14                                                              iphone plus recent update . make sure , ios . installed currently ? also , steps tried far ? dm us : LINK\n",
            "15    thank updated phone even slower barely works . thank ruining phone . : face_with_steam_from_nose : we'd like help , need details . happening device model ? ios . ?\n",
            "17                                             okey . thank ! : smiling_face_with_open_hands : pleasure . still issues back update , contact us back . we're happy help .\n",
            "19       need software update urgently . battery lasts literally half day :p erson_frowning_medium light_skin_tone :: slightly_frowning_face : hi ! type device working ?\n",
            "22                                                                                                                          ? hello we'd like get speaking experts : LINK\n",
            "Name: clean_combined_text, dtype: object\n",
            "\n",
            "\n",
            "Cluster 1:\n",
            "1                                                                                                                                  LINK we're . version ios running ? check settings > general > .\n",
            "16                                                                          ios . . let check settings > general > software update . ios . released earlier today . see , please backup & update .\n",
            "18                                                                                    iphone plus : smiling_face_with_smiling_eyes : thanks ! ios version currently showing settings > general > ?\n",
            "24                                                                                                 home button ’ work #ios let us help home button . issue start right ios ? version ios running ?\n",
            "26                                                                                             not find option get . always playing . dm us specific ios version running currently continue . LINK\n",
            "33                                                                                   ios killing battery . fix . we're help . exact ios version device running ? info found settings > general > .\n",
            "38    iphone , yes ios . checked updates , none available . ’ swiped close app several times ’ restarted x make sure , ios . showing : settings > general > > version ? please dm us answer : LINK\n",
            "49                                                                                cupertino , problem . . . . . LINK we'd like see assist . version ios currently running ? released ios . today .\n",
            "58                                                                                                            music never control center ? ! we're help ! device version ios currently installed ?\n",
            "68                                                                                                        newest version ios iphone since released ios . today , clarify exact version installed ?\n",
            "Name: clean_combined_text, dtype: object\n",
            "\n",
            "\n",
            "Cluster 2:\n",
            "20     hola necesito urgente la actualización de software . la batería dura literal medio día :p erson_frowning_medium light_skin_tone :: woman_bowing_medium light_skin_tone : offer support via twitter english . get help spanish : LINK join LINK\n",
            "44                                                                                         epıl bana yardımcı olur musun telefon internet konusunda çok yakıyo napcaz ? offer support via twitter english . contact us help preferred language : LINK\n",
            "106                                                                              コレは本当に困る 、 ゲームも出来なくなったしアップデートしなきゃ良かった ´ д ` ; → 「 バッテリーの減りが激しい 」 という問題に関しても同様 ） 。 LINK offer support via twitter english . contact us help preferred language : LINK\n",
            "121                                                                                                sa fait h j ’ ai ios . et mon tel redemarre seul , explication ? ? ? offer support via twitter english . contact us help preferred language : LINK\n",
            "180                                                                            . にあげたらtwitter少し見てるだけだし低電力モードなのに パーへったぞ 。 デバイス本体ごと取り換えて数ヶ月だし今回のアプデはミスだな 。 バッテリー消費悪化してる 。 offer support via twitter english . contact us help preferred language : LINK\n",
            "181                                                                                                       bienvenida sea la multi tarea al touch en iphone , gracias #newupdate offer support via twitter english . get help spanish : LINK join LINK\n",
            "201                                                                             mi iphone no se puede conectar la red wifi privadas pero si las free , que hago : crying_face : offer support via twitter english . get help spanish : LINK join LINK\n",
            "203                                                                                                                                  foco aqui q q tá acontecendo ~ ios guloso LINK since twitter support available english , get help LINK join LINK\n",
            "211                                                                                                            depois da ultima atualizado ios bateria iphone tá durando quase nada since twitter support available english , get help LINK join LINK\n",
            "213                                                                                        baje la app de la cual es gratuita llego un cargo de $ . pesos ¿ cuál es el motivo ? offer support via twitter english . get help spanish : LINK join LINK\n",
            "Name: clean_combined_text, dtype: object\n",
            "\n",
            "\n",
            "Cluster 3:\n",
            "2                                                                                              tried resetting settings restarting phone let go dm next steps . dm us : LINK\n",
            "30                                                                       not work ? ! please fix ! ! ! we'd like look . please dm us current ios version iphone model . LINK\n",
            "31                                                                                                                    updated ’ still coming LINK let dig . dm us continue .\n",
            "63                                                                                                roll month , not appear hangs we'd like take closer look . dm us go . LINK\n",
            "76                                             idea icons show like ? force reset no avail . initial notification display , show . LINK we're . dm us , look together . LINK\n",
            "95                                                                                                                              we'd happy look . dm us using link go . LINK\n",
            "119                    heyyy still waiting version ios ’ complete shit — everyone iphone ’ brand new one thanks reaching . issues , we'd like assist . dm us continue . LINK\n",
            "120                                                          iphone redémarrer alone ! ! ! thanks getting back us . apologize understanding issue hand . please dm us . LINK\n",
            "126    no , virginmedia . tried twice completely new mail . one ’ save , nd though . odd . accounts may create separate folders drafts . still trouble , please dm us : LINK\n",
            "150                     attempts open twitter app complain ios messing iphone slowing life unhappy we'd like look . please dm us details glad work towards resolution . LINK\n",
            "Name: clean_combined_text, dtype: object\n",
            "\n",
            "\n",
            "Cluster 4:\n",
            "12     hello , internet . someone explain symbol keeps appearing phone try type letter ? also LINK right place ; help . start , let us know ios version installed via dm : LINK\n",
            "13                                    ’ got screenshot saying #iphonex reserved rd email saying ’ th happened ? go relief , happy ead send us dm please . let us know country .\n",
            "21                                                                         hi ! going ? youtube lost ? done ? thanks support ! LINK want help ! dm us let us know issues . LINK\n",
            "32          “ ” keep changing stop : woman_facepalming_medium_skin_tone : #anybody LINK definitely understand concern . please backup iphone , update let us know result : LINK\n",
            "48                                                                                  $ billion says solves problem ? ’ . . currently . hold please . let us know continue . LINK\n",
            "50                                                           yes , update . phone got . happen using particular app feature ? let us know via dm . ’ keep moving forward . LINK\n",
            "57                                                                      iphone + , ios . thank much ! send us dm let us know speaker not work calls , apps affected well . LINK\n",
            "66                                        really needs fix update . phone never slower , real . we're help issues may performance . let us know exact ios version get started .\n",
            "85                                                 top bar every time open messages se updating ios . LINK thank reaching us . tried restart device ? let us know get started .\n",
            "100                                                                               updated phone . continue restarting iphone ? ios devices mac computer ? let us know dm . LINK\n",
            "Name: clean_combined_text, dtype: object\n",
            "\n",
            "\n",
            "Cluster 5:\n",
            "124                                                                                                tried still ’ work ’ work around issue ’ fixed future software update : LINK\n",
            "147                                                                                                         LINK ’ work around issue ’ fixed future software update : LINK LINK\n",
            "445    sooo ever going fix annoying glitch type letter annoying box ? thing ! stupid . im going switch android soon . ’ work around issue ’ fixed future software update : LINK\n",
            "446                                                            please update software tired seeing everytime try type ’ work around issue ’ fixed future software update : LINK\n",
            "448                                                              tell keeps stupid shit boxed question mark make stop ’ work around issue ’ fixed future software update : LINK\n",
            "450                                   yo please fix ios glitch . no idea friends trying tell group chats look crazy . ’ work around issue ’ fixed future software update : LINK\n",
            "453                                                               ’ gone far need able use shit going . not approve . ’ work around issue ’ fixed future software update : LINK\n",
            "454                                                                  hey think need talk #applebug #iphoneglitch LINK ’ work around issue ’ fixed future software update : LINK\n",
            "455                                                                                      ’ important letter , . fix . ’ work around issue ’ fixed future software update : LINK\n",
            "456                                                                                  today would good day fix “ ” bug ’ work around issue ’ fixed future software update : LINK\n",
            "Name: clean_combined_text, dtype: object\n",
            "\n",
            "\n",
            "Cluster 6:\n",
            "1750                                                                                                                                                                                                                              tf ’ fixed “ ” hi . recently released update includes fix autocorrect issues . follow steps back update device : LINK let us know questions .\n",
            "2617                                                                                                                                                                                                                                                    ios . recently released ios update , . . . let ’ make sure no available updates device . sure back update . back : LINK\n",
            "3015                                                         restarting phone not work . wife facetime hit home button something , ’ triggers problem . asked hit home button end came back facetime , triggered end well got , thanks ! recently release update ios . . may help issue . sure back device prior updating , let us know issue persists afterwards . back : LINK\n",
            "3146                                                                                                                            looking tweets ’ need fix glitch , letter “ ” getting old damn shit irking ! ! ! great news ! ios . . recently released includes fix autocorrect issues . sure back device prior updating , let us know issue persists afterwards . back : LINK\n",
            "3760    two days ago something happened iphone without knowing . “ ” replaced foolish hieroglyphic . shows facebook posts , text messages etc . ’ trying post battle ptsd posts look unprofessional childish , thanks we're glad contacted us assistance . recently released ios update , contains fix autocorrect issues . let ’ sure back device prior updating . back : LINK\n",
            "3905                                                                                                                                                                                                 want christmas fix — — > ios . . recently released includes fix autocorrect issues . sure back device prior updating , let us know issue persists afterwards . back : LINK\n",
            "4089                                                                                                                                                        also wishing would fix whole “ ” issue : face_with_tears_of_joy : ios . . recently released includes fix autocorrect issues . sure back device prior updating , let us know issue persists afterwards . back : LINK\n",
            "4180                                                                                                                                                                                   please fix issue letter becomes \" [ ? ] \" i'm switch android released update includes fix autocorrect issues . sure back device prior updating , let us know issue persists afterwards .\n",
            "4310                                                                                                                                                                                                                        gonna ignore whole thing recently released ios update , . . , contains fix autocorrect issues . let ’ sure back device prior updating . back : LINK\n",
            "4321                                                                                                                                                                                                               fix glitch ios . . recently released includes fix autocorrect issues . sure back device prior updating , let us know issue persists afterwards . back : LINK\n",
            "Name: clean_combined_text, dtype: object\n",
            "\n",
            "\n",
            "Cluster 7:\n",
            "0                                                                newest update . made sure download yesterday . lets take closer look issue . select following link join us dm go . LINK\n",
            "6                                          hey anyone else upgraded ios . , ’ issues capital “ ” mail app ? puts “ ” ? hey , let work together figure going . meet us dm continue . LINK\n",
            "7                                                                                                                  happening LINK we'd like investigate . send us dm troubleshoot . LINK\n",
            "11                                                                                                                                upgraded . ’ work . reach us via dm , take look . LINK\n",
            "25                                                 hey ! last time downloaded update freaking phone gave hell . recommendations ? we're help . meet us dm check available options . LINK\n",
            "43    words even mean thing ; iphone owner updated latest software dropped calls history glitch ’ apps randomly opening #ihelp want help . send us dm letting us know updated ios . LINK\n",
            "52                                 not show music stored phone like os . not want store music phone . certainly want take closer look issue . select following link join us dm go . LINK\n",
            "55                                                                                           ios . ’ getting worse months please meet us dm . we'd like gather additional details . LINK\n",
            "59                                                   updated ios iphone , icloud backup greyed , cannot turned , says “ last backup never ” check link : LINK send us dm not help . LINK\n",
            "60             hi , plugged adapter straight transformer still not charger . charger led not light either . certainly want take closer look . select following link join us dm go . LINK\n",
            "Name: clean_combined_text, dtype: object\n",
            "\n",
            "\n",
            "Cluster 8:\n",
            "29                                                              need something battery life sucks ass want help get battery life back track . please dm look together . LINK\n",
            "39                                                                                                  battery life got worst . make sure get straightened . dm us , see . LINK\n",
            "51          battery life short ? updated . , battery poor . wife ’ likes battery life let ’ work together situation . clarify , start updating ios . ? also , device using ?\n",
            "56                question iphone dies quick charge times day iphone battery faulty . could ? know important battery & happy help . ios version using ? also , issue begin ?\n",
            "83                                                                            ’ no expert battery life % ’ go % minutes understand concerns , want help . device happening ?\n",
            "102                                                                                                                        battery life become even worse let look dm . LINK\n",
            "103                                                                                please fix battery issues ios ! want make sure working battery . chance update latest . ?\n",
            "138    new apple updates : battery life really go fast wifi always ! #newappleupdates we'd love help . let work together dm . start letting us know kind device using . LINK\n",
            "179                                                    ios . consumes battery pretty fast let see using battery provide best solution . start , dm us country located . LINK\n",
            "195                                                   damn new emojis . battery still go % % one snap ? we're happy help . experiencing battery issues , using certain app ?\n",
            "Name: clean_combined_text, dtype: object\n",
            "\n",
            "\n",
            "Cluster 9:\n",
            "4                                                                                            iphone plus yes great ios . rule outdated . steps tried since started ? recall started ?\n",
            "86                                                            ios . keyboard lag . : face_with_raised_eyebrow : LINK we'd like take look . would please join us dm get started ? LINK\n",
            "114                                                                                                  < — wtf going we'd happy look detail . please reach us via dm get started . LINK\n",
            "134                wife made mistake updating . revert back ? password keeper app dead . not access passwords . not able revert system pre ios look issues . dm us get started . LINK\n",
            "158                                                                                           lil help ? LINK we'd love help . dm us ios device experiencing issue get started . LINK\n",
            "206    ok , figure collective shit . error attempting type “ ” & getting weird ascii characters stoopid . let look keyboard issue . send us dm current ios version get started . LINK\n",
            "258                                                                                            glitch blowing mine . please fix . we're help issues may . tell us going get started .\n",
            "265                     no ’ address . nothing even included battery improvement sw release notes see . want make sure iphone works way expect . let get paired dm get started . LINK\n",
            "280                                                                                                                   phone LINK let look . send us dm ios version get started . LINK\n",
            "281                                                       make ? top left corner us customer , think phone hacked . LINK let look . send us dm current ios version get started . LINK\n",
            "Name: clean_combined_text, dtype: object\n"
          ]
        }
      ]
    },
    {
      "cell_type": "markdown",
      "source": [
        "## Use Sentence Transformer to feed into KMeans model"
      ],
      "metadata": {
        "id": "VBBL25akElgK"
      }
    },
    {
      "cell_type": "code",
      "source": [
        "embeddings = load_from_pickle(root_path + \"/sentence_transformer_result.pkl\")"
      ],
      "metadata": {
        "id": "IOrPeG8UErOC"
      },
      "execution_count": null,
      "outputs": []
    },
    {
      "cell_type": "code",
      "source": [
        "from sklearn.cluster import KMeans\n",
        "from sklearn.metrics import silhouette_score, silhouette_samples\n",
        "\n",
        "k = 10\n",
        "print(f'Currently fitting with {k} clusters... Please wait')\n",
        "\n",
        "# Initializing with k-means++ ensures that you get don’t fall into the random initialization trap.\n",
        "st_km_model = KMeans(n_clusters=k, init='k-means++', max_iter=100, n_init=10, random_state = 10)\n",
        "y_pred = st_km_model.fit_transform(embeddings)\n",
        "display(dv_km_model.labels_[:20])"
      ],
      "metadata": {
        "colab": {
          "base_uri": "https://localhost:8080/",
          "height": 71
        },
        "id": "ALrJN78oExor",
        "outputId": "9fe22b2a-a5a2-43b8-e3e0-e346c7e46465"
      },
      "execution_count": 36,
      "outputs": [
        {
          "output_type": "stream",
          "name": "stdout",
          "text": [
            "Currently fitting with 10 clusters... Please wait\n"
          ]
        },
        {
          "output_type": "display_data",
          "data": {
            "text/plain": [
              "array([9, 8, 8, 9, 1, 1, 3, 9, 3, 2, 2, 2, 3, 1, 4, 4, 4, 9, 8, 0],\n",
              "      dtype=int32)"
            ]
          },
          "metadata": {}
        }
      ]
    },
    {
      "cell_type": "code",
      "source": [
        "# find all the inbount_text which belongs to specified cluster\n",
        "for i in range(10):\n",
        "    data_df = apple_data[st_km_model.labels_ == i]\n",
        "    print(f\"\\n\\nCluster {i+1}:\")\n",
        "    print(data_df['clean_combined_text'][:10])"
      ],
      "metadata": {
        "colab": {
          "base_uri": "https://localhost:8080/"
        },
        "id": "Bw8NQWkOE9a6",
        "outputId": "1f45c003-b09f-49fa-e1ea-e3a63028fd0c"
      },
      "execution_count": 38,
      "outputs": [
        {
          "output_type": "stream",
          "name": "stdout",
          "text": [
            "\n",
            "\n",
            "Cluster 1:\n",
            "19           need software update urgently . battery lasts literally half day :p erson_frowning_medium light_skin_tone :: slightly_frowning_face : hi ! type device working ?\n",
            "29                                                                    need something battery life sucks ass want help get battery life back track . please dm look together .\n",
            "33                                                              ios killing battery . fix . we're help . exact ios version device running ? info found settings > general > .\n",
            "39                                                                                                        battery life got worst . make sure get straightened . dm us , see .\n",
            "51           battery life short ? updated . , battery poor . wife ’ likes battery life let ’ work together situation . clarify , start updating ios . ? also , device using ?\n",
            "56                 question iphone dies quick charge times day iphone battery faulty . could ? know important battery & happy help . ios version using ? also , issue begin ?\n",
            "83                                                                             ’ no expert battery life % ’ go % minutes understand concerns , want help . device happening ?\n",
            "102                                                                                                                              battery life become even worse let look dm .\n",
            "103                                                                                 please fix battery issues ios ! want make sure working battery . chance update latest . ?\n",
            "107    series #applewatch would consistently get hrs + per charge prior last update . hrs max.died @ gym nite . wtf ? want apple watch keep gym . begin , watchos installed ?\n",
            "Name: clean_combined_text, dtype: object\n",
            "\n",
            "\n",
            "Cluster 2:\n",
            "4                                                                      iphone plus yes great ios . rule outdated . steps tried since started ? recall started ?\n",
            "5                                                       need answers ’ annoying : upside down_face : we'd like look . model ios . installed ? steps tried far ?\n",
            "13                    ’ got screenshot saying #iphonex reserved rd email saying ’ th happened ? go relief , happy ead send us dm please . let us know country .\n",
            "32    “ ” keep changing stop : woman_facepalming_medium_skin_tone : #anybody definitely understand concern . please backup iphone , update let us know result :\n",
            "36                                               , not time . ’ tried two different apple ids ’ still not showing phone thanks clarifying . let meet dm depth .\n",
            "41                                                      phone app ’ work . thank updating #iphone #ipod want able make calls iphone . exactly going phone app ?\n",
            "49                                                  cupertino , problem . . . . . we'd like see assist . version ios currently running ? released ios . today .\n",
            "55                                                                       ios . ’ getting worse months please meet us dm . we'd like gather additional details .\n",
            "57                                                           iphone + , ios . thank much ! send us dm let us know speaker not work calls , apps affected well .\n",
            "69                              iphone erased added emails dating back til twice past hours . wth ? ? ? happy look . clarify , iphone model exact ios version ?\n",
            "Name: clean_combined_text, dtype: object\n",
            "\n",
            "\n",
            "Cluster 3:\n",
            "9                                                                                                                                                                                       call centres closed night ? received dm continue .\n",
            "10                                                                                                                                                                              hello lines closed tonight #help going ? we're hapy help .\n",
            "11                                                                                                                                                                                       upgraded . ’ work . reach us via dm , take look .\n",
            "20    hola necesito urgente la actualización de software . la batería dura literal medio día :p erson_frowning_medium light_skin_tone :: woman_bowing_medium light_skin_tone : offer support via twitter english . get help spanish : join\n",
            "21                                                                                                                                              hi ! going ? youtube lost ? done ? thanks support ! want help ! dm us let us know issues .\n",
            "22                                                                                                                                                                                                ? hello we'd like get speaking experts :\n",
            "31                                                                                                                                                                                       updated ’ still coming let dig . dm us continue .\n",
            "44                                                                                   epıl bana yardımcı olur musun telefon internet konusunda çok yakıyo napcaz ? offer support via twitter english . contact us help preferred language :\n",
            "45                                                                                                                                                              worked : OK_hand_medium_skin_tone : glad hear reach need help . good one !\n",
            "46                                                                                                                                                       no . . says . update ima go relief , happy ead please keep us posted afterwards .\n",
            "Name: clean_combined_text, dtype: object\n",
            "\n",
            "\n",
            "Cluster 4:\n",
            "6                                   hey anyone else upgraded ios . , ’ issues capital “ ” mail app ? puts “ ” ? hey , let work together figure going . meet us dm continue .\n",
            "8                                                                                                                               tf wrong keyboard fill us happening , help .\n",
            "12            hello , internet . someone explain symbol keeps appearing phone try type letter ? also right place ; help . start , let us know ios version installed via dm :\n",
            "96                  tell ’ ’ updated phone twice ’ type letter without getting letter question mark we're . exact version ios running ? check tapping settings > general > .\n",
            "117                          creates amazing technology talk text still messes % type #fixyourcrap let ’ work together . long happening ? experience similar behavior siri ?\n",
            "118                                                        excuse , someone explain type “ ” alone get question mark ? ? ? happy take look . please send us dm version ios .\n",
            "123    yes . sorry . watched video . beta . . type letter eye happens tried resetting keyboard dictionary yet ? not , go settings > general > reset > reset keyboard library\n",
            "125                                                updated ios . keyboard completely screwed glitchy : man_facepalming : we'd like assist best . mean ios . released today ?\n",
            "130                                                                     “ “ autocorrecting . ? ? annoying ! ’ change settings either we'd love help . let work together dm .\n",
            "164                                                                         hey ’ going letter . start . type happens let look together . begin , completely updated ios . ?\n",
            "Name: clean_combined_text, dtype: object\n",
            "\n",
            "\n",
            "Cluster 5:\n",
            "14                                                                                       iphone plus recent update . make sure , ios . installed currently ? also , steps tried far ? dm us :\n",
            "15                        thank updated phone even slower barely works . thank ruining phone . : face_with_steam_from_nose : we'd like help , need details . happening device model ? ios . ?\n",
            "16                                                                     ios . . let check settings > general > software update . ios . released earlier today . see , please backup & update .\n",
            "23                                                                                                                   yes , . . released ios . . suggest backing & updating . , test issue . :\n",
            "25                                                           hey ! last time downloaded update freaking phone gave hell . recommendations ? we're help . meet us dm check available options .\n",
            "30                                                                                             not work ? ! please fix ! ! ! we'd like look . please dm us current ios version iphone model .\n",
            "38    iphone , yes ios . checked updates , none available . ’ swiped close app several times ’ restarted x make sure , ios . showing : settings > general > > version ? please dm us answer :\n",
            "40                                                                    get white screen nothing loads . short time , closes crashes . thanks reply . model ios . installed ? steps tried far ?\n",
            "43              words even mean thing ; iphone owner updated latest software dropped calls history glitch ’ apps randomly opening #ihelp want help . send us dm letting us know updated ios .\n",
            "47                                                                                            ’ apps fuccin download update apps important want get back enjoying . model ? ios . installed ?\n",
            "Name: clean_combined_text, dtype: object\n",
            "\n",
            "\n",
            "Cluster 6:\n",
            "124                                                                                                                          tried still ’ work ’ work around issue ’ fixed future software update :\n",
            "147                                                                                                                                             ’ work around issue ’ fixed future software update :\n",
            "446                                                                                      please update software tired seeing everytime try type ’ work around issue ’ fixed future software update :\n",
            "448                                                                                        tell keeps stupid shit boxed question mark make stop ’ work around issue ’ fixed future software update :\n",
            "453                                                                                         ’ gone far need able use shit going . not approve . ’ work around issue ’ fixed future software update :\n",
            "455                                                                                                                ’ important letter , . fix . ’ work around issue ’ fixed future software update :\n",
            "456                                                                                                            today would good day fix “ ” bug ’ work around issue ’ fixed future software update :\n",
            "845                                                                                                              fix . bug not present . . . activity continues , please let us know sending us dm .\n",
            "1213    update sucks ! long fix bugs ? ridiculous : frowning_face :: face_with_rolling_eyes :: enraged_face :: face_with_steam_from_nose : let work resolving issues together . dm us happening go .\n",
            "1226                                                                                                                new update still problem notes fix we're always happy help . type issues notes ?\n",
            "Name: clean_combined_text, dtype: object\n",
            "\n",
            "\n",
            "Cluster 7:\n",
            "26                                                                                       not find option get . always playing . dm us specific ios version running currently continue .\n",
            "28                                                                                update #ios no spotify lock screen ? thanks reaching us . experiencing missing app restating device ?\n",
            "52                                     not show music stored phone like os . not want store music phone . certainly want take closer look issue . select following link join us dm go .\n",
            "53                                   watchos made watch pointless browsing music phone via watch % reason buying ’ useless . still able control music iphone watch . check user guide :\n",
            "58                                                                                                 music never control center ? ! we're help ! device version ios currently installed ?\n",
            "73                                                                               keep getting error message saying “ item ’ played ” not know fix we'd like look . song appear greyed ?\n",
            "80                                                                                                             listen ’ issues phone like @ talk we're help . send us dm issue follow .\n",
            "93     ’ download songs . progress icon keeps spinning . data + wifi . stream works though . ’ add songs playlists . want help . restarting help ? dm us ios version continue support .\n",
            "210                updated apple watch . . espn radio etc available usa , ’ get watch uk want help . station may not available . availability live stations varies depending location .\n",
            "221                                          ’ done apple music apple podcast , regardless saved phone streaming want help ! model ios device using ? recent version ios . downloaded ?\n",
            "Name: clean_combined_text, dtype: object\n",
            "\n",
            "\n",
            "Cluster 8:\n",
            "34                                                                                                                                                                                                    thanks , thing still like cents credit not let zero credit try contacting itunes store team help :\n",
            "35                                                                                                                                                                                                                                     hello , need help regarding region change apple id article help :\n",
            "59                                                                                                                                                                             updated ios iphone , icloud backup greyed , cannot turned , says “ last backup never ” check link : send us dm not help .\n",
            "127                                                                                                                                                        updated ipad pro . . worked draft email . none changes saved . started new email . saved disappeared . help please help way . email account ?\n",
            "132                                                                                                                                                                      long take usually account recovery get back ? ’ week . access apple id important . receive email confirmation request ? dm us :\n",
            "151                                                                                                                                    chat ’ seem work germany . order page cannot leave comments … unable access resources , let get connected local applecare support team get online support group :\n",
            "153                                                                                                                                                                                                                  need actual human help understood . help apple id , connect one apple id advisors :\n",
            "154    suck ! upgrade phone & lose apple id . ’ get new id without old & ’ book genius bar help appointment without id ! ! ! #stupid we're happy reached find info need . forgot apple id , go apple id account page : , click \" forgot apple id password ? \" click \" look . \" , follow screen prompts .\n",
            "170                                                                                                                                                                        bought iphones x friday , ’ see charge credit card . worry ’ normal ? thanks reaching us . please send us dm country , look .\n",
            "184                                                                                                                                                   bought itunes gift card worth £ week ago , email still ’ come inbox tell code . helppp we're . need contact itunes store group help itunes codes :\n",
            "Name: clean_combined_text, dtype: object\n",
            "\n",
            "\n",
            "Cluster 9:\n",
            "1                                                        we're . version ios running ? check settings > general > .\n",
            "2                                          tried resetting settings restarting phone let go dm next steps . dm us :\n",
            "18     iphone plus : smiling_face_with_smiling_eyes : thanks ! ios version currently showing settings > general > ?\n",
            "24                  home button ’ work #ios let us help home button . issue start right ios ? version ios running ?\n",
            "27                          app still . no longer able control lockscreen . confirm , happening spotify , correct ?\n",
            "42      ’ change ringer volume buttons ? whose dumb idea change still job ? let us look . device os version using ?\n",
            "50    yes , update . phone got . happen using particular app feature ? let us know via dm . ’ keep moving forward .\n",
            "62               still no reliable bluetooth iphone + . thanks reaching . dm bluetooth device trying connect help .\n",
            "75                                 help . problem iphone : expressionless_face : we're happy help . seems problem ?\n",
            "77                    ’ sorted . thanks . ios update needed change hard reboot we're glad hear sorted . great day .\n",
            "Name: clean_combined_text, dtype: object\n",
            "\n",
            "\n",
            "Cluster 10:\n",
            "0                                                       newest update . made sure download yesterday . lets take closer look issue . select following link join us dm go .\n",
            "3                                                                                                                        looks like steps tried since started last night ?\n",
            "7                                                                                                              happening we'd like investigate . send us dm troubleshoot .\n",
            "17                                              okey . thank ! : smiling_face_with_open_hands : pleasure . still issues back update , contact us back . we're happy help .\n",
            "37                                                                                           home sharing not working fix we're happy help . home sharing worked devices ?\n",
            "60    hi , plugged adapter straight transformer still not charger . charger led not light either . certainly want take closer look . select following link join us dm go .\n",
            "76                                                     idea icons show like ? force reset no avail . initial notification display , show . we're . dm us , look together .\n",
            "79                                  live photo keeps turning camera even ’ set stay . please fix next update . hey , work together figure solution . send us dm continue .\n",
            "92                                                      restarting resolve issue . thanks . we're glad hear resolved issue . not hesitate reach us questions . take care .\n",
            "97                                   new ones tauntingly pretend saved ’ click try send grey screen shows appreciate details . help photos , please reach photos experts :\n",
            "Name: clean_combined_text, dtype: object\n"
          ]
        }
      ]
    }
  ],
  "metadata": {
    "kernelspec": {
      "display_name": "chatbot",
      "language": "python",
      "name": "chatbot"
    },
    "language_info": {
      "codemirror_mode": {
        "name": "ipython",
        "version": 3
      },
      "file_extension": ".py",
      "mimetype": "text/x-python",
      "name": "python",
      "nbconvert_exporter": "python",
      "pygments_lexer": "ipython3",
      "version": "3.7.7"
    },
    "colab": {
      "provenance": [],
      "collapsed_sections": [
        "n_2rfRHx7Zag"
      ],
      "gpuType": "T4"
    },
    "widgets": {
      "application/vnd.jupyter.widget-state+json": {
        "5b83b93474094a27b4130b6be82c3483": {
          "model_module": "@jupyter-widgets/controls",
          "model_name": "HBoxModel",
          "model_module_version": "1.5.0",
          "state": {
            "_dom_classes": [],
            "_model_module": "@jupyter-widgets/controls",
            "_model_module_version": "1.5.0",
            "_model_name": "HBoxModel",
            "_view_count": null,
            "_view_module": "@jupyter-widgets/controls",
            "_view_module_version": "1.5.0",
            "_view_name": "HBoxView",
            "box_style": "",
            "children": [
              "IPY_MODEL_605e2bb94c3f4201bb6cfd039681ff24",
              "IPY_MODEL_0bd4909b00d5430eaa317683319d22d6",
              "IPY_MODEL_74a2350ab0e44de58abbd1785caeb90a"
            ],
            "layout": "IPY_MODEL_c865389ddc6240e2b877186ea083d1c0"
          }
        },
        "605e2bb94c3f4201bb6cfd039681ff24": {
          "model_module": "@jupyter-widgets/controls",
          "model_name": "HTMLModel",
          "model_module_version": "1.5.0",
          "state": {
            "_dom_classes": [],
            "_model_module": "@jupyter-widgets/controls",
            "_model_module_version": "1.5.0",
            "_model_name": "HTMLModel",
            "_view_count": null,
            "_view_module": "@jupyter-widgets/controls",
            "_view_module_version": "1.5.0",
            "_view_name": "HTMLView",
            "description": "",
            "description_tooltip": null,
            "layout": "IPY_MODEL_0ad742ad715b4704a4f75507fb56a415",
            "placeholder": "​",
            "style": "IPY_MODEL_69e7f931cd1e4045b1a92433540634dd",
            "value": ""
          }
        },
        "0bd4909b00d5430eaa317683319d22d6": {
          "model_module": "@jupyter-widgets/controls",
          "model_name": "FloatProgressModel",
          "model_module_version": "1.5.0",
          "state": {
            "_dom_classes": [],
            "_model_module": "@jupyter-widgets/controls",
            "_model_module_version": "1.5.0",
            "_model_name": "FloatProgressModel",
            "_view_count": null,
            "_view_module": "@jupyter-widgets/controls",
            "_view_module_version": "1.5.0",
            "_view_name": "ProgressView",
            "bar_style": "success",
            "description": "",
            "description_tooltip": null,
            "layout": "IPY_MODEL_4f1e1b960cca41298c9c6cabb071ae90",
            "max": 1,
            "min": 0,
            "orientation": "horizontal",
            "style": "IPY_MODEL_6ab5a9738d4f4e9797df264b234d4850",
            "value": 0
          }
        },
        "74a2350ab0e44de58abbd1785caeb90a": {
          "model_module": "@jupyter-widgets/controls",
          "model_name": "HTMLModel",
          "model_module_version": "1.5.0",
          "state": {
            "_dom_classes": [],
            "_model_module": "@jupyter-widgets/controls",
            "_model_module_version": "1.5.0",
            "_model_name": "HTMLModel",
            "_view_count": null,
            "_view_module": "@jupyter-widgets/controls",
            "_view_module_version": "1.5.0",
            "_view_name": "HTMLView",
            "description": "",
            "description_tooltip": null,
            "layout": "IPY_MODEL_a71e87ed02fc43e59382f9b37480368e",
            "placeholder": "​",
            "style": "IPY_MODEL_d0a9f2990309444f9b7970e52ee5bd76",
            "value": " 0/? [02:39&lt;?, ?it/s]"
          }
        },
        "c865389ddc6240e2b877186ea083d1c0": {
          "model_module": "@jupyter-widgets/base",
          "model_name": "LayoutModel",
          "model_module_version": "1.2.0",
          "state": {
            "_model_module": "@jupyter-widgets/base",
            "_model_module_version": "1.2.0",
            "_model_name": "LayoutModel",
            "_view_count": null,
            "_view_module": "@jupyter-widgets/base",
            "_view_module_version": "1.2.0",
            "_view_name": "LayoutView",
            "align_content": null,
            "align_items": null,
            "align_self": null,
            "border": null,
            "bottom": null,
            "display": null,
            "flex": null,
            "flex_flow": null,
            "grid_area": null,
            "grid_auto_columns": null,
            "grid_auto_flow": null,
            "grid_auto_rows": null,
            "grid_column": null,
            "grid_gap": null,
            "grid_row": null,
            "grid_template_areas": null,
            "grid_template_columns": null,
            "grid_template_rows": null,
            "height": null,
            "justify_content": null,
            "justify_items": null,
            "left": null,
            "margin": null,
            "max_height": null,
            "max_width": null,
            "min_height": null,
            "min_width": null,
            "object_fit": null,
            "object_position": null,
            "order": null,
            "overflow": null,
            "overflow_x": null,
            "overflow_y": null,
            "padding": null,
            "right": null,
            "top": null,
            "visibility": null,
            "width": null
          }
        },
        "0ad742ad715b4704a4f75507fb56a415": {
          "model_module": "@jupyter-widgets/base",
          "model_name": "LayoutModel",
          "model_module_version": "1.2.0",
          "state": {
            "_model_module": "@jupyter-widgets/base",
            "_model_module_version": "1.2.0",
            "_model_name": "LayoutModel",
            "_view_count": null,
            "_view_module": "@jupyter-widgets/base",
            "_view_module_version": "1.2.0",
            "_view_name": "LayoutView",
            "align_content": null,
            "align_items": null,
            "align_self": null,
            "border": null,
            "bottom": null,
            "display": null,
            "flex": null,
            "flex_flow": null,
            "grid_area": null,
            "grid_auto_columns": null,
            "grid_auto_flow": null,
            "grid_auto_rows": null,
            "grid_column": null,
            "grid_gap": null,
            "grid_row": null,
            "grid_template_areas": null,
            "grid_template_columns": null,
            "grid_template_rows": null,
            "height": null,
            "justify_content": null,
            "justify_items": null,
            "left": null,
            "margin": null,
            "max_height": null,
            "max_width": null,
            "min_height": null,
            "min_width": null,
            "object_fit": null,
            "object_position": null,
            "order": null,
            "overflow": null,
            "overflow_x": null,
            "overflow_y": null,
            "padding": null,
            "right": null,
            "top": null,
            "visibility": null,
            "width": null
          }
        },
        "69e7f931cd1e4045b1a92433540634dd": {
          "model_module": "@jupyter-widgets/controls",
          "model_name": "DescriptionStyleModel",
          "model_module_version": "1.5.0",
          "state": {
            "_model_module": "@jupyter-widgets/controls",
            "_model_module_version": "1.5.0",
            "_model_name": "DescriptionStyleModel",
            "_view_count": null,
            "_view_module": "@jupyter-widgets/base",
            "_view_module_version": "1.2.0",
            "_view_name": "StyleView",
            "description_width": ""
          }
        },
        "4f1e1b960cca41298c9c6cabb071ae90": {
          "model_module": "@jupyter-widgets/base",
          "model_name": "LayoutModel",
          "model_module_version": "1.2.0",
          "state": {
            "_model_module": "@jupyter-widgets/base",
            "_model_module_version": "1.2.0",
            "_model_name": "LayoutModel",
            "_view_count": null,
            "_view_module": "@jupyter-widgets/base",
            "_view_module_version": "1.2.0",
            "_view_name": "LayoutView",
            "align_content": null,
            "align_items": null,
            "align_self": null,
            "border": null,
            "bottom": null,
            "display": null,
            "flex": null,
            "flex_flow": null,
            "grid_area": null,
            "grid_auto_columns": null,
            "grid_auto_flow": null,
            "grid_auto_rows": null,
            "grid_column": null,
            "grid_gap": null,
            "grid_row": null,
            "grid_template_areas": null,
            "grid_template_columns": null,
            "grid_template_rows": null,
            "height": null,
            "justify_content": null,
            "justify_items": null,
            "left": null,
            "margin": null,
            "max_height": null,
            "max_width": null,
            "min_height": null,
            "min_width": null,
            "object_fit": null,
            "object_position": null,
            "order": null,
            "overflow": null,
            "overflow_x": null,
            "overflow_y": null,
            "padding": null,
            "right": null,
            "top": null,
            "visibility": null,
            "width": "20px"
          }
        },
        "6ab5a9738d4f4e9797df264b234d4850": {
          "model_module": "@jupyter-widgets/controls",
          "model_name": "ProgressStyleModel",
          "model_module_version": "1.5.0",
          "state": {
            "_model_module": "@jupyter-widgets/controls",
            "_model_module_version": "1.5.0",
            "_model_name": "ProgressStyleModel",
            "_view_count": null,
            "_view_module": "@jupyter-widgets/base",
            "_view_module_version": "1.2.0",
            "_view_name": "StyleView",
            "bar_color": null,
            "description_width": ""
          }
        },
        "a71e87ed02fc43e59382f9b37480368e": {
          "model_module": "@jupyter-widgets/base",
          "model_name": "LayoutModel",
          "model_module_version": "1.2.0",
          "state": {
            "_model_module": "@jupyter-widgets/base",
            "_model_module_version": "1.2.0",
            "_model_name": "LayoutModel",
            "_view_count": null,
            "_view_module": "@jupyter-widgets/base",
            "_view_module_version": "1.2.0",
            "_view_name": "LayoutView",
            "align_content": null,
            "align_items": null,
            "align_self": null,
            "border": null,
            "bottom": null,
            "display": null,
            "flex": null,
            "flex_flow": null,
            "grid_area": null,
            "grid_auto_columns": null,
            "grid_auto_flow": null,
            "grid_auto_rows": null,
            "grid_column": null,
            "grid_gap": null,
            "grid_row": null,
            "grid_template_areas": null,
            "grid_template_columns": null,
            "grid_template_rows": null,
            "height": null,
            "justify_content": null,
            "justify_items": null,
            "left": null,
            "margin": null,
            "max_height": null,
            "max_width": null,
            "min_height": null,
            "min_width": null,
            "object_fit": null,
            "object_position": null,
            "order": null,
            "overflow": null,
            "overflow_x": null,
            "overflow_y": null,
            "padding": null,
            "right": null,
            "top": null,
            "visibility": null,
            "width": null
          }
        },
        "d0a9f2990309444f9b7970e52ee5bd76": {
          "model_module": "@jupyter-widgets/controls",
          "model_name": "DescriptionStyleModel",
          "model_module_version": "1.5.0",
          "state": {
            "_model_module": "@jupyter-widgets/controls",
            "_model_module_version": "1.5.0",
            "_model_name": "DescriptionStyleModel",
            "_view_count": null,
            "_view_module": "@jupyter-widgets/base",
            "_view_module_version": "1.2.0",
            "_view_name": "StyleView",
            "description_width": ""
          }
        }
      }
    },
    "accelerator": "GPU"
  },
  "nbformat": 4,
  "nbformat_minor": 0
}